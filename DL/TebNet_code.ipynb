{
 "cells": [
  {
   "cell_type": "markdown",
   "id": "7d3ff54f",
   "metadata": {},
   "source": [
    "### Model Parmeters\n",
    "\n",
    "* n_d : int (default=8) \n",
    "\n",
    "Width of the decision prediction layer. Bigger values gives more capacity to the model with the risk of overfitting. Values typically range from 8 to 64.\n",
    "\n",
    "* n_a: int (default=8)\n",
    "\n",
    "Width of the attention embedding for each mask. According to the paper n_d=n_a is usually a good choice. (default=8)\n",
    "\n",
    "* n_steps : int (default=3)\n",
    "\n",
    "Number of steps in the architecture (usually between 3 and 10)\n",
    "\n",
    "* gamma : float (default=1.3)\n",
    "\n",
    "This is the coefficient for feature reusage in the masks. A value close to 1 will make mask selection least correlated between layers. Values range from 1.0 to 2.0.\n",
    "\n",
    "* cat_idxs : list of int (default=[] - Mandatory for embeddings)\n",
    "\n",
    "List of categorical features indices.\n",
    "\n",
    "* cat_dims : list of int (default=[] - Mandatory for embeddings)\n",
    "\n",
    "List of categorical features number of modalities (number of unique values for a categorical feature) /!\\ no new modalities can be predicted\n",
    "\n",
    "* cat_emb_dim : list of int (optional)\n",
    "\n",
    "List of embeddings size for each categorical features. (default =1)\n",
    "\n",
    "* n_independent : int (default=2)\n",
    "\n",
    "Number of independent Gated Linear Units layers at each step. Usual values range from 1 to 5.\n",
    "\n",
    "* n_shared : int (default=2)\n",
    "\n",
    "Number of shared Gated Linear Units at each step Usual values range from 1 to 5\n",
    "\n",
    "* epsilon : float (default 1e-15)\n",
    "\n",
    "Should be left untouched.\n",
    "\n",
    "* seed : int (default=0)\n",
    "\n",
    "Random seed for reproducibility\n",
    "\n",
    "* momentum : float\n",
    "\n",
    "Momentum for batch normalization, typically ranges from 0.01 to 0.4 (default=0.02)\n",
    "\n",
    "* clip_value : float (default None)\n",
    "\n",
    "If a float is given this will clip the gradient at clip_value.\n",
    "\n",
    "* lambda_sparse : float (default = 1e-3)\n",
    "\n",
    "This is the extra sparsity loss coefficient as proposed in the original paper. The bigger this coefficient is, the sparser your model will be in terms of feature selection. Depending on the difficulty of your problem, reducing this value could help.\n",
    "\n",
    "* optimizer_fn : torch.optim (default=torch.optim.Adam)\n",
    "\n",
    "Pytorch optimizer function\n",
    "\n",
    "* optimizer_params: dict (default=dict(lr=2e-2))\n",
    "\n",
    "Parameters compatible with optimizer_fn used initialize the optimizer. Since we have Adam as our default optimizer, we use this to define the initial learning rate used for training. As mentionned in the original paper, a large initial learning rate of 0.02 with decay is a good option.\n",
    "\n",
    "* scheduler_fn : torch.optim.lr_scheduler (default=None)\n",
    "\n",
    "Pytorch Scheduler to change learning rates during training.\n",
    "\n",
    "* scheduler_params : dict\n",
    "\n",
    "Dictionnary of parameters to apply to the scheduler_fn. Ex : {\"gamma\": 0.95, \"step_size\": 10}\n",
    "\n",
    "* model_name : str (default = 'DreamQuarkTabNet')\n",
    "\n",
    "Name of the model used for saving in disk, you can customize this to easily retrieve and reuse your trained models.\n",
    "\n",
    "* verbose : int (default=1)\n",
    "\n",
    "Verbosity for notebooks plots, set to 1 to see every epoch, 0 to get None.\n",
    "\n",
    "* device_name : str (default='auto') 'cpu' for cpu training, 'gpu' for gpu training, 'auto' to automatically detect gpu.  \n",
    "\n",
    "\n",
    "* mask_type: str (default='sparsemax') Either \"sparsemax\" or \"entmax\" : this is the masking function to use for selecting features.  \n",
    "\n",
    "\n",
    "* n_shared_decoder : int (default=1)  \n",
    "\n",
    "Number of shared GLU block in decoder, this is only useful for TabNetPretrainer.\n",
    "\n",
    "* n_indep_decoder : int (default=1)\n",
    "\n",
    "Number of independent GLU block in decoder, this is only useful for TabNetPretrainer."
   ]
  },
  {
   "cell_type": "markdown",
   "id": "62d60cec",
   "metadata": {},
   "source": [
    "### Fit parameters\n",
    "\n",
    "* X_train : np.array\n",
    "\n",
    "Training features\n",
    "\n",
    "* y_train : np.array\n",
    "\n",
    "Training targets\n",
    "\n",
    "* eval_set: list of tuple\n",
    "\n",
    "List of eval tuple set (X, y).\n",
    "The last one is used for early stopping\n",
    "\n",
    "* eval_name: list of str\n",
    "List of eval set names.\n",
    "\n",
    "* eval_metric : list of str\n",
    "List of evaluation metrics.\n",
    "The last metric is used for early stopping.\n",
    "\n",
    "* max_epochs : int (default = 200)\n",
    "\n",
    "Maximum number of epochs for trainng.\n",
    "\n",
    "* patience : int (default = 10)\n",
    "\n",
    "Number of consecutive epochs without improvement before performing early stopping.\n",
    "\n",
    "If patience is set to 0, then no early stopping will be performed.\n",
    "\n",
    "Note that if patience is enabled, then best weights from best epoch will automatically be loaded at the end of fit.\n",
    "\n",
    "* weights : int or dict (default=0)\n",
    "\n",
    "/!\\ Only for TabNetClassifier Sampling parameter 0 : no sampling 1 : automated sampling with inverse class occurrences dict : keys are classes, values are weights for each class\n",
    "\n",
    "* loss_fn : torch.loss or list of torch.loss\n",
    "\n",
    "Loss function for training (default to mse for regression and cross entropy for classification) When using TabNetMultiTaskClassifier you can set a list of same length as number of tasks, each task will be assigned its own loss function\n",
    "\n",
    "* batch_size : int (default=1024)\n",
    "\n",
    "Number of examples per batch. Large batch sizes are recommended.\n",
    "\n",
    "* virtual_batch_size : int (default=128)\n",
    "\n",
    "Size of the mini batches used for \"Ghost Batch Normalization\". /!\\ virtual_batch_size should divide batch_size\n",
    "\n",
    "* num_workers : int (default=0)\n",
    "\n",
    "Number or workers used in torch.utils.data.Dataloader\n",
    "\n",
    "* drop_last : bool (default=False)\n",
    "\n",
    "Whether to drop last batch if not complete during training\n",
    "\n",
    "* callbacks : list of callback function\n",
    "List of custom callbacks\n",
    "\n",
    "pretraining_ratio : float\n",
    "\n",
    "\n",
    "*  warm_start : bool (default=False) In order to match scikit-learn API, this is set to False. It allows to fit twice the same model and start from a warm start."
   ]
  },
  {
   "cell_type": "code",
   "execution_count": 1,
   "id": "e3365aca",
   "metadata": {},
   "outputs": [],
   "source": [
    "import pandas as pd\n",
    "import numpy as np\n",
    "import matplotlib.pyplot as plt\n",
    "import seaborn as sns\n",
    "%matplotlib inline\n",
    "\n",
    "import warnings\n",
    "warnings.filterwarnings(action='ignore')\n",
    "\n",
    "from pytorch_tabnet.tab_model import TabNetClassifier\n",
    "import torch\n",
    "from sklearn.preprocessing import LabelEncoder\n",
    "from sklearn.metrics import roc_auc_score, log_loss\n",
    "from sklearn.model_selection import train_test_split\n",
    "np.random.seed(0)\n",
    "\n",
    "\n",
    "import os\n",
    "import wget\n",
    "from pathlib import Path\n",
    "import shutil\n",
    "import gzip\n"
   ]
  },
  {
   "cell_type": "markdown",
   "id": "cb91749c",
   "metadata": {},
   "source": [
    "#### Download ForestCoverType dataset"
   ]
  },
  {
   "cell_type": "code",
   "execution_count": 2,
   "id": "16eb6404",
   "metadata": {},
   "outputs": [],
   "source": [
    "url = \"https://archive.ics.uci.edu/ml/machine-learning-databases/covtype/covtype.data.gz\"\n",
    "\n",
    "dataset_name = 'forest-cover-type'\n",
    "tmp_out = Path('./data/'+dataset_name+'.gz')\n",
    "out = Path(os.getcwd()+'/data/'+dataset_name+'.csv')"
   ]
  },
  {
   "cell_type": "code",
   "execution_count": 3,
   "id": "5a1bb612",
   "metadata": {},
   "outputs": [
    {
     "name": "stdout",
     "output_type": "stream",
     "text": [
      "File already exists\n"
     ]
    }
   ],
   "source": [
    "out.parent.mkdir(parents = True , exist_ok = True)\n",
    "if out.exists() :\n",
    "    print('File already exists')\n",
    "else : \n",
    "    print(\"Downloading file...\")\n",
    "    wget.download(url, tmp_out.as_posix())\n",
    "    with gzip.open(tmp_out, 'rb') as f_in:\n",
    "        with open(out, 'wb') as f_out:\n",
    "            shutil.copyfileobj(f_in, f_out)\n",
    "    "
   ]
  },
  {
   "cell_type": "markdown",
   "id": "c982107e",
   "metadata": {},
   "source": [
    "#### Load data and split "
   ]
  },
  {
   "cell_type": "code",
   "execution_count": 4,
   "id": "268adc5b",
   "metadata": {},
   "outputs": [],
   "source": [
    "target = \"Covertype\"\n",
    "\n",
    "bool_columns = [\n",
    "    \"Wilderness_Area1\", \"Wilderness_Area2\", \"Wilderness_Area3\",\n",
    "    \"Wilderness_Area4\", \"Soil_Type1\", \"Soil_Type2\", \"Soil_Type3\", \"Soil_Type4\",\n",
    "    \"Soil_Type5\", \"Soil_Type6\", \"Soil_Type7\", \"Soil_Type8\", \"Soil_Type9\",\n",
    "    \"Soil_Type10\", \"Soil_Type11\", \"Soil_Type12\", \"Soil_Type13\", \"Soil_Type14\",\n",
    "    \"Soil_Type15\", \"Soil_Type16\", \"Soil_Type17\", \"Soil_Type18\", \"Soil_Type19\",\n",
    "    \"Soil_Type20\", \"Soil_Type21\", \"Soil_Type22\", \"Soil_Type23\", \"Soil_Type24\",\n",
    "    \"Soil_Type25\", \"Soil_Type26\", \"Soil_Type27\", \"Soil_Type28\", \"Soil_Type29\",\n",
    "    \"Soil_Type30\", \"Soil_Type31\", \"Soil_Type32\", \"Soil_Type33\", \"Soil_Type34\",\n",
    "    \"Soil_Type35\", \"Soil_Type36\", \"Soil_Type37\", \"Soil_Type38\", \"Soil_Type39\",\n",
    "    \"Soil_Type40\"\n",
    "]\n",
    "\n",
    "int_columns = [\n",
    "    \"Elevation\", \"Aspect\", \"Slope\", \"Horizontal_Distance_To_Hydrology\",\n",
    "    \"Vertical_Distance_To_Hydrology\", \"Horizontal_Distance_To_Roadways\",\n",
    "    \"Hillshade_9am\", \"Hillshade_Noon\", \"Hillshade_3pm\",\n",
    "    \"Horizontal_Distance_To_Fire_Points\"\n",
    "]\n",
    "\n",
    "feature_columns = (\n",
    "    int_columns + bool_columns + [target])"
   ]
  },
  {
   "cell_type": "code",
   "execution_count": 5,
   "id": "0dfac718",
   "metadata": {},
   "outputs": [],
   "source": [
    "train = pd.read_csv(out,  header = None, names = feature_columns)\n",
    "\n",
    "n_total = len(train)\n",
    "\n",
    "# Train, val and test split follows\n",
    "# Rory Mitchell, Andrey Adinets, Thejaswi Rao, and Eibe Frank.\n",
    "# Xgboost: Scalable GPU accelerated learning. arXiv:1806.11248, 2018.\n",
    "\n",
    "train_val_indices , test_indices = train_test_split ( range(n_total), test_size = 0.2, random_state= 0)\n",
    "train_indices, valid_indices = train_test_split( train_val_indices, test_size= 0.2 / 0.6, random_state= 0)"
   ]
  },
  {
   "cell_type": "markdown",
   "id": "a6bc2e2f",
   "metadata": {},
   "source": [
    "#### simple preprocessing "
   ]
  },
  {
   "cell_type": "code",
   "execution_count": 6,
   "id": "ae9d0e14",
   "metadata": {},
   "outputs": [],
   "source": [
    "categorical_columns = [ ]\n",
    "categorical_dims = {}\n",
    "\n",
    "for col in train.columns[train.dtypes == object]:\n",
    "    print(col, train[col].nunique())\n",
    "    l_enc = LabelEncoder()\n",
    "    train[col] = train[col].fillna(\"VV_likely\")\n",
    "    train[col] = l_enc.fit_transform(train[col].values)\n",
    "    categorical_columns.append(col)\n",
    "    categorical_dims[col] = len(l_enc.classes_)\n",
    "\n",
    "for col in train.columns[train.dtypes == 'float64']:\n",
    "    train.fillna(train.loc[train_indices, col].mean(), inplace=True)"
   ]
  },
  {
   "cell_type": "markdown",
   "id": "60941254",
   "metadata": {},
   "source": [
    "#### Define categorical features for categorical embeddings"
   ]
  },
  {
   "cell_type": "code",
   "execution_count": 7,
   "id": "a61a03f3",
   "metadata": {},
   "outputs": [],
   "source": [
    "unused_feat = []\n",
    "\n",
    "features = [ col for col in train.columns if col not in unused_feat+[target]] \n",
    "\n",
    "cat_idxs = [ i for i, f in enumerate(features) if f in categorical_columns]\n",
    "\n",
    "cat_dims = [ categorical_dims[f] for i, f in enumerate(features) if f in categorical_columns]"
   ]
  },
  {
   "cell_type": "markdown",
   "id": "77fe1043",
   "metadata": {},
   "source": [
    "#### Network parameters "
   ]
  },
  {
   "cell_type": "code",
   "execution_count": 8,
   "id": "2fde1663",
   "metadata": {},
   "outputs": [
    {
     "name": "stdout",
     "output_type": "stream",
     "text": [
      "Device used : cpu\n"
     ]
    }
   ],
   "source": [
    "clf = TabNetMultiTaskClassifier(n_steps=1,\n",
    "                                cat_idxs=cat_idxs,\n",
    "                                cat_dims=cat_dims,\n",
    "                                cat_emb_dim=1,\n",
    "                                optimizer_fn=torch.optim.Adam,\n",
    "                                optimizer_params=dict(lr=2e-2),\n",
    "                                scheduler_params={\"step_size\":50, # how to use learning rate scheduler\n",
    "                                                  \"gamma\":0.9},\n",
    "                                scheduler_fn=torch.optim.lr_scheduler.StepLR,\n",
    "                                mask_type='entmax', # \"sparsemax\",\n",
    "                                lambda_sparse=0, # don't penalize for sparser attention\n",
    "                       \n",
    "                      )"
   ]
  },
  {
   "cell_type": "markdown",
   "id": "b6b4dbf3",
   "metadata": {},
   "source": [
    "#### Traing "
   ]
  },
  {
   "cell_type": "code",
   "execution_count": 9,
   "id": "2d59e34f",
   "metadata": {},
   "outputs": [],
   "source": [
    "if os.getenv(\"CI\", False):\n",
    "# Take only a subsample to run CI\n",
    "    X_train = train[features].values[train_indices][:1000,:]\n",
    "    y_train = train[target].values[train_indices][:1000]\n",
    "else:\n",
    "    X_train = train[features].values[train_indices]\n",
    "    y_train = train[target].values[train_indices]\n",
    "\n",
    "X_valid = train[features].values[valid_indices]\n",
    "y_valid = train[target].values[valid_indices]\n",
    "\n",
    "X_test = train[features].values[test_indices]\n",
    "y_test = train[target].values[test_indices]"
   ]
  },
  {
   "cell_type": "code",
   "execution_count": 10,
   "id": "2881bce8",
   "metadata": {},
   "outputs": [],
   "source": [
    "max_epochs = 50 if not os.getenv(\"CI\", False) else 2"
   ]
  },
  {
   "cell_type": "code",
   "execution_count": null,
   "id": "f90a7435",
   "metadata": {},
   "outputs": [],
   "source": [
    "clf.fit(\n",
    "   X_train=X_train, y_train=y_train,\n",
    "    eval_set=[(X_train, y_train), (X_valid, y_valid)],\n",
    "    eval_name=['train', 'valid'],\n",
    "    max_epochs=max_epochs ,\n",
    "    patience=50, # please be patient ^^\n",
    "    batch_size=1024,\n",
    "    virtual_batch_size=128,\n",
    "    num_workers=1,\n",
    "    drop_last=False\n",
    ")"
   ]
  },
  {
   "cell_type": "code",
   "execution_count": null,
   "id": "4177d7fe",
   "metadata": {},
   "outputs": [],
   "source": [
    "# plot losses\n",
    "plt.plot(clf.history['loss'])"
   ]
  },
  {
   "cell_type": "code",
   "execution_count": null,
   "id": "b13a0046",
   "metadata": {},
   "outputs": [],
   "source": [
    "# plot accuracy\n",
    "plt.plot(clf.history['train_accuracy'])\n",
    "plt.plot(clf.history['valid_accuracy'])"
   ]
  },
  {
   "cell_type": "code",
   "execution_count": null,
   "id": "025ac10e",
   "metadata": {},
   "outputs": [],
   "source": [
    "# To get final results you may need to use a mapping for classes \n",
    "# as you are allowed to use targets like [\"yes\", \"no\", \"maybe\", \"I don't know\"]\n",
    "\n",
    "preds_mapper = { idx : class_name for idx, class_name in enumerate(clf.classes_)}\n",
    "\n",
    "preds = clf.predict_proba(X_test)\n",
    "\n",
    "y_pred = np.vectorize(preds_mapper.get)(np.argmax(preds, axis=1))\n",
    "\n",
    "test_acc = accuracy_score(y_pred=y_pred, y_true=y_test)\n",
    "\n",
    "print(f\"BEST VALID SCORE FOR {dataset_name} : {clf.best_cost}\")\n",
    "print(f\"FINAL TEST SCORE FOR {dataset_name} : {test_acc}\")"
   ]
  },
  {
   "cell_type": "code",
   "execution_count": null,
   "id": "536ac084",
   "metadata": {},
   "outputs": [],
   "source": [
    "# or you can simply use the predict method\n",
    "\n",
    "y_pred = clf.predict(X_test)\n",
    "test_acc = accuracy_score(y_pred=y_pred, y_true=y_test)\n",
    "print(f\"FINAL TEST SCORE FOR {dataset_name} : {test_acc}\")"
   ]
  }
 ],
 "metadata": {
  "kernelspec": {
   "display_name": "Python 3",
   "language": "python",
   "name": "python3"
  },
  "language_info": {
   "codemirror_mode": {
    "name": "ipython",
    "version": 3
   },
   "file_extension": ".py",
   "mimetype": "text/x-python",
   "name": "python",
   "nbconvert_exporter": "python",
   "pygments_lexer": "ipython3",
   "version": "3.8.13"
  }
 },
 "nbformat": 4,
 "nbformat_minor": 5
}
