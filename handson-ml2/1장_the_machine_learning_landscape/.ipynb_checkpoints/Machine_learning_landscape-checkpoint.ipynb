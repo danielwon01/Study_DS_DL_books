{
 "cells": [
  {
   "cell_type": "markdown",
   "id": "09df2b78",
   "metadata": {},
   "source": [
    "## 머신러닝이란 \n",
    "* 명시적인 프로그래밍 없이 컴퓨터가 학습하는 능력을 갖추게 하는 연구 분야"
   ]
  },
  {
   "cell_type": "markdown",
   "id": "6692c5fa",
   "metadata": {},
   "source": [
    "## 데이터 마이닝 \n",
    "* 머신러닝 기술을 적용해서 대용량의 데이터를 분석하면 겉으로 보이지 않은 패턴을 발견할 수 있다."
   ]
  },
  {
   "cell_type": "markdown",
   "id": "244e63ec",
   "metadata": {},
   "source": [
    "### 머신러닝의 종류\n",
    "* 훈련 감독 방법 : 지도학습, 비지도학습, 준지도 학습, 강화학습\n",
    "* 훈련시점 : 온라인 학습과 배치 학습\n",
    "* 모델생성 : 사례기반 학습과 모델 기반학습"
   ]
  },
  {
   "cell_type": "markdown",
   "id": "2953460c",
   "metadata": {},
   "source": [
    "### 지도학습\n",
    "* 알고리즘에 주입하는 훈련데이터에 레이블이라는 원하는 답이 포함  ,**분류와 회귀**로 나뉜다."
   ]
  },
  {
   "cell_type": "markdown",
   "id": "9ca1f1a6",
   "metadata": {},
   "source": [
    "### 비지도학습\n",
    "* 훈련데이터에 레이블이 없는 학습"
   ]
  },
  {
   "cell_type": "markdown",
   "id": "20ff2e5c",
   "metadata": {},
   "source": [
    "### 준지도학습\n",
    "* 일부만 레이블이 있는 데이터를 사용하는 학습 , 대부분의 준지도학습 알고리즘은 지도학습과 비지도 학습의 조합으로 이루어져 있다."
   ]
  },
  {
   "cell_type": "markdown",
   "id": "f7aa869c",
   "metadata": {},
   "source": [
    "### 강화학습\n",
    "* 학습하는 시스템을 에이전트라고 부르며 환경을 관찰해서 행동을 실행하고 그 결과로 보상 또는 벌점을 받는다. 시간이 지나면서 가장 큰 보상을 얻기 위해 정책이라고 부르는 최사의 전략을 스스로 학습한다. 정책은 주어진 상황에서 에이전트가 어떤 행동을 선택해야 할지 정의 한다."
   ]
  },
  {
   "cell_type": "markdown",
   "id": "d5da0b97",
   "metadata": {},
   "source": [
    "### 온라인 학습과 배치학습 \n",
    "\n",
    "#### 온라인 학습\n",
    "* 적은 데이터를 사용해 점진적으로 훈련한다.\n",
    "* 실시간 시스템이나 메모리가 부족한 경우에 사용한다.\n",
    "\n",
    "#### 배치학습 \n",
    "* 전체 데이터를 사용해 오프라인에서 훈련한다.\n",
    "* 컴퓨팅 자원이 풍부한 경우에 사용한다."
   ]
  },
  {
   "cell_type": "markdown",
   "id": "5ff3aba3",
   "metadata": {},
   "source": [
    "### 사례기반 학습과 모델기반 학습 \n",
    "\n",
    "#### 사례기반 학습 \n",
    "* 샘플을 기억하는 것이 훈련이다.\n",
    "* 예측을 위해 샘플 사이의 유사도를 측정한다.\n",
    "\n",
    "#### 모델기반 학습 \n",
    "* 샘플을 사용해 모델을 훈련한다.\n",
    "* 훈련된 모델을 사용해 예측한다."
   ]
  },
  {
   "cell_type": "markdown",
   "id": "e01a0fd5",
   "metadata": {},
   "source": [
    "### 선형모델"
   ]
  },
  {
   "cell_type": "code",
   "execution_count": 1,
   "id": "2a04c63a",
   "metadata": {},
   "outputs": [],
   "source": [
    "import numpy as np\n",
    "import pandas as pd\n",
    "import seaborn as sns\n",
    "import matplotlib.pyplot as plt\n",
    "import warnings\n",
    "warnings.filterwarnings(action='ignore')"
   ]
  },
  {
   "cell_type": "code",
   "execution_count": 2,
   "id": "76d0c5cb",
   "metadata": {},
   "outputs": [],
   "source": [
    "# 함수는 OECD의 삶의 만족도(life satisfaction) 데이터와 IMF의 1인당 GDP(GDP per capita) 데이터를 합칩니다\n",
    "\n",
    "def prepare_country_stats(oecd_bli, gdp_per_capita):\n",
    "    oecd_bli = oecd_bli[oecd_bli[\"INEQUALITY\"]==\"TOT\"]\n",
    "    oecd_bli = oecd_bli.pivot(index=\"Country\", columns=\"Indicator\", values=\"Value\")\n",
    "    gdp_per_capita.rename(columns={\"2015\": \"GDP per capita\"}, inplace=True)\n",
    "    gdp_per_capita.set_index(\"Country\", inplace=True)\n",
    "    full_country_stats = pd.merge(left=oecd_bli, right=gdp_per_capita,\n",
    "                                  left_index=True, right_index=True)\n",
    "    full_country_stats.sort_values(by=\"GDP per capita\", inplace=True)\n",
    "    remove_indices = [0, 1, 6, 8, 33, 34, 35]\n",
    "    keep_indices = list(set(range(36)) - set(remove_indices))\n",
    "    return full_country_stats[[\"GDP per capita\", 'Life satisfaction']].iloc[keep_indices]"
   ]
  },
  {
   "cell_type": "code",
   "execution_count": 3,
   "id": "2d9cea3d",
   "metadata": {},
   "outputs": [],
   "source": [
    "# 주피터에 그래프를 깔끔하게 그리기 위해서\n",
    "%matplotlib inline\n",
    "import matplotlib as mpl\n",
    "mpl.rc('axes', labelsize=14)\n",
    "mpl.rc('xtick', labelsize=12)\n",
    "mpl.rc('ytick', labelsize=12)"
   ]
  },
  {
   "cell_type": "code",
   "execution_count": 4,
   "id": "05093340",
   "metadata": {},
   "outputs": [],
   "source": [
    "# 데이터 적재\n",
    "oecd_bli = pd.read_csv(\"data/oecd_bli_2015.csv\", thousands=',')\n",
    "gdp_per_capita = pd.read_csv(\"data/gdp_per_capita.csv\",thousands=',',delimiter='\\t',\n",
    "                             encoding='latin1', na_values=\"n/a\")"
   ]
  },
  {
   "cell_type": "code",
   "execution_count": 5,
   "id": "04c89ad7",
   "metadata": {},
   "outputs": [
    {
     "data": {
      "text/html": [
       "<div>\n",
       "<style scoped>\n",
       "    .dataframe tbody tr th:only-of-type {\n",
       "        vertical-align: middle;\n",
       "    }\n",
       "\n",
       "    .dataframe tbody tr th {\n",
       "        vertical-align: top;\n",
       "    }\n",
       "\n",
       "    .dataframe thead th {\n",
       "        text-align: right;\n",
       "    }\n",
       "</style>\n",
       "<table border=\"1\" class=\"dataframe\">\n",
       "  <thead>\n",
       "    <tr style=\"text-align: right;\">\n",
       "      <th></th>\n",
       "      <th>LOCATION</th>\n",
       "      <th>Country</th>\n",
       "      <th>INDICATOR</th>\n",
       "      <th>Indicator</th>\n",
       "      <th>MEASURE</th>\n",
       "      <th>Measure</th>\n",
       "      <th>INEQUALITY</th>\n",
       "      <th>Inequality</th>\n",
       "      <th>Unit Code</th>\n",
       "      <th>Unit</th>\n",
       "      <th>PowerCode Code</th>\n",
       "      <th>PowerCode</th>\n",
       "      <th>Reference Period Code</th>\n",
       "      <th>Reference Period</th>\n",
       "      <th>Value</th>\n",
       "      <th>Flag Codes</th>\n",
       "      <th>Flags</th>\n",
       "    </tr>\n",
       "  </thead>\n",
       "  <tbody>\n",
       "    <tr>\n",
       "      <th>0</th>\n",
       "      <td>AUS</td>\n",
       "      <td>Australia</td>\n",
       "      <td>HO_BASE</td>\n",
       "      <td>Dwellings without basic facilities</td>\n",
       "      <td>L</td>\n",
       "      <td>Value</td>\n",
       "      <td>TOT</td>\n",
       "      <td>Total</td>\n",
       "      <td>PC</td>\n",
       "      <td>Percentage</td>\n",
       "      <td>0</td>\n",
       "      <td>units</td>\n",
       "      <td>NaN</td>\n",
       "      <td>NaN</td>\n",
       "      <td>1.1</td>\n",
       "      <td>E</td>\n",
       "      <td>Estimated value</td>\n",
       "    </tr>\n",
       "    <tr>\n",
       "      <th>1</th>\n",
       "      <td>AUT</td>\n",
       "      <td>Austria</td>\n",
       "      <td>HO_BASE</td>\n",
       "      <td>Dwellings without basic facilities</td>\n",
       "      <td>L</td>\n",
       "      <td>Value</td>\n",
       "      <td>TOT</td>\n",
       "      <td>Total</td>\n",
       "      <td>PC</td>\n",
       "      <td>Percentage</td>\n",
       "      <td>0</td>\n",
       "      <td>units</td>\n",
       "      <td>NaN</td>\n",
       "      <td>NaN</td>\n",
       "      <td>1.0</td>\n",
       "      <td>NaN</td>\n",
       "      <td>NaN</td>\n",
       "    </tr>\n",
       "    <tr>\n",
       "      <th>2</th>\n",
       "      <td>BEL</td>\n",
       "      <td>Belgium</td>\n",
       "      <td>HO_BASE</td>\n",
       "      <td>Dwellings without basic facilities</td>\n",
       "      <td>L</td>\n",
       "      <td>Value</td>\n",
       "      <td>TOT</td>\n",
       "      <td>Total</td>\n",
       "      <td>PC</td>\n",
       "      <td>Percentage</td>\n",
       "      <td>0</td>\n",
       "      <td>units</td>\n",
       "      <td>NaN</td>\n",
       "      <td>NaN</td>\n",
       "      <td>2.0</td>\n",
       "      <td>NaN</td>\n",
       "      <td>NaN</td>\n",
       "    </tr>\n",
       "  </tbody>\n",
       "</table>\n",
       "</div>"
      ],
      "text/plain": [
       "  LOCATION    Country INDICATOR                           Indicator MEASURE  \\\n",
       "0      AUS  Australia   HO_BASE  Dwellings without basic facilities       L   \n",
       "1      AUT    Austria   HO_BASE  Dwellings without basic facilities       L   \n",
       "2      BEL    Belgium   HO_BASE  Dwellings without basic facilities       L   \n",
       "\n",
       "  Measure INEQUALITY Inequality Unit Code        Unit  PowerCode Code  \\\n",
       "0   Value        TOT      Total        PC  Percentage               0   \n",
       "1   Value        TOT      Total        PC  Percentage               0   \n",
       "2   Value        TOT      Total        PC  Percentage               0   \n",
       "\n",
       "  PowerCode  Reference Period Code  Reference Period  Value Flag Codes  \\\n",
       "0     units                    NaN               NaN    1.1          E   \n",
       "1     units                    NaN               NaN    1.0        NaN   \n",
       "2     units                    NaN               NaN    2.0        NaN   \n",
       "\n",
       "             Flags  \n",
       "0  Estimated value  \n",
       "1              NaN  \n",
       "2              NaN  "
      ]
     },
     "metadata": {},
     "output_type": "display_data"
    },
    {
     "data": {
      "text/html": [
       "<div>\n",
       "<style scoped>\n",
       "    .dataframe tbody tr th:only-of-type {\n",
       "        vertical-align: middle;\n",
       "    }\n",
       "\n",
       "    .dataframe tbody tr th {\n",
       "        vertical-align: top;\n",
       "    }\n",
       "\n",
       "    .dataframe thead th {\n",
       "        text-align: right;\n",
       "    }\n",
       "</style>\n",
       "<table border=\"1\" class=\"dataframe\">\n",
       "  <thead>\n",
       "    <tr style=\"text-align: right;\">\n",
       "      <th></th>\n",
       "      <th>Country</th>\n",
       "      <th>Subject Descriptor</th>\n",
       "      <th>Units</th>\n",
       "      <th>Scale</th>\n",
       "      <th>Country/Series-specific Notes</th>\n",
       "      <th>2015</th>\n",
       "      <th>Estimates Start After</th>\n",
       "    </tr>\n",
       "  </thead>\n",
       "  <tbody>\n",
       "    <tr>\n",
       "      <th>0</th>\n",
       "      <td>Afghanistan</td>\n",
       "      <td>Gross domestic product per capita, current prices</td>\n",
       "      <td>U.S. dollars</td>\n",
       "      <td>Units</td>\n",
       "      <td>See notes for:  Gross domestic product, curren...</td>\n",
       "      <td>599.994</td>\n",
       "      <td>2013.0</td>\n",
       "    </tr>\n",
       "    <tr>\n",
       "      <th>1</th>\n",
       "      <td>Albania</td>\n",
       "      <td>Gross domestic product per capita, current prices</td>\n",
       "      <td>U.S. dollars</td>\n",
       "      <td>Units</td>\n",
       "      <td>See notes for:  Gross domestic product, curren...</td>\n",
       "      <td>3995.383</td>\n",
       "      <td>2010.0</td>\n",
       "    </tr>\n",
       "    <tr>\n",
       "      <th>2</th>\n",
       "      <td>Algeria</td>\n",
       "      <td>Gross domestic product per capita, current prices</td>\n",
       "      <td>U.S. dollars</td>\n",
       "      <td>Units</td>\n",
       "      <td>See notes for:  Gross domestic product, curren...</td>\n",
       "      <td>4318.135</td>\n",
       "      <td>2014.0</td>\n",
       "    </tr>\n",
       "  </tbody>\n",
       "</table>\n",
       "</div>"
      ],
      "text/plain": [
       "       Country                                 Subject Descriptor  \\\n",
       "0  Afghanistan  Gross domestic product per capita, current prices   \n",
       "1      Albania  Gross domestic product per capita, current prices   \n",
       "2      Algeria  Gross domestic product per capita, current prices   \n",
       "\n",
       "          Units  Scale                      Country/Series-specific Notes  \\\n",
       "0  U.S. dollars  Units  See notes for:  Gross domestic product, curren...   \n",
       "1  U.S. dollars  Units  See notes for:  Gross domestic product, curren...   \n",
       "2  U.S. dollars  Units  See notes for:  Gross domestic product, curren...   \n",
       "\n",
       "       2015  Estimates Start After  \n",
       "0   599.994                 2013.0  \n",
       "1  3995.383                 2010.0  \n",
       "2  4318.135                 2014.0  "
      ]
     },
     "metadata": {},
     "output_type": "display_data"
    }
   ],
   "source": [
    "display(oecd_bli.head(3) , gdp_per_capita.head(3) )"
   ]
  },
  {
   "cell_type": "code",
   "execution_count": 6,
   "id": "127d805c",
   "metadata": {},
   "outputs": [
    {
     "data": {
      "image/png": "[encoded data removed]",
      "text/plain": [
       "<Figure size 432x288 with 1 Axes>"
      ]
     },
     "metadata": {
      "needs_background": "light"
     },
     "output_type": "display_data"
    },
    {
     "name": "stdout",
     "output_type": "stream",
     "text": [
      "[[5.96242338]]\n"
     ]
    }
   ],
   "source": [
    "import sklearn.linear_model\n",
    "\n",
    "country_stats = prepare_country_stats(oecd_bli, gdp_per_capita) \n",
    "\n",
    "# np.c :여러개의 넘파이 배열을 행으로 붙어주는 함수 [1,2,3],[4,5,6] -> [[1,4],[2,5],[3,6]]\n",
    "# 다른 방법\n",
    "# country_stats['GDP per capita'].to_numpy().reshape(-1 ,1) 행에 차원에 상관없이 열이 하나인 2차원 배열로 생성\n",
    "# sklearn 에서는 입력데이터는 2차원 타겟데이터는 1차원 \n",
    "X = np.c_[country_stats['GDP per capita']]\n",
    "y = np.c_[country_stats['Life satisfaction']]\n",
    "\n",
    "# 데이터 시각화\n",
    "country_stats.plot(kind='scatter', x=\"GDP per capita\", y='Life satisfaction')\n",
    "plt.show()\n",
    "\n",
    "# 선형 모델 선택\n",
    "model = sklearn.linear_model.LinearRegression()\n",
    "\n",
    "# 모델 훈련\n",
    "model.fit(X, y)\n",
    "\n",
    "# 키프로스에 대한 예측\n",
    "X_new = [[22587]]  # 키프로스 1인당 GDP , # [[]] 넘파이로 나옴 \n",
    "print(model.predict(X_new)) # 출력 [[ 5.96242338]]"
   ]
  },
  {
   "cell_type": "code",
   "execution_count": 7,
   "id": "6606d893",
   "metadata": {},
   "outputs": [
    {
     "data": {
      "image/png": "[encoded data removed]",
      "text/plain": [
       "<Figure size 432x288 with 1 Axes>"
      ]
     },
     "metadata": {
      "needs_background": "light"
     },
     "output_type": "display_data"
    }
   ],
   "source": [
    "plt.scatter(X, y)\n",
    "plt.scatter(22587 , 5.96)\n",
    "plt.show()"
   ]
  },
  {
   "cell_type": "markdown",
   "id": "5cf20007",
   "metadata": {},
   "source": [
    "사례기반의 학습 알고리즘"
   ]
  },
  {
   "cell_type": "code",
   "execution_count": 8,
   "id": "120595bb",
   "metadata": {},
   "outputs": [
    {
     "name": "stdout",
     "output_type": "stream",
     "text": [
      "[[5.76666667]]\n"
     ]
    }
   ],
   "source": [
    "# 최근접 이웃 회귀 모델\n",
    "import sklearn.neighbors\n",
    "model1 = sklearn.neighbors.KNeighborsRegressor(n_neighbors=3)\n",
    "\n",
    "# 모델을 훈련합니다.\n",
    "model1.fit(X,y)\n",
    "\n",
    "# 키프로스에 대한 예측을 만듭니다.\n",
    "print(model1.predict(X_new)) # 출력 [[5.76666667]]"
   ]
  },
  {
   "cell_type": "markdown",
   "id": "6dc5c54d",
   "metadata": {},
   "source": [
    "### 머신러닝의 주요 도전과제"
   ]
  },
  {
   "cell_type": "markdown",
   "id": "e2e4dcfc",
   "metadata": {},
   "source": [
    "#### 충분하지 않은 양의 훈련데이터 \n",
    "* 간단한 문제라도 수천개의 데이터가 필요\n",
    "* 이미지나 음성 인식같은 문제는 수백만 개가 필요할 수 있다.\n",
    "* 딥러닝 발전의 원동력\n",
    "\n",
    "#### 대표성 없는 훈련데이터\n",
    "* 우연에 의해 대표성이 없는 데이터를 샘플링 잡음이라고 한다.\n",
    "* 표본 추출 방법이 잘못된 대표성이 없는 데이터를 샘플링 편향이라고 한다.\n",
    "\n",
    "#### 낮은 품질의 데이터 \n",
    "* 이상치 샘플이라면 고치거나 무시 \n",
    "* 특성이 누락되었을 때 - 해당특성 제외 , 해당샘플을 제외 , 누락된 값을 채움,  해당특서을 넣은 경우와 뺸경우 각기 모델을 훈련 \n",
    "\n",
    "#### 관련없는 특성 \n",
    "* 특성공학(feature engineering)이 풀려는 문제에 관련이 높은 특성을 찾는다.\n",
    "* 특성선택 : 준비되어 있는 특성 중 가장 유용한 특성을 찾는다.\n",
    "* 특성추출 : 특성을 조합하여 새로운 특성을 만든다.\n",
    "\n",
    "#### 과대적합 \n",
    "* 훈련세트에 너무 잘 맞아 일반화 성능이 낮은 현상 \n",
    "* 규제를 사용해 과대적합을 감소 할 수 있다. 모델 파라미터에 제약을 적용해 모델을 일반적인 패턴을 따르도록 만드는 작업\n",
    "\n",
    "#### 과소적합 \n",
    "* 모델이 너무 단순해서 훈련 세트를 작 학습하지 못한다.\n",
    "* 해결방법 : 모델파라미터가 더 많은 모델을 사용 , 특성공학으로 더 좋은 특성을 찾는다. 규제의 강도를 줄인다.\n",
    "\n",
    "\n",
    "\n"
   ]
  },
  {
   "cell_type": "markdown",
   "id": "e0e54fa1",
   "metadata": {},
   "source": [
    "#### 테스트 세트와 검증 세트 \n",
    "* 모델의 일반화 성능을 측정하기 위해 훈련세트와 테스트 세트로 나눈다.\n",
    "* 훈련 세트로 모델을 훈련하고 테스트 세트로 모델의 일반화 성능을 측정 한다.\n",
    "* 하이퍼파라미터는 알고리즘을 조절하기 위해 사전에 정의하는 파라미터\n",
    "* 테스트 세트를 사용해 여러 모델을 평가하면 테스트 세트가 과대적합 된다.\n",
    "* 모델 선택을 위해 훈련 세트 , 검증 세트 , 테스트 세트로 나눈다.\n",
    "\n",
    "#### 훈련-개발 세트 \n",
    "* 대랑의 데이터를 얻기 위해 실전과 다른 데이터로 훈련 세트를 만들때 \n",
    "* 검증 세트 점수가 과대적합과 데이터 불일치 중 어떤것이 원인인지 모른다. 이를 위해 훈련-개발 세트를 만들어 훈련한 모델을 평가 \n",
    "* 훈련-개발 세트 성능이 낮다면 과대적합, 검증 세트 성능이 낮다면 데이터 불일치 문제 \n",
    "\n"
   ]
  }
 ],
 "metadata": {
  "kernelspec": {
   "display_name": "Python 3",
   "language": "python",
   "name": "python3"
  },
  "language_info": {
   "codemirror_mode": {
    "name": "ipython",
    "version": 3
   },
   "file_extension": ".py",
   "mimetype": "text/x-python",
   "name": "python",
   "nbconvert_exporter": "python",
   "pygments_lexer": "ipython3",
   "version": "3.8.11"
  }
 },
 "nbformat": 4,
 "nbformat_minor": 5
}
