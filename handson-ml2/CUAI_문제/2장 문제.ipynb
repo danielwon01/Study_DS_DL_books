{
 "cells": [
  {
   "cell_type": "markdown",
   "id": "9eb30385",
   "metadata": {},
   "source": [
    "## 평균 제곱근 오차(RMSE)란 무엇일까요?"
   ]
  },
  {
   "cell_type": "markdown",
   "id": "3169156a",
   "metadata": {},
   "source": [
    "실제값과 예측값의  차이의 제곱의 평균에 제곱근을 적용한 값이다. "
   ]
  },
  {
   "cell_type": "markdown",
   "id": "94fccd17",
   "metadata": {},
   "source": [
    "## 원-핫 인코딩(one-hot encoding)을 해주는 이유는 무엇인가요?"
   ]
  },
  {
   "cell_type": "markdown",
   "id": "5fbbfd1a",
   "metadata": {},
   "source": [
    " 대부분의 머신러닝 알고리즘은 수치형 데이터를 다루므로 범주형 특성을 텍스트에서 수치형 데이터로 변환시키는 작업이 필요하기 때문에 사용한다."
   ]
  },
  {
   "cell_type": "markdown",
   "id": "7cc1d739",
   "metadata": {},
   "source": [
    "## 데이터에 특성 스케일링(feature scaling)을 해주는 이유는 무엇인가요?\n",
    "\n"
   ]
  },
  {
   "cell_type": "markdown",
   "id": "69a7fe8c",
   "metadata": {},
   "source": [
    "머신러닝 알고리즘은 입력 특성 들의 스케일간 차이가 크면 잘 작동하지 못하고 예측값을 도출하는데 있어 문제가 되기 때문에 스케일링을 적용한다."
   ]
  },
  {
   "cell_type": "markdown",
   "id": "58368f0c",
   "metadata": {},
   "source": [
    "## min-max 스케일링과 표준화는 무엇인가요?"
   ]
  },
  {
   "cell_type": "markdown",
   "id": "29bf3d98",
   "metadata": {},
   "source": [
    "min-max 스케일링은 데이터값의 최댓값이 1 , 최솟값이 0으로 데이터값이 가질 수  있는 범위를 제한하는 방법이다. \n",
    "\n",
    "표준화 스케일링이란 데이터가 평균 0 , 표준편차 1이 되도록 데이터 값을 변경하는 방법이다. \n"
   ]
  },
  {
   "cell_type": "markdown",
   "id": "4196d497",
   "metadata": {},
   "source": [
    "## K-겹 교차 검증(K-fold validation)이란 무엇이고 사용하는 이유는 무엇일까요?"
   ]
  },
  {
   "cell_type": "markdown",
   "id": "19b98734",
   "metadata": {},
   "source": [
    "K-fold validation은 가장 보편적으로 사용 되는 교차 검증 기법으로, K 개의 데이터 폴드 세트를 만들어서 K 번만큼 각 폴드 세트에 학습과 검증 평가를 반복적으로 수행하는 방법이다. \n",
    "\n",
    "알고리즘을 학습시키기 위해선 학습데이터와 이에 대한 예측 성능을 평가하기 위한 별도의 테스트 데이터가 필요하다. 하지만 이 방법은 과적합에 약점을 갖는다.  고정된 학습 데이터와 테스트 데이터로 평가를 하다 보면 테스트 데이터에만 최적의 성능을 발휘 할 수 있도록 편향되게 모델을 유도하게 되고 , 결국 해당 테스트 데이터에만 과적합 되는 학습 모델이 만들어져 다른 테스트용 데이터가 들어올 경우에는 성능이 저하된다. 이러한 문제점을 개선하기 위해 K-fold validation을 이용해 다양한 학습과 평가를 수행하는 것이다. "
   ]
  },
  {
   "cell_type": "markdown",
   "id": "fec4741e",
   "metadata": {},
   "source": [
    "## 앙상블 학습이란 무엇이고 어떤 장점이 있나요?"
   ]
  },
  {
   "cell_type": "markdown",
   "id": "d3c35e10",
   "metadata": {},
   "source": [
    "앙상블이란 여러 개의 분류기를 생성하고, 그 예측을 결합 함으로써 보다 정확한 예측을 도출하는 학습 기법이다. \n",
    "\n",
    "성능을 분산시키기 때문에 과적합 감소 효과가 있다.  개별 모델 성능이 잘 안 나올 때 앙상블 학습을 이용하면 성능이 향상될 수 있다."
   ]
  }
 ],
 "metadata": {
  "kernelspec": {
   "display_name": "Python 3 (ipykernel)",
   "language": "python",
   "name": "python3"
  },
  "language_info": {
   "codemirror_mode": {
    "name": "ipython",
    "version": 3
   },
   "file_extension": ".py",
   "mimetype": "text/x-python",
   "name": "python",
   "nbconvert_exporter": "python",
   "pygments_lexer": "ipython3",
   "version": "3.9.7"
  }
 },
 "nbformat": 4,
 "nbformat_minor": 5
}
