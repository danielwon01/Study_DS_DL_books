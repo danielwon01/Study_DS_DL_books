{
 "cells": [
  {
   "cell_type": "markdown",
   "id": "f6bc3a63",
   "metadata": {},
   "source": [
    "## 분류기에서 정확도(accuracy)를 성능 지표로 선호하지 않는 이유는 무엇인가요?"
   ]
  },
  {
   "cell_type": "markdown",
   "id": "5c5efb96",
   "metadata": {},
   "source": [
    "정확도는 모델의 예측이 얼마나 정확한지를 의미한다. 정확도는 (올라브게 예측된 데이터 개수)/(전체 예측 데이터 개수)로 계산할 수 있다. 하지만 라벨 불균형이 있는 데이터에서 정확도를 사용하면 안 된다. 예를 들면, 0과 1의 비율이 9:1인 데이터가 있다고 했을 때, 모두 0으로 예측하면 정확도가 90%가 나올 것이다. 이는 잘못된 판단 이므로 정확한 판단을 위해서는 다른 지표를 사용해야 한다."
   ]
  },
  {
   "cell_type": "markdown",
   "id": "5f8e008a",
   "metadata": {},
   "source": [
    "## 오차 행렬이란 무엇인가요?"
   ]
  },
  {
   "cell_type": "markdown",
   "id": "66704a97",
   "metadata": {},
   "source": [
    "오차 행렬은 모델이 예측을 하면서 얼마나 헷갈리고 있는지를 보여주는 지표  \n",
    "True Positive는 긍정으로 예측을 했는데 실제로 긍정인 경우를, False Positive는 긍정으로 예측했는데 실제로 부정인 경우를, False Negative는 부정으로 예측했는데 실제로 긍정인 경우를, True Negative는 부정으로 예측했는데 실제로 부정인 경우를 말한다."
   ]
  },
  {
   "cell_type": "markdown",
   "id": "05ee273e",
   "metadata": {},
   "source": [
    "## 정밀도와 재현율이란 무엇이고 어떻게 계산하나요?"
   ]
  },
  {
   "cell_type": "markdown",
   "id": "3890bfa4",
   "metadata": {},
   "source": [
    "정밀도란 모델이 True로 예측한 데이터 중 실제로 True인 데이터, 오차 행렬을 기준으로 정밀도는 TP / (FP + TP)  \n",
    "\n",
    "재현율은 실제로 True인 데이터를 모델이 True라고 인식한 데이터의 수 ,오차 행렬을 기준으로재현율은 TP / (FN + TP)으로 계산할 수 있다."
   ]
  },
  {
   "cell_type": "markdown",
   "id": "9a866b7e",
   "metadata": {},
   "source": [
    "## 정밀도(precision)가 중요한 지표인 경우는 어떤 경우인가요?"
   ]
  },
  {
   "cell_type": "markdown",
   "id": "a23de64b",
   "metadata": {},
   "source": [
    "실제 positive 데이터를 negative로 잘못 판단하면 큰영향이 있는 경우  \n",
    "False negative를 낮추는데 중점을 둔다.\n",
    "\n",
    "* 암환자 판정모델, 보험사기적발 모델"
   ]
  },
  {
   "cell_type": "markdown",
   "id": "c7069096",
   "metadata": {},
   "source": [
    "## 재현율(recall)이 중요한 지표인 경우는 어떤 경우인가요?"
   ]
  },
  {
   "cell_type": "markdown",
   "id": "278ea35f",
   "metadata": {},
   "source": [
    "실제 negative 데이터를 positive로 잘못 판단하면 큰 영향이 있는 경우  \n",
    "False positive를 낮추는데 중점을 둔다.  \n",
    "\n",
    "* 스펨메일판정"
   ]
  },
  {
   "cell_type": "markdown",
   "id": "c9acaf74",
   "metadata": {},
   "source": [
    "## 정밀도/재현율 트레이드오프란 무엇인가요?"
   ]
  },
  {
   "cell_type": "markdown",
   "id": "a1162b14",
   "metadata": {},
   "source": [
    "정밀도는 FP를, 재현율은 FN을 낮춤으로써 긍정 예측의 성능을 높인다. 이 같은 특성 때문에 정밀도가 높아지면 재현율은 낮아지고 재현율이 높아지면 정밀도는 낮아진다. "
   ]
  },
  {
   "cell_type": "markdown",
   "id": "cf7bd69b",
   "metadata": {},
   "source": [
    "## 결정 임계값이(decision threshold)무엇이고 재현율과 정밀도에 어떤 영향을 미치나요?"
   ]
  },
  {
   "cell_type": "markdown",
   "id": "e8608738",
   "metadata": {},
   "source": [
    "결정 임계값이란 모델이 분류의 답을 결정할 때 기준값. \n",
    "\n",
    "임계값을 높이면 양성으로 예측하는 기준을 높여서 음성으로 예측되는 샘플이 많아진다. 정밀도는 높아지고 재현율은 낮아짐  \n",
    "\n",
    "임계값을 낮추면 양성으로 예측하는 기준이 낮아져서 양성으로 예측되는 샘플이 많아진다. 재현율은 높아지고 정밀도는 낮아진다.\n",
    "\n",
    "임계값을 변화시켰을때 재현율과 정밀도는 음의 상관관계를 가진다. \n",
    "\n",
    "정밀도나 재현율을 특히 강조해야 하는 상황일 경우 임계값 변경을 통해 평가 수치를 올릴 수 있다. 단 극단적으로 임계점을 올리거나 낮춰서 한쪽의 점수를 높이면 안된다. \n",
    "(암환자 예측 시 재현율을 너무 높이면 정밀도가 낮아져 정상인을 암환자로 예측하게 됨)"
   ]
  },
  {
   "cell_type": "markdown",
   "id": "d94c8318",
   "metadata": {},
   "source": [
    "## ROC곡선이란 무엇인가요?"
   ]
  },
  {
   "cell_type": "markdown",
   "id": "d040e1d7",
   "metadata": {},
   "source": [
    "ROC 커브는 이진분류 모델의 성능을 나타내는 지표이다.\n",
    "\n",
    "모델이 참이라고 예측하는 경우는 FPR (False Positive Rate, 실제 값이 거짓일 때) 과 TPR (True Positive Rate, 실제 값이 참일 때) 두 경우로 나뉜다.\n",
    "\n",
    "FPR 과 TPR 을 그래프에서 x 축, y 축으로 동시에 표현한 ROC 커브를 통해 모델이 얼마나 옳은 값을 잘 예측 하는지 알 수 있게 된다.\n",
    "\n",
    "ROC는 **FPR(False Positive Rate)가 변할 때 TPR(True Positive Rate)가 어떻게 변하는지를 나타내는 곡선**을 말한다. 여기서 FPR이란 **FP / (FP + TN)**이고, TPR은 **TP / (FN + TP)**으로 재현율을 말한다. 그럼 어떻게 FPR을 움직일까? 바로 분류 결정 임계값을 변경함으로써 움직일 수 있다. FPR이 0이 되려면 임계값을 1로 설정하면 된다. 그럼 긍정의 기준이 높으니 모두 부정으로 예측될 것이다. 반대로 1이 되려면 임계값을 0으로 설정하여 모두 긍정으로 예측시키면 된다. 이렇게 임계값을 움직이면서 나오는 FPR과 TPR을 각각 x와 y 좌표로 두고 그린 곡선이 ROC이다.\n",
    "\n",
    "AUC는 ROC 곡선의 넓이를 말한다. AUC가 높을수록 즉, AUC가 왼쪽 위로 휘어질수록 좋은 성능이 나온다고 판단한다. 즉, TPR이 높고 FPR이 낮을수록 예측 오류는 낮아지기 때문에 성능이 잘 나온다 볼 수 있다."
   ]
  }
 ],
 "metadata": {
  "kernelspec": {
   "display_name": "Python 3 (ipykernel)",
   "language": "python",
   "name": "python3"
  },
  "language_info": {
   "codemirror_mode": {
    "name": "ipython",
    "version": 3
   },
   "file_extension": ".py",
   "mimetype": "text/x-python",
   "name": "python",
   "nbconvert_exporter": "python",
   "pygments_lexer": "ipython3",
   "version": "3.9.7"
  }
 },
 "nbformat": 4,
 "nbformat_minor": 5
}
