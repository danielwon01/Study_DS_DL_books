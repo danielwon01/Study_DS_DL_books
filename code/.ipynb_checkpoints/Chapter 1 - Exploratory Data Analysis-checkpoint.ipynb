{
 "cells": [
  {
   "cell_type": "markdown",
   "id": "1f0be963",
   "metadata": {},
   "source": [
    "# Chapter 1 - Exploratory Data Analysis(탐색적분석)"
   ]
  },
  {
   "cell_type": "code",
   "execution_count": 1,
   "id": "4031d984",
   "metadata": {},
   "outputs": [],
   "source": [
    "import numpy as np\n",
    "import pandas as pd\n",
    "import matplotlib.pyplot as plt\n",
    "import seaborn as sns\n",
    "%matplotlib inline \n",
    "import os\n",
    "os.chdir('C:\\\\Users\\\\my\\\\Desktop')"
   ]
  },
  {
   "cell_type": "markdown",
   "id": "38802c32",
   "metadata": {},
   "source": [
    "## Estimates of Location( 위치추정)\n",
    "\n",
    "> 데이터가 주어졌을때 데이터를 살펴보는 가장 기초적인 단계는 각 피쳐의 대표값을 구하는 것 \n",
    "이는 중심경향성을 나타내는 추정값 "
   ]
  },
  {
   "cell_type": "code",
   "execution_count": 2,
   "id": "85e17c34",
   "metadata": {},
   "outputs": [
    {
     "data": {
      "text/html": [
       "<div>\n",
       "<style scoped>\n",
       "    .dataframe tbody tr th:only-of-type {\n",
       "        vertical-align: middle;\n",
       "    }\n",
       "\n",
       "    .dataframe tbody tr th {\n",
       "        vertical-align: top;\n",
       "    }\n",
       "\n",
       "    .dataframe thead th {\n",
       "        text-align: right;\n",
       "    }\n",
       "</style>\n",
       "<table border=\"1\" class=\"dataframe\">\n",
       "  <thead>\n",
       "    <tr style=\"text-align: right;\">\n",
       "      <th></th>\n",
       "      <th>State</th>\n",
       "      <th>Population</th>\n",
       "      <th>Murder.Rate</th>\n",
       "      <th>Abbreviation</th>\n",
       "    </tr>\n",
       "  </thead>\n",
       "  <tbody>\n",
       "    <tr>\n",
       "      <th>0</th>\n",
       "      <td>Alabama</td>\n",
       "      <td>4779736</td>\n",
       "      <td>5.7</td>\n",
       "      <td>AL</td>\n",
       "    </tr>\n",
       "    <tr>\n",
       "      <th>1</th>\n",
       "      <td>Alaska</td>\n",
       "      <td>710231</td>\n",
       "      <td>5.6</td>\n",
       "      <td>AK</td>\n",
       "    </tr>\n",
       "    <tr>\n",
       "      <th>2</th>\n",
       "      <td>Arizona</td>\n",
       "      <td>6392017</td>\n",
       "      <td>4.7</td>\n",
       "      <td>AZ</td>\n",
       "    </tr>\n",
       "    <tr>\n",
       "      <th>3</th>\n",
       "      <td>Arkansas</td>\n",
       "      <td>2915918</td>\n",
       "      <td>5.6</td>\n",
       "      <td>AR</td>\n",
       "    </tr>\n",
       "    <tr>\n",
       "      <th>4</th>\n",
       "      <td>California</td>\n",
       "      <td>37253956</td>\n",
       "      <td>4.4</td>\n",
       "      <td>CA</td>\n",
       "    </tr>\n",
       "    <tr>\n",
       "      <th>5</th>\n",
       "      <td>Colorado</td>\n",
       "      <td>5029196</td>\n",
       "      <td>2.8</td>\n",
       "      <td>CO</td>\n",
       "    </tr>\n",
       "    <tr>\n",
       "      <th>6</th>\n",
       "      <td>Connecticut</td>\n",
       "      <td>3574097</td>\n",
       "      <td>2.4</td>\n",
       "      <td>CT</td>\n",
       "    </tr>\n",
       "    <tr>\n",
       "      <th>7</th>\n",
       "      <td>Delaware</td>\n",
       "      <td>897934</td>\n",
       "      <td>5.8</td>\n",
       "      <td>DE</td>\n",
       "    </tr>\n",
       "  </tbody>\n",
       "</table>\n",
       "</div>"
      ],
      "text/plain": [
       "         State  Population  Murder.Rate Abbreviation\n",
       "0      Alabama     4779736          5.7           AL\n",
       "1       Alaska      710231          5.6           AK\n",
       "2      Arizona     6392017          4.7           AZ\n",
       "3     Arkansas     2915918          5.6           AR\n",
       "4   California    37253956          4.4           CA\n",
       "5     Colorado     5029196          2.8           CO\n",
       "6  Connecticut     3574097          2.4           CT\n",
       "7     Delaware      897934          5.8           DE"
      ]
     },
     "execution_count": 2,
     "metadata": {},
     "output_type": "execute_result"
    }
   ],
   "source": [
    "# 미국 각 주의 인구와 살인비율 데이터 \n",
    "\n",
    "state = pd.read_csv(\"data/state.csv\") \n",
    "state.head(8)"
   ]
  },
  {
   "cell_type": "markdown",
   "id": "a226602b",
   "metadata": {},
   "source": [
    "### 평균 - mean"
   ]
  },
  {
   "cell_type": "code",
   "execution_count": 3,
   "id": "7fcc3a64",
   "metadata": {},
   "outputs": [
    {
     "data": {
      "text/plain": [
       "6162876.3"
      ]
     },
     "execution_count": 3,
     "metadata": {},
     "output_type": "execute_result"
    }
   ],
   "source": [
    "state[\"Population\"].mean()"
   ]
  },
  {
   "cell_type": "markdown",
   "id": "22eae7ad",
   "metadata": {},
   "source": [
    "### 절사평균 - trim_mean\n",
    "\n",
    "> 값들을 크기 순으로 정렬한 후 , 양끝에서 일정 개수의 값들을 삭제한 뒤 남은 값들을 가지고 구한 평균   \n",
    "> 극단값의 영향을 제거\n",
    "\n",
    "> 절사평균을 구하기 위해서는 scipy.stats 필요  \n",
    ">SciPy는 과학기술계산을 위한 Python 라이브러리이다. NumPy, Matplotlib, pandas, SymPy와 연계되어 있다"
   ]
  },
  {
   "cell_type": "code",
   "execution_count": 4,
   "id": "cf538be8",
   "metadata": {},
   "outputs": [
    {
     "data": {
      "text/plain": [
       "4783697.125"
      ]
     },
     "execution_count": 4,
     "metadata": {},
     "output_type": "execute_result"
    }
   ],
   "source": [
    "from scipy.stats import trim_mean\n",
    "\n",
    "trim_mean(state[\"Population\"],0.1) # 0.1 은 각 끝에서 10%를 제외한다는 의미 "
   ]
  },
  {
   "cell_type": "markdown",
   "id": "cb195cbc",
   "metadata": {},
   "source": [
    "### 가중평균  -weighted.mean\n",
    ">각 데이터 값 x1에 사용자가 지정한 가중치 w1를 곱한 값들의 총합을 다시 가충치의 총합으로 나눈 것 "
   ]
  },
  {
   "cell_type": "code",
   "execution_count": 5,
   "id": "c1cb88bc",
   "metadata": {},
   "outputs": [
    {
     "data": {
      "text/plain": [
       "4.445833981123393"
      ]
     },
     "execution_count": 5,
     "metadata": {},
     "output_type": "execute_result"
    }
   ],
   "source": [
    "np.average(state[\"Murder.Rate\"], weights = state[\"Population\"])"
   ]
  },
  {
   "cell_type": "markdown",
   "id": "ff57b8b9",
   "metadata": {},
   "source": [
    "### 중간값 - median\n",
    "> 데이터를 일렬로 정렬했을때 한가운데 위치하는 값  \n",
    "> 데이터에 민감한 평균보다 중간값이 위치추정에 더 유리"
   ]
  },
  {
   "cell_type": "code",
   "execution_count": 6,
   "id": "1f262655",
   "metadata": {},
   "outputs": [
    {
     "data": {
      "text/plain": [
       "4436369.5"
      ]
     },
     "execution_count": 6,
     "metadata": {},
     "output_type": "execute_result"
    }
   ],
   "source": [
    "state[\"Population\"].median()"
   ]
  },
  {
   "cell_type": "markdown",
   "id": "eda2c47c",
   "metadata": {},
   "source": [
    "### 가중중간값 - wquantiles\n",
    "> 단순히 가운데 위치한 값이 아닌 어떤 위치를 기준으로 상위 절반의 가중치의 합이 하위절반의 가중치의 합과 동일한 위치의 값\n",
    "\n",
    ">가중중간값을 사용하니위해 import weighted 필요"
   ]
  },
  {
   "cell_type": "code",
   "execution_count": 8,
   "id": "537e8493",
   "metadata": {},
   "outputs": [
    {
     "data": {
      "text/plain": [
       "4.4"
      ]
     },
     "execution_count": 8,
     "metadata": {},
     "output_type": "execute_result"
    }
   ],
   "source": [
    "import wquantiles\n",
    "wquantiles.median(state[\"Murder.Rate\"], weights = state[\"Population\"])"
   ]
  },
  {
   "cell_type": "markdown",
   "id": "60e61d8b",
   "metadata": {},
   "source": [
    "### 특이값 \n",
    "* 어떤 데이터 집합에서 다른 값들과 매우 멀리 떨어져 있는 값"
   ]
  },
  {
   "cell_type": "markdown",
   "id": "806d459a",
   "metadata": {},
   "source": [
    "> 일반적으로 위치추정에서 평균을 사용 but  \n",
    "> 특이값들의 영향을 받지 않는 중간값, 가중중간값이 로버스트한 위치추정 방법 "
   ]
  },
  {
   "cell_type": "markdown",
   "id": "633a4652",
   "metadata": {},
   "source": [
    "## Estimates of Variability(변이추정)\n",
    "\n",
    "> 변이는 데이터 값이 얼마나 밀집해 있는 혹은 퍼져있는지를 나타내는 산포도를 나타낸다."
   ]
  },
  {
   "cell_type": "code",
   "execution_count": 9,
   "id": "f9e9a34f",
   "metadata": {},
   "outputs": [
    {
     "data": {
      "text/html": [
       "<div>\n",
       "<style scoped>\n",
       "    .dataframe tbody tr th:only-of-type {\n",
       "        vertical-align: middle;\n",
       "    }\n",
       "\n",
       "    .dataframe tbody tr th {\n",
       "        vertical-align: top;\n",
       "    }\n",
       "\n",
       "    .dataframe thead th {\n",
       "        text-align: right;\n",
       "    }\n",
       "</style>\n",
       "<table border=\"1\" class=\"dataframe\">\n",
       "  <thead>\n",
       "    <tr style=\"text-align: right;\">\n",
       "      <th></th>\n",
       "      <th>State</th>\n",
       "      <th>Population</th>\n",
       "      <th>Murder.Rate</th>\n",
       "      <th>Abbreviation</th>\n",
       "    </tr>\n",
       "  </thead>\n",
       "  <tbody>\n",
       "    <tr>\n",
       "      <th>0</th>\n",
       "      <td>Alabama</td>\n",
       "      <td>4779736</td>\n",
       "      <td>5.7</td>\n",
       "      <td>AL</td>\n",
       "    </tr>\n",
       "    <tr>\n",
       "      <th>1</th>\n",
       "      <td>Alaska</td>\n",
       "      <td>710231</td>\n",
       "      <td>5.6</td>\n",
       "      <td>AK</td>\n",
       "    </tr>\n",
       "    <tr>\n",
       "      <th>2</th>\n",
       "      <td>Arizona</td>\n",
       "      <td>6392017</td>\n",
       "      <td>4.7</td>\n",
       "      <td>AZ</td>\n",
       "    </tr>\n",
       "    <tr>\n",
       "      <th>3</th>\n",
       "      <td>Arkansas</td>\n",
       "      <td>2915918</td>\n",
       "      <td>5.6</td>\n",
       "      <td>AR</td>\n",
       "    </tr>\n",
       "    <tr>\n",
       "      <th>4</th>\n",
       "      <td>California</td>\n",
       "      <td>37253956</td>\n",
       "      <td>4.4</td>\n",
       "      <td>CA</td>\n",
       "    </tr>\n",
       "    <tr>\n",
       "      <th>5</th>\n",
       "      <td>Colorado</td>\n",
       "      <td>5029196</td>\n",
       "      <td>2.8</td>\n",
       "      <td>CO</td>\n",
       "    </tr>\n",
       "    <tr>\n",
       "      <th>6</th>\n",
       "      <td>Connecticut</td>\n",
       "      <td>3574097</td>\n",
       "      <td>2.4</td>\n",
       "      <td>CT</td>\n",
       "    </tr>\n",
       "    <tr>\n",
       "      <th>7</th>\n",
       "      <td>Delaware</td>\n",
       "      <td>897934</td>\n",
       "      <td>5.8</td>\n",
       "      <td>DE</td>\n",
       "    </tr>\n",
       "  </tbody>\n",
       "</table>\n",
       "</div>"
      ],
      "text/plain": [
       "         State  Population  Murder.Rate Abbreviation\n",
       "0      Alabama     4779736          5.7           AL\n",
       "1       Alaska      710231          5.6           AK\n",
       "2      Arizona     6392017          4.7           AZ\n",
       "3     Arkansas     2915918          5.6           AR\n",
       "4   California    37253956          4.4           CA\n",
       "5     Colorado     5029196          2.8           CO\n",
       "6  Connecticut     3574097          2.4           CT\n",
       "7     Delaware      897934          5.8           DE"
      ]
     },
     "execution_count": 9,
     "metadata": {},
     "output_type": "execute_result"
    }
   ],
   "source": [
    "state.head(8)"
   ]
  },
  {
   "cell_type": "markdown",
   "id": "dd4f3cc8",
   "metadata": {},
   "source": [
    "### 표준편차- std\n",
    "> 분산의 제곱근 "
   ]
  },
  {
   "cell_type": "code",
   "execution_count": 10,
   "id": "14c732a8",
   "metadata": {},
   "outputs": [
    {
     "data": {
      "text/plain": [
       "6848235.347401142"
      ]
     },
     "execution_count": 10,
     "metadata": {},
     "output_type": "execute_result"
    }
   ],
   "source": [
    "state[\"Population\"].std()"
   ]
  },
  {
   "cell_type": "markdown",
   "id": "7c625ec7",
   "metadata": {},
   "source": [
    "### IQR(사분위범위)  - quantile(0.75) - quantile(0.25)\n",
    ">  25번째 백분위수와 75번째 백분위수의 차이 "
   ]
  },
  {
   "cell_type": "code",
   "execution_count": 11,
   "id": "12ca61fc",
   "metadata": {},
   "outputs": [
    {
     "data": {
      "text/plain": [
       "4847308.0"
      ]
     },
     "execution_count": 11,
     "metadata": {},
     "output_type": "execute_result"
    }
   ],
   "source": [
    "state[\"Population\"].quantile(0.75) - state[\"Population\"].quantile(0.25)"
   ]
  },
  {
   "cell_type": "markdown",
   "id": "17a9fc35",
   "metadata": {},
   "source": [
    "### 중위절대편차- mad\n",
    ">분산 ,표준편차 , 평균절대편차 모두 특잇값과 극단값에 로버스트하지 않다.   \n",
    "> 중위절대편차는 로버스트   \n",
    "> 계산하기 위해 statsmodels 패키지의 strong.scale.mad 함수 이용"
   ]
  },
  {
   "cell_type": "code",
   "execution_count": 12,
   "id": "03ed6836",
   "metadata": {},
   "outputs": [
    {
     "data": {
      "text/plain": [
       "3849876.1459979336"
      ]
     },
     "execution_count": 12,
     "metadata": {},
     "output_type": "execute_result"
    }
   ],
   "source": [
    "from statsmodels import robust\n",
    "robust.scale.mad(state[\"Population\"])"
   ]
  },
  {
   "cell_type": "markdown",
   "id": "b62c8220",
   "metadata": {},
   "source": [
    "## Percentiles and Boxplots(백분위수와 상자그림)"
   ]
  },
  {
   "cell_type": "markdown",
   "id": "6e94d7ac",
   "metadata": {},
   "source": [
    "판다스에서 데이터프래임 method `quantile`을 제공 "
   ]
  },
  {
   "cell_type": "code",
   "execution_count": 13,
   "id": "db9f989f",
   "metadata": {},
   "outputs": [
    {
     "data": {
      "text/plain": [
       "0.05    1.600\n",
       "0.25    2.425\n",
       "0.50    4.000\n",
       "0.75    5.550\n",
       "0.95    6.510\n",
       "Name: Murder.Rate, dtype: float64"
      ]
     },
     "execution_count": 13,
     "metadata": {},
     "output_type": "execute_result"
    }
   ],
   "source": [
    "state[\"Murder.Rate\"].quantile([0.05,0.25,0.5,0.75,0.95])"
   ]
  },
  {
   "cell_type": "code",
   "execution_count": 14,
   "id": "b5237844",
   "metadata": {},
   "outputs": [
    {
     "data": {
      "text/plain": [
       "0.05    1.6\n",
       "0.25    2.4\n",
       "0.50    4.0\n",
       "0.75    5.6\n",
       "0.95    6.5\n",
       "Name: Murder.Rate, dtype: float64"
      ]
     },
     "execution_count": 14,
     "metadata": {},
     "output_type": "execute_result"
    }
   ],
   "source": [
    "np.round(state[\"Murder.Rate\"].quantile([0.05,0.25,0.5,0.75,0.95]),1)"
   ]
  },
  {
   "cell_type": "markdown",
   "id": "4e5f5aa7",
   "metadata": {},
   "source": [
    "### boxplott(상자그림)\n",
    ">백분위수를 이용해 데이터의 분산을 쉽게 시각화하는 방법"
   ]
  },
  {
   "cell_type": "code",
   "execution_count": 16,
   "id": "37af1bf3",
   "metadata": {},
   "outputs": [
    {
     "data": {
      "text/plain": [
       "Text(0, 0.5, 'Population(millions)')"
      ]
     },
     "execution_count": 16,
     "metadata": {},
     "output_type": "execute_result"
    },
    {
     "data": {
      "image/png": "[encoded data removed]",
      "text/plain": [
       "<Figure size 432x288 with 1 Axes>"
      ]
     },
     "metadata": {
      "needs_background": "light"
     },
     "output_type": "display_data"
    }
   ],
   "source": [
    "ax = (state[\"Population\"]/1_000_000).plot.box()\n",
    "ax.set_ylabel(\"Population(millions)\")"
   ]
  },
  {
   "cell_type": "markdown",
   "id": "9fb91abf",
   "metadata": {},
   "source": [
    "초록선은 중간닶을 나타내기 때문에 주별 인구의 중간값이 약 500만 인구 거주  \n",
    "파란 박스가 사분위수를 나타내기 때문에 주 절반이 약 200만에서 700만사이 인구 거주  \n",
    "위아래로 나와있는 선이 수염(whisker)로 데이터 전체의 범위를 나타낸다.  "
   ]
  },
  {
   "cell_type": "markdown",
   "id": "4ba44ea1",
   "metadata": {},
   "source": [
    "## Frequency Table and Histograms(도수분포표와 히스토그램)"
   ]
  },
  {
   "cell_type": "markdown",
   "id": "1a1e7ce1",
   "metadata": {},
   "source": [
    "### 도수분포표\n",
    "> 변수의 범위를 동일한 크기의 구간으로 나눈 다음, 각 구간마다 몇 개의 변수의 값이 존재하는지를 보여준다."
   ]
  },
  {
   "cell_type": "markdown",
   "id": "5c3739e6",
   "metadata": {},
   "source": [
    "#### pandas.cut() 함수는 각 구간에 매핑하는 시리즈를 만든다. \n",
    "#### value_counts() 메서드를 사용하여 빈도 테이블을 구한다."
   ]
  },
  {
   "cell_type": "code",
   "execution_count": 17,
   "id": "0afbc45d",
   "metadata": {},
   "outputs": [],
   "source": [
    "binnePopulation = pd.cut(state[\"Population\"],10) # state[\"Population\"]을 열개의 동일한 구간으로 만든다."
   ]
  },
  {
   "cell_type": "code",
   "execution_count": 18,
   "id": "47e67b41",
   "metadata": {},
   "outputs": [
    {
     "data": {
      "text/plain": [
       "(526935.67, 4232659.0]      24\n",
       "(4232659.0, 7901692.0]      14\n",
       "(7901692.0, 11570725.0]      6\n",
       "(11570725.0, 15239758.0]     2\n",
       "(15239758.0, 18908791.0]     1\n",
       "(18908791.0, 22577824.0]     1\n",
       "(22577824.0, 26246857.0]     1\n",
       "(33584923.0, 37253956.0]     1\n",
       "(26246857.0, 29915890.0]     0\n",
       "(29915890.0, 33584923.0]     0\n",
       "Name: Population, dtype: int64"
      ]
     },
     "execution_count": 18,
     "metadata": {},
     "output_type": "execute_result"
    }
   ],
   "source": [
    "binnePopulation.value_counts() #구간의 값을 구한다."
   ]
  },
  {
   "cell_type": "markdown",
   "id": "f948930c",
   "metadata": {},
   "source": [
    "도수분포표와 백분위수 모두 구간을 나눠서 데이터를 살펴보는 접근 방법이다. 사분위수와 십분위수는 각 구간에 같은 수의 데이터가 포함되도록 즉 서로 크기가 다른 구간을 나누는 것이라면 도수분포표는 구간의 크기가 같도록 즉 구간안에 다른 개수의 데이터가 오도록 한다고 볼 수 있다."
   ]
  },
  {
   "cell_type": "markdown",
   "id": "2f60dd1b",
   "metadata": {},
   "source": [
    "### 히스토그램 \n",
    "> 도수분포표를 시각화  \n",
    "  x축에 구간들을 표시 ,y축에 해당 구간별 데이터의 개수를 표시"
   ]
  },
  {
   "cell_type": "code",
   "execution_count": 19,
   "id": "167fa921",
   "metadata": {},
   "outputs": [
    {
     "data": {
      "text/plain": [
       "Text(0.5, 0, 'Population(Millions)')"
      ]
     },
     "execution_count": 19,
     "metadata": {},
     "output_type": "execute_result"
    },
    {
     "data": {
      "image/png": "[encoded data removed]",
      "text/plain": [
       "<Figure size 288x288 with 1 Axes>"
      ]
     },
     "metadata": {
      "needs_background": "light"
     },
     "output_type": "display_data"
    }
   ],
   "source": [
    "ax = (state[\"Population\"]/1_000_000).plot.hist(figsize= (4,4))\n",
    "ax.set_xlabel(\"Population(Millions)\")"
   ]
  },
  {
   "cell_type": "markdown",
   "id": "cad3a99e",
   "metadata": {},
   "source": [
    "히스토그램으로 얻을 수 있는 정보들   \n",
    "그래프에 빈 구간들이 있다.  \n",
    "구간을 동일한 크기를 갖는다.  \n",
    "구간의 수는 사용자가 결정할 수 있다.  \n",
    "빈 구간이 있지 않은 이상 , 막대 사이는 공간 없이 서로 붙어있다.  "
   ]
  },
  {
   "cell_type": "markdown",
   "id": "78044518",
   "metadata": {},
   "source": [
    "왜도 - 데이터가 큰 값이나 작은 값 쪽으로 얼마나 비스듬이 쏠려있는지를 나타낸다.  \n",
    "첨도 - 데이터가 극 값을 갖는 경향성을 나타낸다."
   ]
  },
  {
   "cell_type": "markdown",
   "id": "72edea3a",
   "metadata": {},
   "source": [
    "## Density Estimates\n",
    "> 데이터의 분포를 연속된 선으로 보여준다. 커널밀도추정을 통해 데이터로부터 직접 계산한다.  \n",
    "  pandas는 밀도그림을 생성하기 위해 density메서드를 제공, 밀도의 부드러움을 제어하기 위해 bw_method 이용"
   ]
  },
  {
   "cell_type": "code",
   "execution_count": 20,
   "id": "c117c186",
   "metadata": {},
   "outputs": [
    {
     "data": {
      "image/png": "[encoded data removed]",
      "text/plain": [
       "<Figure size 288x288 with 1 Axes>"
      ]
     },
     "metadata": {
      "needs_background": "light"
     },
     "output_type": "display_data"
    }
   ],
   "source": [
    "ax = state['Murder.Rate'].plot.hist(density=True, xlim=[0, 12], \n",
    "                                    bins=range(1,12), figsize=(4, 4))\n",
    "\n",
    "state['Murder.Rate'].plot.density(ax=ax) # 동일한 그래프에 그래프가 추가될 수 있도록 선택적으로 축인수 준다.\n",
    "ax.set_xlabel('Murder Rate (per 100,000)')\n",
    "\n",
    "plt.tight_layout()\n",
    "plt.show()"
   ]
  },
  {
   "cell_type": "markdown",
   "id": "a71708eb",
   "metadata": {},
   "source": [
    "## Exploring Binary and Categorical Data(이진 데이터와 범주데이터 탐색)"
   ]
  },
  {
   "cell_type": "markdown",
   "id": "3c1f7565",
   "metadata": {},
   "source": [
    "### Binarydata(이진 데이터)\n",
    ">기본 단위가 2개의 상태만 가지는 데이터이다. 일반적으로 이진법과 불 대수에서는 2개의 상태를 0과 +1로 나타낸다."
   ]
  },
  {
   "cell_type": "code",
   "execution_count": 21,
   "id": "a60e89c9",
   "metadata": {},
   "outputs": [
    {
     "data": {
      "text/html": [
       "<div>\n",
       "<style scoped>\n",
       "    .dataframe tbody tr th:only-of-type {\n",
       "        vertical-align: middle;\n",
       "    }\n",
       "\n",
       "    .dataframe tbody tr th {\n",
       "        vertical-align: top;\n",
       "    }\n",
       "\n",
       "    .dataframe thead th {\n",
       "        text-align: right;\n",
       "    }\n",
       "</style>\n",
       "<table border=\"1\" class=\"dataframe\">\n",
       "  <thead>\n",
       "    <tr style=\"text-align: right;\">\n",
       "      <th></th>\n",
       "      <th>Carrier</th>\n",
       "      <th>ATC</th>\n",
       "      <th>Weather</th>\n",
       "      <th>Security</th>\n",
       "      <th>Inbound</th>\n",
       "    </tr>\n",
       "  </thead>\n",
       "  <tbody>\n",
       "    <tr>\n",
       "      <th>0</th>\n",
       "      <td>64263.16</td>\n",
       "      <td>84856.5</td>\n",
       "      <td>11235.42</td>\n",
       "      <td>343.15</td>\n",
       "      <td>118427.82</td>\n",
       "    </tr>\n",
       "  </tbody>\n",
       "</table>\n",
       "</div>"
      ],
      "text/plain": [
       "    Carrier      ATC   Weather  Security    Inbound\n",
       "0  64263.16  84856.5  11235.42    343.15  118427.82"
      ]
     },
     "execution_count": 21,
     "metadata": {},
     "output_type": "execute_result"
    }
   ],
   "source": [
    "dfw = pd.read_csv(\"data/dfw_airline.csv\")\n",
    "dfw.head()"
   ]
  },
  {
   "cell_type": "code",
   "execution_count": 23,
   "id": "6c16ac1a",
   "metadata": {},
   "outputs": [
    {
     "data": {
      "text/plain": [
       "279126.05000000005"
      ]
     },
     "execution_count": 23,
     "metadata": {},
     "output_type": "execute_result"
    }
   ],
   "source": [
    "dfw.values.sum()"
   ]
  },
  {
   "cell_type": "code",
   "execution_count": 24,
   "id": "ab6b70d4",
   "metadata": {},
   "outputs": [
    {
     "name": "stdout",
     "output_type": "stream",
     "text": [
      "     Carrier        ATC   Weather  Security    Inbound\n",
      "0  23.022989  30.400781  4.025214  0.122937  42.428079\n"
     ]
    }
   ],
   "source": [
    "print(100 * dfw / dfw.values.sum()) # 댈러스 - 포트워스 공항의 운행지연 원인별 퍼센트 비율"
   ]
  },
  {
   "cell_type": "markdown",
   "id": "71387473",
   "metadata": {},
   "source": [
    "### 막대도표 \n",
    "> 범주형 자료를 보여줄 때 주로 사용된다.  \n",
    "  x축 위에 각 범주들을 놓고 y축에 각 범주에 해당하는 횟수나 비율을 표시한다."
   ]
  },
  {
   "cell_type": "code",
   "execution_count": 29,
   "id": "0c9bbbea",
   "metadata": {},
   "outputs": [
    {
     "data": {
      "image/png": "[encoded data removed]",
      "text/plain": [
       "<Figure size 288x288 with 1 Axes>"
      ]
     },
     "metadata": {
      "needs_background": "light"
     },
     "output_type": "display_data"
    }
   ],
   "source": [
    "ax = dfw.transpose().plot.bar(figsize=(4, 4), legend=False)\n",
    "ax.set_xlabel('Cause of delay')\n",
    "ax.set_ylabel('Count')\n",
    "\n",
    "plt.tight_layout()\n",
    "plt.show()"
   ]
  },
  {
   "cell_type": "markdown",
   "id": "270f5e8b",
   "metadata": {},
   "source": [
    "### 최빈값 \n",
    "> 데이터에서 가장 자주 등장하는 값 혹은 값들을 의미한다.  \n",
    " [1,2,3,1,2,1] 최빈값은 1"
   ]
  },
  {
   "cell_type": "markdown",
   "id": "377836cf",
   "metadata": {},
   "source": [
    "### 기대값\n",
    "> 범주형 데이터 중에 각 범주에 해당하는 수치형 변수들이 존재하는 특별한 경우가 있을 수 있다.  \n",
    "  가중치가 해당 확률이 되는 가중평균이 기댓값  \n",
    "\n",
    "> 기댓값 계산  \n",
    "  각 결과값과 발생 확률을 곱, 이 값들을 모두 더한다.\n"
   ]
  },
  {
   "cell_type": "markdown",
   "id": "49934ef4",
   "metadata": {},
   "source": [
    "## Correlation(상관관계)"
   ]
  },
  {
   "cell_type": "code",
   "execution_count": 35,
   "id": "039b1790",
   "metadata": {},
   "outputs": [
    {
     "data": {
      "text/html": [
       "<div>\n",
       "<style scoped>\n",
       "    .dataframe tbody tr th:only-of-type {\n",
       "        vertical-align: middle;\n",
       "    }\n",
       "\n",
       "    .dataframe tbody tr th {\n",
       "        vertical-align: top;\n",
       "    }\n",
       "\n",
       "    .dataframe thead th {\n",
       "        text-align: right;\n",
       "    }\n",
       "</style>\n",
       "<table border=\"1\" class=\"dataframe\">\n",
       "  <thead>\n",
       "    <tr style=\"text-align: right;\">\n",
       "      <th></th>\n",
       "      <th>ADS</th>\n",
       "      <th>CA</th>\n",
       "      <th>MSFT</th>\n",
       "      <th>RHT</th>\n",
       "      <th>CTSH</th>\n",
       "      <th>CSC</th>\n",
       "      <th>EMC</th>\n",
       "      <th>IBM</th>\n",
       "      <th>XRX</th>\n",
       "      <th>ALTR</th>\n",
       "      <th>...</th>\n",
       "      <th>WAT</th>\n",
       "      <th>ALXN</th>\n",
       "      <th>AMGN</th>\n",
       "      <th>BXLT</th>\n",
       "      <th>BIIB</th>\n",
       "      <th>CELG</th>\n",
       "      <th>GILD</th>\n",
       "      <th>REGN</th>\n",
       "      <th>VRTX</th>\n",
       "      <th>HSIC</th>\n",
       "    </tr>\n",
       "  </thead>\n",
       "  <tbody>\n",
       "    <tr>\n",
       "      <th>1993-01-29</th>\n",
       "      <td>0.0</td>\n",
       "      <td>0.060124</td>\n",
       "      <td>-0.022100</td>\n",
       "      <td>0.0</td>\n",
       "      <td>0.0</td>\n",
       "      <td>0.018897</td>\n",
       "      <td>0.007368</td>\n",
       "      <td>0.092165</td>\n",
       "      <td>0.259140</td>\n",
       "      <td>-0.007105</td>\n",
       "      <td>...</td>\n",
       "      <td>0.0</td>\n",
       "      <td>0.0</td>\n",
       "      <td>0.34716</td>\n",
       "      <td>0.0</td>\n",
       "      <td>0.04167</td>\n",
       "      <td>0.00000</td>\n",
       "      <td>0.015564</td>\n",
       "      <td>1.75</td>\n",
       "      <td>0.125</td>\n",
       "      <td>0.0</td>\n",
       "    </tr>\n",
       "    <tr>\n",
       "      <th>1993-02-01</th>\n",
       "      <td>0.0</td>\n",
       "      <td>-0.180389</td>\n",
       "      <td>0.027621</td>\n",
       "      <td>0.0</td>\n",
       "      <td>0.0</td>\n",
       "      <td>0.018889</td>\n",
       "      <td>0.018425</td>\n",
       "      <td>0.115207</td>\n",
       "      <td>-0.100775</td>\n",
       "      <td>0.063893</td>\n",
       "      <td>...</td>\n",
       "      <td>0.0</td>\n",
       "      <td>0.0</td>\n",
       "      <td>-0.23144</td>\n",
       "      <td>0.0</td>\n",
       "      <td>0.00000</td>\n",
       "      <td>-0.01041</td>\n",
       "      <td>0.007782</td>\n",
       "      <td>1.25</td>\n",
       "      <td>0.125</td>\n",
       "      <td>0.0</td>\n",
       "    </tr>\n",
       "    <tr>\n",
       "      <th>1993-02-02</th>\n",
       "      <td>0.0</td>\n",
       "      <td>-0.120257</td>\n",
       "      <td>0.035900</td>\n",
       "      <td>0.0</td>\n",
       "      <td>0.0</td>\n",
       "      <td>-0.075573</td>\n",
       "      <td>0.029482</td>\n",
       "      <td>-0.023041</td>\n",
       "      <td>0.028796</td>\n",
       "      <td>-0.014192</td>\n",
       "      <td>...</td>\n",
       "      <td>0.0</td>\n",
       "      <td>0.0</td>\n",
       "      <td>-0.11572</td>\n",
       "      <td>0.0</td>\n",
       "      <td>0.00000</td>\n",
       "      <td>0.00000</td>\n",
       "      <td>-0.007792</td>\n",
       "      <td>-0.25</td>\n",
       "      <td>0.000</td>\n",
       "      <td>0.0</td>\n",
       "    </tr>\n",
       "  </tbody>\n",
       "</table>\n",
       "<p>3 rows × 517 columns</p>\n",
       "</div>"
      ],
      "text/plain": [
       "            ADS        CA      MSFT  RHT  CTSH       CSC       EMC       IBM  \\\n",
       "1993-01-29  0.0  0.060124 -0.022100  0.0   0.0  0.018897  0.007368  0.092165   \n",
       "1993-02-01  0.0 -0.180389  0.027621  0.0   0.0  0.018889  0.018425  0.115207   \n",
       "1993-02-02  0.0 -0.120257  0.035900  0.0   0.0 -0.075573  0.029482 -0.023041   \n",
       "\n",
       "                 XRX      ALTR  ...  WAT  ALXN     AMGN  BXLT     BIIB  \\\n",
       "1993-01-29  0.259140 -0.007105  ...  0.0   0.0  0.34716   0.0  0.04167   \n",
       "1993-02-01 -0.100775  0.063893  ...  0.0   0.0 -0.23144   0.0  0.00000   \n",
       "1993-02-02  0.028796 -0.014192  ...  0.0   0.0 -0.11572   0.0  0.00000   \n",
       "\n",
       "               CELG      GILD  REGN   VRTX  HSIC  \n",
       "1993-01-29  0.00000  0.015564  1.75  0.125   0.0  \n",
       "1993-02-01 -0.01041  0.007782  1.25  0.125   0.0  \n",
       "1993-02-02  0.00000 -0.007792 -0.25  0.000   0.0  \n",
       "\n",
       "[3 rows x 517 columns]"
      ]
     },
     "metadata": {},
     "output_type": "display_data"
    },
    {
     "data": {
      "text/html": [
       "<div>\n",
       "<style scoped>\n",
       "    .dataframe tbody tr th:only-of-type {\n",
       "        vertical-align: middle;\n",
       "    }\n",
       "\n",
       "    .dataframe tbody tr th {\n",
       "        vertical-align: top;\n",
       "    }\n",
       "\n",
       "    .dataframe thead th {\n",
       "        text-align: right;\n",
       "    }\n",
       "</style>\n",
       "<table border=\"1\" class=\"dataframe\">\n",
       "  <thead>\n",
       "    <tr style=\"text-align: right;\">\n",
       "      <th></th>\n",
       "      <th>sector</th>\n",
       "      <th>sector_label</th>\n",
       "      <th>sub_sector</th>\n",
       "      <th>symbol</th>\n",
       "    </tr>\n",
       "  </thead>\n",
       "  <tbody>\n",
       "    <tr>\n",
       "      <th>0</th>\n",
       "      <td>information_technology</td>\n",
       "      <td>Technology</td>\n",
       "      <td>data_processing_&amp;_outsourced_services</td>\n",
       "      <td>ADS</td>\n",
       "    </tr>\n",
       "    <tr>\n",
       "      <th>1</th>\n",
       "      <td>information_technology</td>\n",
       "      <td>Technology</td>\n",
       "      <td>systems_software</td>\n",
       "      <td>CA</td>\n",
       "    </tr>\n",
       "    <tr>\n",
       "      <th>2</th>\n",
       "      <td>information_technology</td>\n",
       "      <td>Technology</td>\n",
       "      <td>systems_software</td>\n",
       "      <td>MSFT</td>\n",
       "    </tr>\n",
       "  </tbody>\n",
       "</table>\n",
       "</div>"
      ],
      "text/plain": [
       "                   sector sector_label                             sub_sector  \\\n",
       "0  information_technology   Technology  data_processing_&_outsourced_services   \n",
       "1  information_technology   Technology                       systems_software   \n",
       "2  information_technology   Technology                       systems_software   \n",
       "\n",
       "  symbol  \n",
       "0    ADS  \n",
       "1     CA  \n",
       "2   MSFT  "
      ]
     },
     "metadata": {},
     "output_type": "display_data"
    }
   ],
   "source": [
    "sp_500_d = pd.read_csv(\"data/sp500_data.csv\",index_col= 0)\n",
    "sp_500_s = pd.read_csv(\"data/sp500_sectors.csv\")\n",
    "\n",
    "display(sp_500_d.head(3), sp_500_s.head(3))"
   ]
  },
  {
   "cell_type": "code",
   "execution_count": 37,
   "id": "2d899add",
   "metadata": {},
   "outputs": [
    {
     "name": "stdout",
     "output_type": "stream",
     "text": [
      "                   T       CTL       FTR        VZ      LVLT\n",
      "2012-07-02  0.422496  0.140847  0.070879  0.554180 -0.519998\n",
      "2012-07-03 -0.177448  0.066280  0.070879 -0.025976 -0.049999\n",
      "2012-07-05 -0.160548 -0.132563  0.055128 -0.051956 -0.180000\n",
      "2012-07-06  0.342205  0.132563  0.007875  0.140106 -0.359999\n",
      "2012-07-09  0.136883  0.124279 -0.023626  0.253943  0.180000\n",
      "...              ...       ...       ...       ...       ...\n",
      "2015-06-25  0.049342 -1.600000 -0.040000 -0.187790 -0.330002\n",
      "2015-06-26 -0.256586  0.039999 -0.070000  0.029650 -0.739998\n",
      "2015-06-29 -0.098685 -0.559999 -0.060000 -0.504063 -1.360000\n",
      "2015-06-30 -0.503298 -0.420000 -0.070000 -0.523829  0.199997\n",
      "2015-07-01 -0.019737  0.080000 -0.050000  0.355811  0.139999\n",
      "\n",
      "[754 rows x 5 columns]\n"
     ]
    }
   ],
   "source": [
    "# sector 데이터에서 텔레콤 서비스 회사만 추출\n",
    "telecomSymbols = sp_500_s[sp_500_s['sector'] == 'telecommunications_services']['symbol']\n",
    "\n",
    "#sp데이터에서 2012-07-01전에 데이터만 추출 \n",
    "telecom = sp_500_d.loc[sp_500_d.index >= '2012-07-01', telecomSymbols]\n",
    "telecom.corr()\n",
    "print(telecom)"
   ]
  },
  {
   "cell_type": "code",
   "execution_count": 39,
   "id": "14faddf6",
   "metadata": {},
   "outputs": [
    {
     "name": "stdout",
     "output_type": "stream",
     "text": [
      "                 XLI       QQQ       SPY       DIA       GLD    VXX       USO  \\\n",
      "2012-07-02 -0.376098  0.096313  0.028223 -0.242796  0.419998 -10.40  0.000000   \n",
      "2012-07-03  0.376099  0.481576  0.874936  0.728405  0.490006  -3.52  0.250000   \n",
      "2012-07-05  0.150440  0.096313 -0.103487  0.149420  0.239991   6.56 -0.070000   \n",
      "2012-07-06 -0.141040 -0.491201  0.018819 -0.205449 -0.519989  -8.80 -0.180000   \n",
      "2012-07-09  0.244465 -0.048160 -0.056445 -0.168094  0.429992  -0.48  0.459999   \n",
      "\n",
      "                 IWM       XLE       XLY       XLU       XLB       XTL  \\\n",
      "2012-07-02  0.534641  0.028186  0.095759  0.098311 -0.093713  0.019076   \n",
      "2012-07-03  0.926067  0.995942  0.000000 -0.044686  0.337373  0.000000   \n",
      "2012-07-05 -0.171848 -0.460387  0.306431 -0.151938  0.103086  0.019072   \n",
      "2012-07-06 -0.229128  0.206706  0.153214  0.080437  0.018744 -0.429213   \n",
      "2012-07-09 -0.190939 -0.234892 -0.201098 -0.035751 -0.168687  0.000000   \n",
      "\n",
      "                 XLV       XLP       XLF       XLK  \n",
      "2012-07-02 -0.009529  0.313499  0.018999  0.075668  \n",
      "2012-07-03  0.000000  0.129087  0.104492  0.236462  \n",
      "2012-07-05 -0.142955 -0.073766 -0.142490  0.066211  \n",
      "2012-07-06 -0.095304  0.119865  0.066495 -0.227003  \n",
      "2012-07-09  0.352630 -0.064548  0.018999  0.009457  \n"
     ]
    }
   ],
   "source": [
    "etfs = sp_500_d.loc[sp_500_d.index > '2012-07-01', \n",
    "                    sp_500_s[sp_500_s['sector'] == 'etf']['symbol']]\n",
    "print(etfs.head())"
   ]
  },
  {
   "cell_type": "code",
   "execution_count": 40,
   "id": "70e33d8d",
   "metadata": {},
   "outputs": [
    {
     "data": {
      "image/png": "[encoded data removed]",
      "text/plain": [
       "<Figure size 360x288 with 2 Axes>"
      ]
     },
     "metadata": {
      "needs_background": "light"
     },
     "output_type": "display_data"
    }
   ],
   "source": [
    "fig, ax = plt.subplots(figsize=(5, 4))\n",
    "ax = sns.heatmap(etfs.corr(), vmin=-1, vmax=1, \n",
    "                 cmap=sns.diverging_palette(20, 220, as_cmap=True),\n",
    "                 ax=ax)\n",
    "\n",
    "plt.tight_layout()\n",
    "plt.show()"
   ]
  },
  {
   "cell_type": "markdown",
   "id": "ff64f255",
   "metadata": {},
   "source": [
    "## Scatterplots(산점도)\n",
    "> 두변수 사이의 관계를 시각화하는 가장 기본적인 방법  \n",
    "  x축,y축은 각각의 변수들을 의미하고 그래프의 각 점은 하나의 레코드를 의미한다."
   ]
  },
  {
   "cell_type": "code",
   "execution_count": 41,
   "id": "000017e5",
   "metadata": {},
   "outputs": [
    {
     "data": {
      "text/plain": [
       "<matplotlib.lines.Line2D at 0x1db05625d90>"
      ]
     },
     "execution_count": 41,
     "metadata": {},
     "output_type": "execute_result"
    },
    {
     "data": {
      "image/png": "[encoded data removed]",
      "text/plain": [
       "<Figure size 288x288 with 1 Axes>"
      ]
     },
     "metadata": {
      "needs_background": "light"
     },
     "output_type": "display_data"
    }
   ],
   "source": [
    "ax = telecom.plot.scatter(x='T', y='VZ', figsize=(4, 4), marker='$\\u25EF$')\n",
    "ax.set_xlabel('ATT (T)')\n",
    "ax.set_ylabel('Verizon (VZ)')\n",
    "ax.axhline(0, color='grey', lw=1)\n",
    "ax.axvline(0, color='grey', lw=1)"
   ]
  },
  {
   "cell_type": "code",
   "execution_count": 42,
   "id": "31e75d7a",
   "metadata": {},
   "outputs": [
    {
     "name": "stdout",
     "output_type": "stream",
     "text": [
      "Line2D(_line1)\n"
     ]
    },
    {
     "data": {
      "image/png": "[encoded data removed]",
      "text/plain": [
       "<Figure size 288x288 with 1 Axes>"
      ]
     },
     "metadata": {
      "needs_background": "light"
     },
     "output_type": "display_data"
    }
   ],
   "source": [
    "ax = telecom.plot.scatter(x='T', y='VZ', figsize=(4, 4), marker='$\\u25EF$', alpha=0.5)\n",
    "ax.set_xlabel('ATT (T)')\n",
    "ax.set_ylabel('Verizon (VZ)')\n",
    "ax.axhline(0, color='grey', lw=1)\n",
    "print(ax.axvline(0, color='grey', lw=1))"
   ]
  },
  {
   "cell_type": "markdown",
   "id": "e6ce5f9c",
   "metadata": {},
   "source": [
    "## Exploring Two or More Variables(두개 이상의 변수 탐색하기)"
   ]
  },
  {
   "cell_type": "code",
   "execution_count": 43,
   "id": "7c0f7b5e",
   "metadata": {},
   "outputs": [
    {
     "data": {
      "text/html": [
       "<div>\n",
       "<style scoped>\n",
       "    .dataframe tbody tr th:only-of-type {\n",
       "        vertical-align: middle;\n",
       "    }\n",
       "\n",
       "    .dataframe tbody tr th {\n",
       "        vertical-align: top;\n",
       "    }\n",
       "\n",
       "    .dataframe thead th {\n",
       "        text-align: right;\n",
       "    }\n",
       "</style>\n",
       "<table border=\"1\" class=\"dataframe\">\n",
       "  <thead>\n",
       "    <tr style=\"text-align: right;\">\n",
       "      <th></th>\n",
       "      <th>TaxAssessedValue</th>\n",
       "      <th>SqFtTotLiving</th>\n",
       "      <th>ZipCode</th>\n",
       "    </tr>\n",
       "  </thead>\n",
       "  <tbody>\n",
       "    <tr>\n",
       "      <th>0</th>\n",
       "      <td>NaN</td>\n",
       "      <td>1730</td>\n",
       "      <td>98117.0</td>\n",
       "    </tr>\n",
       "    <tr>\n",
       "      <th>1</th>\n",
       "      <td>206000.0</td>\n",
       "      <td>1870</td>\n",
       "      <td>98002.0</td>\n",
       "    </tr>\n",
       "    <tr>\n",
       "      <th>2</th>\n",
       "      <td>303000.0</td>\n",
       "      <td>1530</td>\n",
       "      <td>98166.0</td>\n",
       "    </tr>\n",
       "  </tbody>\n",
       "</table>\n",
       "</div>"
      ],
      "text/plain": [
       "   TaxAssessedValue  SqFtTotLiving  ZipCode\n",
       "0               NaN           1730  98117.0\n",
       "1          206000.0           1870  98002.0\n",
       "2          303000.0           1530  98166.0"
      ]
     },
     "execution_count": 43,
     "metadata": {},
     "output_type": "execute_result"
    }
   ],
   "source": [
    "kc_tax = pd.read_csv(\"data/kc_tax.csv\") # 위싱턴주에 위치한 킹카운터의 주택 시설에 대한 과세 평가 금액 정보 데이터셋 \n",
    "kc_tax.head(3)"
   ]
  },
  {
   "cell_type": "code",
   "execution_count": 44,
   "id": "0adb69e1",
   "metadata": {},
   "outputs": [
    {
     "data": {
      "text/html": [
       "<div>\n",
       "<style scoped>\n",
       "    .dataframe tbody tr th:only-of-type {\n",
       "        vertical-align: middle;\n",
       "    }\n",
       "\n",
       "    .dataframe tbody tr th {\n",
       "        vertical-align: top;\n",
       "    }\n",
       "\n",
       "    .dataframe thead th {\n",
       "        text-align: right;\n",
       "    }\n",
       "</style>\n",
       "<table border=\"1\" class=\"dataframe\">\n",
       "  <thead>\n",
       "    <tr style=\"text-align: right;\">\n",
       "      <th></th>\n",
       "      <th>TaxAssessedValue</th>\n",
       "      <th>SqFtTotLiving</th>\n",
       "      <th>ZipCode</th>\n",
       "    </tr>\n",
       "  </thead>\n",
       "  <tbody>\n",
       "    <tr>\n",
       "      <th>1</th>\n",
       "      <td>206000.0</td>\n",
       "      <td>1870</td>\n",
       "      <td>98002.0</td>\n",
       "    </tr>\n",
       "    <tr>\n",
       "      <th>2</th>\n",
       "      <td>303000.0</td>\n",
       "      <td>1530</td>\n",
       "      <td>98166.0</td>\n",
       "    </tr>\n",
       "    <tr>\n",
       "      <th>3</th>\n",
       "      <td>361000.0</td>\n",
       "      <td>2000</td>\n",
       "      <td>98108.0</td>\n",
       "    </tr>\n",
       "    <tr>\n",
       "      <th>4</th>\n",
       "      <td>459000.0</td>\n",
       "      <td>3150</td>\n",
       "      <td>98108.0</td>\n",
       "    </tr>\n",
       "    <tr>\n",
       "      <th>5</th>\n",
       "      <td>223000.0</td>\n",
       "      <td>1570</td>\n",
       "      <td>98032.0</td>\n",
       "    </tr>\n",
       "    <tr>\n",
       "      <th>...</th>\n",
       "      <td>...</td>\n",
       "      <td>...</td>\n",
       "      <td>...</td>\n",
       "    </tr>\n",
       "    <tr>\n",
       "      <th>498244</th>\n",
       "      <td>375000.0</td>\n",
       "      <td>2230</td>\n",
       "      <td>98056.0</td>\n",
       "    </tr>\n",
       "    <tr>\n",
       "      <th>498245</th>\n",
       "      <td>316000.0</td>\n",
       "      <td>1710</td>\n",
       "      <td>98056.0</td>\n",
       "    </tr>\n",
       "    <tr>\n",
       "      <th>498246</th>\n",
       "      <td>340000.0</td>\n",
       "      <td>1930</td>\n",
       "      <td>98056.0</td>\n",
       "    </tr>\n",
       "    <tr>\n",
       "      <th>498247</th>\n",
       "      <td>132000.0</td>\n",
       "      <td>2930</td>\n",
       "      <td>98056.0</td>\n",
       "    </tr>\n",
       "    <tr>\n",
       "      <th>498248</th>\n",
       "      <td>286000.0</td>\n",
       "      <td>1310</td>\n",
       "      <td>98056.0</td>\n",
       "    </tr>\n",
       "  </tbody>\n",
       "</table>\n",
       "<p>432693 rows × 3 columns</p>\n",
       "</div>"
      ],
      "text/plain": [
       "        TaxAssessedValue  SqFtTotLiving  ZipCode\n",
       "1               206000.0           1870  98002.0\n",
       "2               303000.0           1530  98166.0\n",
       "3               361000.0           2000  98108.0\n",
       "4               459000.0           3150  98108.0\n",
       "5               223000.0           1570  98032.0\n",
       "...                  ...            ...      ...\n",
       "498244          375000.0           2230  98056.0\n",
       "498245          316000.0           1710  98056.0\n",
       "498246          340000.0           1930  98056.0\n",
       "498247          132000.0           2930  98056.0\n",
       "498248          286000.0           1310  98056.0\n",
       "\n",
       "[432693 rows x 3 columns]"
      ]
     },
     "execution_count": 44,
     "metadata": {},
     "output_type": "execute_result"
    }
   ],
   "source": [
    "# 데이터의 주요 부분에 집중하기 위해, 극단값을  제거 \n",
    "kc_tax_d =  kc_tax.loc[(kc_tax.TaxAssessedValue < 750000) & \n",
    "                     (kc_tax.SqFtTotLiving > 100) &\n",
    "                     (kc_tax.SqFtTotLiving < 3500), :]\n",
    "kc_tax_d"
   ]
  },
  {
   "cell_type": "markdown",
   "id": "94ee790d",
   "metadata": {},
   "source": [
    "## Hexagonal binning and Contours (육각형 구간과 등고선)\n",
    "### Plotting numeric versus numeric data     (수치형 변수 대 수치형 변수를 시각화)"
   ]
  },
  {
   "cell_type": "markdown",
   "id": "e325479a",
   "metadata": {},
   "source": [
    "산점도는 상대적으로 데이터의 갯수가 적을 때 유용 , 육각형 구간그림은 점으로 데이터 값을 표기하는 대신 기록값을 육각형 모양의   \n",
    "구간들로 나누고 각 구간에 포함된 기록값의 개수에 따라 색깔을 표시 이 방법이 데이터가 많을 때 유용하다."
   ]
  },
  {
   "cell_type": "markdown",
   "id": "44655583",
   "metadata": {},
   "source": [
    "pandas에서는 `hexbin`을 사용하여 육각형 구간도표를 그린다."
   ]
  },
  {
   "cell_type": "code",
   "execution_count": 47,
   "id": "afb6f962",
   "metadata": {},
   "outputs": [
    {
     "data": {
      "text/plain": [
       "Text(0, 0.5, 'Tax Assessed Value')"
      ]
     },
     "execution_count": 47,
     "metadata": {},
     "output_type": "execute_result"
    },
    {
     "data": {
      "image/png": "[encoded data removed]",
      "text/plain": [
       "<Figure size 360x288 with 2 Axes>"
      ]
     },
     "metadata": {
      "needs_background": "light"
     },
     "output_type": "display_data"
    }
   ],
   "source": [
    "ax = kc_tax_d.plot.hexbin(x = 'SqFtTotLiving', y = 'TaxAssessedValue', gridsize = 30 ,sharex =False , figsize = (5,4))\n",
    "ax.set_xlabel('Finished Square Feet')\n",
    "ax.set_ylabel('Tax Assessed Value')"
   ]
  },
  {
   "cell_type": "markdown",
   "id": "781f0f34",
   "metadata": {},
   "source": [
    "### seaborn kdeplot 이용한 등고선 추가 \n",
    "> 전체 데이셋에 대해 2차원 상의 밀도를 시각화하는데 시간이 소요 그렇기 때문에 디테일한 부분이 줄어들 수 있지만 샘플을 뽑아 시각화하는 방법이 효과적이다."
   ]
  },
  {
   "cell_type": "code",
   "execution_count": 48,
   "id": "15eb5619",
   "metadata": {},
   "outputs": [
    {
     "data": {
      "text/plain": [
       "Text(0, 0.5, 'Tax Assessed Value')"
      ]
     },
     "execution_count": 48,
     "metadata": {},
     "output_type": "execute_result"
    },
    {
     "data": {
      "image/png": "[encoded data removed]",
      "text/plain": [
       "<Figure size 288x288 with 1 Axes>"
      ]
     },
     "metadata": {
      "needs_background": "light"
     },
     "output_type": "display_data"
    }
   ],
   "source": [
    "fig, ax = plt.subplots(figsize=(4, 4))\n",
    "sns.kdeplot(data=kc_tax_d.sample(10000), x='SqFtTotLiving', y='TaxAssessedValue', ax=ax)\n",
    "ax.set_xlabel('Finished Square Feet')\n",
    "ax.set_ylabel('Tax Assessed Value')"
   ]
  },
  {
   "cell_type": "markdown",
   "id": "b7bb8c96",
   "metadata": {},
   "source": [
    "## Two Categorical Variables(범주형 변수 대 범주형 범수)"
   ]
  },
  {
   "cell_type": "code",
   "execution_count": 3,
   "id": "6e02e82e",
   "metadata": {},
   "outputs": [
    {
     "data": {
      "text/html": [
       "<div>\n",
       "<style scoped>\n",
       "    .dataframe tbody tr th:only-of-type {\n",
       "        vertical-align: middle;\n",
       "    }\n",
       "\n",
       "    .dataframe tbody tr th {\n",
       "        vertical-align: top;\n",
       "    }\n",
       "\n",
       "    .dataframe thead th {\n",
       "        text-align: right;\n",
       "    }\n",
       "</style>\n",
       "<table border=\"1\" class=\"dataframe\">\n",
       "  <thead>\n",
       "    <tr style=\"text-align: right;\">\n",
       "      <th></th>\n",
       "      <th>status</th>\n",
       "      <th>grade</th>\n",
       "    </tr>\n",
       "  </thead>\n",
       "  <tbody>\n",
       "    <tr>\n",
       "      <th>0</th>\n",
       "      <td>Fully Paid</td>\n",
       "      <td>B</td>\n",
       "    </tr>\n",
       "    <tr>\n",
       "      <th>1</th>\n",
       "      <td>Charged Off</td>\n",
       "      <td>C</td>\n",
       "    </tr>\n",
       "    <tr>\n",
       "      <th>2</th>\n",
       "      <td>Fully Paid</td>\n",
       "      <td>C</td>\n",
       "    </tr>\n",
       "  </tbody>\n",
       "</table>\n",
       "</div>"
      ],
      "text/plain": [
       "        status grade\n",
       "0   Fully Paid     B\n",
       "1  Charged Off     C\n",
       "2   Fully Paid     C"
      ]
     },
     "execution_count": 3,
     "metadata": {},
     "output_type": "execute_result"
    }
   ],
   "source": [
    "lc_loans = pd.read_csv(\"data/lc_loans.csv\") # 개인대출 등급과 대출 결과를 나타내는 데이터셋\n",
    "lc_loans.head(3)"
   ]
  },
  {
   "cell_type": "markdown",
   "id": "515cdf29",
   "metadata": {},
   "source": [
    "분할표는 두 범주형 변수를 요약하는 데 효과적인 방법, 범주별 빈도수를 기록한다."
   ]
  },
  {
   "cell_type": "code",
   "execution_count": 7,
   "id": "34913db4",
   "metadata": {},
   "outputs": [
    {
     "name": "stdout",
     "output_type": "stream",
     "text": [
      "status  Charged Off  Current  Fully Paid  Late     All\n",
      "grade                                                 \n",
      "A              1562    50051       20408   469   72490\n",
      "B              5302    93852       31160  2056  132370\n",
      "C              6023    88928       23147  2777  120875\n",
      "D              5007    53281       13681  2308   74277\n",
      "E              2842    24639        5949  1374   34804\n",
      "F              1526     8444        2328   606   12904\n",
      "G               409     1990         643   199    3241\n",
      "All           22671   321185       97316  9789  450961\n"
     ]
    }
   ],
   "source": [
    "pv  = lc_loans.pivot_table(index='grade', columns='status', \n",
    "                                aggfunc=lambda x: len(x), margins=True) # margin 키워드의 인수는 열과 행의 합계를 추가할 수 있다.\n",
    "print(pv)"
   ]
  },
  {
   "cell_type": "markdown",
   "id": "2426aac7",
   "metadata": {},
   "source": [
    "분할표 백분율로 표현 "
   ]
  },
  {
   "cell_type": "code",
   "execution_count": 8,
   "id": "18fab995",
   "metadata": {},
   "outputs": [
    {
     "name": "stdout",
     "output_type": "stream",
     "text": [
      "status  Charged Off   Current  Fully Paid      Late       All\n",
      "grade                                                        \n",
      "A          0.021548  0.690454    0.281528  0.006470  0.160746\n",
      "B          0.040054  0.709013    0.235401  0.015532  0.293529\n",
      "C          0.049828  0.735702    0.191495  0.022974  0.268039\n",
      "D          0.067410  0.717328    0.184189  0.031073  0.164708\n",
      "E          0.081657  0.707936    0.170929  0.039478  0.077177\n",
      "F          0.118258  0.654371    0.180409  0.046962  0.028614\n",
      "G          0.126196  0.614008    0.198396  0.061401  0.007187\n"
     ]
    }
   ],
   "source": [
    "df = pv.copy().loc['A':'G',:]\n",
    "df.loc[:,'Charged Off':'Late'] = df.loc[:,'Charged Off':'Late'].div(df['All'], axis=0)\n",
    "df['All'] = df['All'] / sum(df['All'])\n",
    "perc_crosstab = df\n",
    "print(perc_crosstab)"
   ]
  },
  {
   "cell_type": "markdown",
   "id": "309bee62",
   "metadata": {},
   "source": [
    "## Categorical and Numeric Data(범주형 변수 대 수치형 변수)"
   ]
  },
  {
   "cell_type": "markdown",
   "id": "0629d765",
   "metadata": {},
   "source": [
    "상자그림은 범주형 변수에 따라 분류된 수치형 변수의 분포를 시각화하여 비교하는 방법"
   ]
  },
  {
   "cell_type": "code",
   "execution_count": 9,
   "id": "f104ce38",
   "metadata": {},
   "outputs": [
    {
     "data": {
      "image/png": "[encoded data removed]",
      "text/plain": [
       "<Figure size 360x360 with 1 Axes>"
      ]
     },
     "metadata": {
      "needs_background": "light"
     },
     "output_type": "display_data"
    }
   ],
   "source": [
    "airline_stats = pd.read_csv(\"data/airline_stats.csv\")\n",
    "airline_stats.head()\n",
    "ax = airline_stats.boxplot(by='airline', column='pct_carrier_delay',\n",
    "                           figsize=(5, 5))\n",
    "ax.set_xlabel('')\n",
    "ax.set_ylabel('Daily % of Delayed Flights')\n",
    "plt.suptitle('')\n",
    "\n",
    "plt.tight_layout()\n",
    "plt.show()"
   ]
  },
  {
   "cell_type": "markdown",
   "id": "69d03201",
   "metadata": {},
   "source": [
    "바이올린 도표는 상자그림을 보완한 형태로 y축을 따라 밀도추정 결과를 동시에 시각화 합니다. 바이올린 도표의 장점은 상자그림에서는 보이지 않는 데이터의 분포를 볼 수 있다는 점이다. 데이터의 특이값을 더 명확하게 보여준다."
   ]
  },
  {
   "cell_type": "code",
   "execution_count": 10,
   "id": "e8097c8a",
   "metadata": {},
   "outputs": [
    {
     "data": {
      "image/png": "[encoded data removed]",
      "text/plain": [
       "<Figure size 360x360 with 1 Axes>"
      ]
     },
     "metadata": {
      "needs_background": "light"
     },
     "output_type": "display_data"
    }
   ],
   "source": [
    "fig, ax = plt.subplots(figsize=(5, 5))\n",
    "sns.violinplot(data=airline_stats, x='airline', y='pct_carrier_delay',\n",
    "               ax=ax, inner='quartile', color='white')\n",
    "ax.set_xlabel('')\n",
    "ax.set_ylabel('Daily % of Delayed Flights')\n",
    "\n",
    "plt.tight_layout()\n",
    "plt.show()"
   ]
  }
 ],
 "metadata": {
  "kernelspec": {
   "display_name": "Python 3",
   "language": "python",
   "name": "python3"
  },
  "language_info": {
   "codemirror_mode": {
    "name": "ipython",
    "version": 3
   },
   "file_extension": ".py",
   "mimetype": "text/x-python",
   "name": "python",
   "nbconvert_exporter": "python",
   "pygments_lexer": "ipython3",
   "version": "3.8.8"
  }
 },
 "nbformat": 4,
 "nbformat_minor": 5
}
