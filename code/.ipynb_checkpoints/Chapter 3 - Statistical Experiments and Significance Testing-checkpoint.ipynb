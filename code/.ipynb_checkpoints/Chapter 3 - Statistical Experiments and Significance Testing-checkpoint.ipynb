{
 "cells": [
  {
   "cell_type": "markdown",
   "id": "f3ebe9f0",
   "metadata": {},
   "source": [
    "## Chapter 3. Statistial Experiments and Significance Testing(통계적 실험과 유의성 검점)"
   ]
  },
  {
   "cell_type": "code",
   "execution_count": 1,
   "id": "dcf6d42e",
   "metadata": {},
   "outputs": [],
   "source": [
    "# 라이브러리 불러오기\n",
    "%matplotlib inline\n",
    "\n",
    "from pathlib import Path\n",
    "import random\n",
    "\n",
    "import pandas as pd\n",
    "import numpy as np\n",
    "\n",
    "from scipy import stats\n",
    "import statsmodels.api as sm\n",
    "import statsmodels.formula.api as smf\n",
    "from statsmodels.stats import power\n",
    "\n",
    "import matplotlib.pylab as plt"
   ]
  },
  {
   "cell_type": "code",
   "execution_count": 2,
   "id": "51d9ef55",
   "metadata": {},
   "outputs": [],
   "source": [
    "import os\n",
    "os.chdir('C:\\\\Users\\\\my\\\\Desktop')"
   ]
  },
  {
   "cell_type": "markdown",
   "id": "cfd92ebb",
   "metadata": {},
   "source": [
    "## A/B 검정\n",
    "두가지 처리 방법, 제품, 절차 중 어느 쪽이 다른 쪽보다 더 우월하다는 것을 입증 하기 위해 실험군을 두 그룹으로 나누어 진행하는 실험  \n",
    "두가지 처리방법 중 하나는 기준이 되는 기존방법이거나 아예 아무런 처리도 적용하지 않은 방법이 된다. 이를 대조군이라고 한다.   "
   ]
  },
  {
   "cell_type": "markdown",
   "id": "4868639a",
   "metadata": {},
   "source": [
    "## 가설검정 & 유의성 검정 \n",
    "관찰된 효과가 우연에 의한 것인지 여부를 알아내는 것  \n",
    "* 귀무가설 : 우연 때문이라는 가설 \n",
    "* 대립가설 : 귀무가설과의 대조 (증명하고자 하는 가설 )\n",
    "* 일원검정 : 한 방향으로만 우연히 일어날 확률을 계산하는 가설검정\n",
    "* 이원검정 : 양 방향으로만 우연히 일어날 확률을 계산하는 가설검정"
   ]
  },
  {
   "cell_type": "markdown",
   "id": "48060864",
   "metadata": {},
   "source": [
    "## Resampling (재표본추출 )\n",
    "랜덤한 변동성을 알아보자는 일반적인 목표를 가지고 ,관찰된 데이터의 값에서 표본을 반복적으로 추출하는 것을 의미    \n",
    "\n",
    "## Permutation test (순열검정)\n",
    "재표본추출 순열검정 이는 A와 B그룹의 결과를 섞어서 비슷한 크기의 그룹들을 반복적으로 만든 다음 관찰된 차이를 각 경우에서 발생되는 차이와 비교했을 때 얼마나 극닥적인지 관찰하는 방법   \n",
    "\n",
    "순열검정 절차  \n",
    " 1. 여러그룹의 결과를 단일 데이터 집합으로 결합\n",
    " 2. 결합된 데이터를 잘 섞은 후, 그룹A와 동일한 크기의 표본을 무작위로 추출한다.\n",
    " 3. 나머지 데이터에서 그룹 B와 동일한 크기의 샘플을 무작위로 추출한다.\n",
    " 4. C,D 등의 그룹에 대해서도 동일한 작업을 수행, 원본표본의 크기를 반영하는 재표본을 수집한다.\n",
    " 5. 원래 샘플에 대해 구한 통계량 또는 추정치가 무엇이었든 간에 지금 추출한 재표본에 대해 모두 다시 계산하고 기록한다. \n",
    " 6. 앞선 단계들을 R번 반복하여 검정통계랑의 순열분포를 얻는다."
   ]
  },
  {
   "cell_type": "code",
   "execution_count": 3,
   "id": "ffa699af",
   "metadata": {},
   "outputs": [],
   "source": [
    "session_times = pd.read_csv(\"data/web_page_data.csv\")\n",
    "session_times.Time = 100 * session_times.Time"
   ]
  },
  {
   "cell_type": "code",
   "execution_count": 4,
   "id": "2e146a74",
   "metadata": {},
   "outputs": [
    {
     "data": {
      "image/png": "[encoded data removed]",
      "text/plain": [
       "<Figure size 288x288 with 1 Axes>"
      ]
     },
     "metadata": {
      "needs_background": "light"
     },
     "output_type": "display_data"
    }
   ],
   "source": [
    "ax = session_times.boxplot(by='Page', column='Time',\n",
    "                           figsize=(4, 4))\n",
    "ax.set_xlabel('')\n",
    "ax.set_ylabel('Time (in seconds)')\n",
    "plt.suptitle('')\n",
    "\n",
    "plt.tight_layout()\n",
    "plt.show()"
   ]
  },
  {
   "cell_type": "code",
   "execution_count": 5,
   "id": "069a4c54",
   "metadata": {},
   "outputs": [
    {
     "name": "stdout",
     "output_type": "stream",
     "text": [
      "35.66666666666667\n"
     ]
    }
   ],
   "source": [
    "mean_a = session_times[session_times.Page == 'Page A'].Time.mean()\n",
    "mean_b = session_times[session_times.Page == 'Page B'].Time.mean()\n",
    "print(mean_b - mean_a)"
   ]
  },
  {
   "cell_type": "code",
   "execution_count": 6,
   "id": "8a09660a",
   "metadata": {},
   "outputs": [
    {
     "name": "stdout",
     "output_type": "stream",
     "text": [
      "66.40952380952382\n"
     ]
    }
   ],
   "source": [
    "# 순열검정 \n",
    "def perm_fun(x, nA, nB):\n",
    "    n = nA + nB\n",
    "    idx_B = set(random.sample(range(n), nB))\n",
    "    idx_A = set(range(n)) - idx_B\n",
    "    return x.loc[idx_B].mean() - x.loc[idx_A].mean()\n",
    "    \n",
    "nA = session_times[session_times.Page == 'Page A'].shape[0]\n",
    "nB = session_times[session_times.Page == 'Page B'].shape[0]\n",
    "print(perm_fun(session_times.Time, nA, nB))"
   ]
  },
  {
   "cell_type": "code",
   "execution_count": 7,
   "id": "0fd86c46",
   "metadata": {},
   "outputs": [
    {
     "data": {
      "image/png": "[encoded data removed]",
      "text/plain": [
       "<Figure size 360x360 with 1 Axes>"
      ]
     },
     "metadata": {
      "needs_background": "light"
     },
     "output_type": "display_data"
    }
   ],
   "source": [
    "random.seed(1)\n",
    "perm_diffs = [perm_fun(session_times.Time, nA, nB) for _ in range(1000)]\n",
    "\n",
    "fig, ax = plt.subplots(figsize=(5, 5))\n",
    "ax.hist(perm_diffs, bins=11, rwidth=0.9)\n",
    "ax.axvline(x = mean_b - mean_a, color='black', lw=2) # plt.axvline()로 세로선을 그릴 수 있다\n",
    "ax.text(50, 190, 'Observed\\ndifference', bbox={'facecolor':'white'})\n",
    "ax.set_xlabel('Session time differences (in seconds)')\n",
    "ax.set_ylabel('Frequency')\n",
    "\n",
    "plt.tight_layout()\n",
    "plt.show()"
   ]
  },
  {
   "cell_type": "code",
   "execution_count": null,
   "id": "54b5c790",
   "metadata": {},
   "outputs": [],
   "source": [
    "print(np.mean(perm_diffs > mean_b - mean_a))\n",
    "# 0.121"
   ]
  },
  {
   "cell_type": "markdown",
   "id": "446afb18",
   "metadata": {},
   "source": [
    "## Statistical Significance and P-Values(통계적 유의성과 P값)\n",
    "통계적 유의성이란, 통계학자가 자신의 실험결과가 우연히 일어난 것인지, 아니면 우연히 일어날 수 없는 극단적인 것인지를 판단하는 방법  \n",
    "결과가 우연히 벌어질 수 있는 변동성의 바깥에 존재한다면 우리는 이것을 통계적으로 유의하다고 말한다.  \n",
    "\n",
    "P값 - 귀무가설을 구체화한 기회모델이 주어졌을때 관측된 결과와 같이 특이하거나 극단적인 결과를 얻을 확률  \n",
    "알파 - 실제결과가 통계적으로 의미 있는 것으로 간주되기 위해 우연에 의한 결과가 능가해야 하는 비정상적인 가능성의 임계확률  \n",
    "\n",
    "> 제1종오류 - 우연에 의한 효과를 실제효과라고 잘못 결론내리는것  \n",
    "  제2종오류 - 실제효과를 우연에 의한 효과라고 잘못 결론내리는것"
   ]
  },
  {
   "cell_type": "code",
   "execution_count": 11,
   "id": "49e32db7",
   "metadata": {},
   "outputs": [
    {
     "data": {
      "text/html": [
       "<div>\n",
       "<style scoped>\n",
       "    .dataframe tbody tr th:only-of-type {\n",
       "        vertical-align: middle;\n",
       "    }\n",
       "\n",
       "    .dataframe tbody tr th {\n",
       "        vertical-align: top;\n",
       "    }\n",
       "\n",
       "    .dataframe thead th {\n",
       "        text-align: right;\n",
       "    }\n",
       "</style>\n",
       "<table border=\"1\" class=\"dataframe\">\n",
       "  <thead>\n",
       "    <tr style=\"text-align: right;\">\n",
       "      <th></th>\n",
       "      <th>PriceA</th>\n",
       "      <th>PriceB</th>\n",
       "    </tr>\n",
       "  </thead>\n",
       "  <tbody>\n",
       "    <tr>\n",
       "      <th>conversion</th>\n",
       "      <td>200</td>\n",
       "      <td>182</td>\n",
       "    </tr>\n",
       "    <tr>\n",
       "      <th>no conversion</th>\n",
       "      <td>23539</td>\n",
       "      <td>22406</td>\n",
       "    </tr>\n",
       "  </tbody>\n",
       "</table>\n",
       "</div>"
      ],
      "text/plain": [
       "                 PriceA  PriceB\n",
       "conversion          200     182\n",
       " no conversion    23539   22406"
      ]
     },
     "execution_count": 11,
     "metadata": {},
     "output_type": "execute_result"
    }
   ],
   "source": [
    "pd.DataFrame(data = [[200,182],[23539,22406]], columns = [\"PriceA\", \"PriceB\"], index = [\"conversion\",\" no conversion \"])"
   ]
  },
  {
   "cell_type": "markdown",
   "id": "e622f40b",
   "metadata": {},
   "source": [
    "A가 B보다 5%정도 우수한 결과를 보였다. 재표본추출절차를 사용하여 A와 B간의 전환차이가 우연에 의한 것인지 검정  \n",
    "우연에 의한 차이란 곧 두 전환율 사이에 차이가 없다는 귀무가설의 확률모형을 가지고 생성한 데이터의 랜덤변이를 의미"
   ]
  },
  {
   "cell_type": "code",
   "execution_count": 8,
   "id": "d66f4c0d",
   "metadata": {},
   "outputs": [
    {
     "name": "stdout",
     "output_type": "stream",
     "text": [
      "Observed difference: 0.0368%\n"
     ]
    },
    {
     "data": {
      "image/png": "[encoded data removed]",
      "text/plain": [
       "<Figure size 360x360 with 1 Axes>"
      ]
     },
     "metadata": {
      "needs_background": "light"
     },
     "output_type": "display_data"
    }
   ],
   "source": [
    "random.seed(1)\n",
    "obs_pct_diff = 100 * (200 / 23739 - 182 / 22588)\n",
    "print(f'Observed difference: {obs_pct_diff:.4f}%')\n",
    "conversion = [0] * 45945\n",
    "conversion.extend([1] * 382)\n",
    "conversion = pd.Series(conversion)\n",
    "\n",
    "perm_diffs = [100 * perm_fun(conversion, 23739, 22588) \n",
    "              for _ in range(1000)]\n",
    "\n",
    "fig, ax = plt.subplots(figsize=(5, 5))\n",
    "ax.hist(perm_diffs, bins=11, rwidth=0.9)\n",
    "ax.axvline(x=obs_pct_diff, color='black', lw=2)\n",
    "ax.text(0.06, 200, 'Observed\\ndifference', bbox={'facecolor':'white'})\n",
    "ax.set_xlabel('Conversion rate (percent)')\n",
    "ax.set_ylabel('Frequency')\n",
    "\n",
    "plt.tight_layout()\n",
    "plt.show()"
   ]
  },
  {
   "cell_type": "markdown",
   "id": "22526cf4",
   "metadata": {},
   "source": [
    "### P-Value"
   ]
  },
  {
   "cell_type": "code",
   "execution_count": 9,
   "id": "0eb508a7",
   "metadata": {},
   "outputs": [
    {
     "name": "stdout",
     "output_type": "stream",
     "text": [
      "0.332\n"
     ]
    }
   ],
   "source": [
    "print(np.mean([diff > obs_pct_diff for diff in perm_diffs])) # 참은 1, 거짓은 0 "
   ]
  },
  {
   "cell_type": "markdown",
   "id": "aca9e170",
   "metadata": {},
   "source": [
    "p값은 0.332이다. 우연히 얻은 결과의 30%정도가 관찰한 것과 비슷한 정도로 예외적인 결과를 얻을 것으로 기대된다.  "
   ]
  },
  {
   "cell_type": "code",
   "execution_count": 12,
   "id": "8e04f7f9",
   "metadata": {},
   "outputs": [
    {
     "name": "stdout",
     "output_type": "stream",
     "text": [
      "p-value for single sided test: 0.3498\n"
     ]
    }
   ],
   "source": [
    "#가설이 이항분포를 따르기 때문에 순열검정 없이 P값 근사 \n",
    "#근사를 위해 stats.chi2_contingency 사용\n",
    "\n",
    "survivors = np.array([[200, 23739 - 200], [182, 22588 - 182]])\n",
    "chi2, p_value, df, _ = stats.chi2_contingency(survivors)\n",
    "\n",
    "print(f'p-value for single sided test: {p_value / 2:.4f}')"
   ]
  }
 ],
 "metadata": {
  "kernelspec": {
   "display_name": "Python 3",
   "language": "python",
   "name": "python3"
  },
  "language_info": {
   "codemirror_mode": {
    "name": "ipython",
    "version": 3
   },
   "file_extension": ".py",
   "mimetype": "text/x-python",
   "name": "python",
   "nbconvert_exporter": "python",
   "pygments_lexer": "ipython3",
   "version": "3.8.8"
  }
 },
 "nbformat": 4,
 "nbformat_minor": 5
}
