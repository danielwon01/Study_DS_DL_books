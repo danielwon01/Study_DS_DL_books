{
 "cells": [
  {
   "cell_type": "markdown",
   "id": "f3ebe9f0",
   "metadata": {},
   "source": [
    "## Chapter 3. Statistial Experiments and Significance Testing(통계적 실험과 유의성 검점)"
   ]
  },
  {
   "cell_type": "code",
   "execution_count": 1,
   "id": "dcf6d42e",
   "metadata": {},
   "outputs": [],
   "source": [
    "# 라이브러리 불러오기\n",
    "%matplotlib inline\n",
    "\n",
    "from pathlib import Path\n",
    "import random\n",
    "\n",
    "import pandas as pd\n",
    "import numpy as np\n",
    "\n",
    "from scipy import stats\n",
    "import statsmodels.api as sm\n",
    "import statsmodels.formula.api as smf\n",
    "from statsmodels.stats import power\n",
    "\n",
    "import matplotlib.pylab as plt"
   ]
  },
  {
   "cell_type": "code",
   "execution_count": 3,
   "id": "51d9ef55",
   "metadata": {},
   "outputs": [],
   "source": [
    "import os\n",
    "os.chdir('C:\\\\Users\\\\my\\\\Desktop')"
   ]
  },
  {
   "cell_type": "markdown",
   "id": "cfd92ebb",
   "metadata": {},
   "source": [
    "## A/B 검정\n",
    "두가지 처리 방법, 제품, 절차 중 어느 쪽이 다른 쪽보다 더 우월하다는 것을 입증 하기 위해 실험군을 두 그룹으로 나누어 진행하는 실험  \n",
    "두가지 처리방법 중 하나는 기준이 되는 기존방법이거나 아예 아무런 처리도 적용하지 않은 방법이 된다. 이를 대조군이라고 한다.   "
   ]
  },
  {
   "cell_type": "markdown",
   "id": "4868639a",
   "metadata": {},
   "source": [
    "## 가설검정 & 유의성 검정 \n",
    "관찰된 효과가 우연에 의한 것인지 여부를 알아내는 것  \n",
    "* 귀무가설 : 우연 때문이라는 가설 \n",
    "* 대립가설 : 귀무가설과의 대조 (증명하고자 하는 가설 )\n",
    "* 일원검정 : 한 방향으로만 우연히 일어날 확률을 계산하는 가설검정\n",
    "* 이원검정 : 양 방향으로만 우연히 일어날 확률을 계산하는 가설검정"
   ]
  },
  {
   "cell_type": "markdown",
   "id": "48060864",
   "metadata": {},
   "source": [
    "## Resampling (재표본추출 )\n",
    "랜덤한 변동성을 알아보자는 일반적인 목표를 가지고 ,관찰된 데이터의 값에서 표본을 반복적으로 추출하는 것을 의미    \n",
    "\n",
    "## Permutation test (순열검정)\n",
    "재표본추출 순열검정 이는 A와 B그룹의 결과를 섞어서 비슷한 크기의 그룹들을 반복적으로 만든 다음 관찰된 차이를 각 경우에서 발생되는 차이와 비교했을 때 얼마나 극닥적인지 관찰하는 방법   \n",
    "\n",
    "순열검정 절차  \n",
    " 1. 여러그룹의 결과를 단일 데이터 집합으로 결합\n",
    " 2. 결합된 데이터를 잘 섞은 후, 그룹A와 동일한 크기의 표본을 무작위로 추출한다.\n",
    " 3. 나머지 데이터에서 그룹 B와 동일한 크기의 샘플을 무작위로 추출한다.\n",
    " 4. C,D 등의 그룹에 대해서도 동일한 작업을 수행, 원본표본의 크기를 반영하는 재표본을 수집한다.\n",
    " 5. 원래 샘플에 대해 구한 통계량 또는 추정치가 무엇이었든 간에 지금 추출한 재표본에 대해 모두 다시 계산하고 기록한다. \n",
    " 6. 앞선 단계들을 R번 반복하여 검정통계랑의 순열분포를 얻는다."
   ]
  },
  {
   "cell_type": "code",
   "execution_count": 4,
   "id": "ffa699af",
   "metadata": {},
   "outputs": [],
   "source": [
    "session_times = pd.read_csv(\"data/web_page_data.csv\")\n",
    "session_times.Time = 100 * session_times.Time"
   ]
  },
  {
   "cell_type": "code",
   "execution_count": 5,
   "id": "2e146a74",
   "metadata": {},
   "outputs": [
    {
     "data": {
      "image/png": "[encoded data removed]",
      "text/plain": [
       "<Figure size 288x288 with 1 Axes>"
      ]
     },
     "metadata": {
      "needs_background": "light"
     },
     "output_type": "display_data"
    }
   ],
   "source": [
    "ax = session_times.boxplot(by='Page', column='Time',\n",
    "                           figsize=(4, 4))\n",
    "ax.set_xlabel('')\n",
    "ax.set_ylabel('Time (in seconds)')\n",
    "plt.suptitle('')\n",
    "\n",
    "plt.tight_layout()\n",
    "plt.show()"
   ]
  },
  {
   "cell_type": "code",
   "execution_count": 6,
   "id": "069a4c54",
   "metadata": {},
   "outputs": [
    {
     "name": "stdout",
     "output_type": "stream",
     "text": [
      "35.66666666666667\n"
     ]
    }
   ],
   "source": [
    "mean_a = session_times[session_times.Page == 'Page A'].Time.mean()\n",
    "mean_b = session_times[session_times.Page == 'Page B'].Time.mean()\n",
    "print(mean_b - mean_a)"
   ]
  },
  {
   "cell_type": "code",
   "execution_count": 7,
   "id": "8a09660a",
   "metadata": {},
   "outputs": [
    {
     "name": "stdout",
     "output_type": "stream",
     "text": [
      "4.580952380952397\n"
     ]
    }
   ],
   "source": [
    "# 순열검정 \n",
    "def perm_fun(x, nA, nB):\n",
    "    n = nA + nB\n",
    "    idx_B = set(random.sample(range(n), nB))\n",
    "    idx_A = set(range(n)) - idx_B\n",
    "    return x.loc[idx_B].mean() - x.loc[idx_A].mean()\n",
    "    \n",
    "nA = session_times[session_times.Page == 'Page A'].shape[0]\n",
    "nB = session_times[session_times.Page == 'Page B'].shape[0]\n",
    "print(perm_fun(session_times.Time, nA, nB))"
   ]
  },
  {
   "cell_type": "code",
   "execution_count": 10,
   "id": "0fd86c46",
   "metadata": {},
   "outputs": [
    {
     "data": {
      "image/png": "[encoded data removed]",
      "text/plain": [
       "<Figure size 360x360 with 1 Axes>"
      ]
     },
     "metadata": {
      "needs_background": "light"
     },
     "output_type": "display_data"
    }
   ],
   "source": [
    "random.seed(1)\n",
    "perm_diffs = [perm_fun(session_times.Time, nA, nB) for _ in range(1000)]\n",
    "\n",
    "fig, ax = plt.subplots(figsize=(5, 5))\n",
    "ax.hist(perm_diffs, bins=11, rwidth=0.9)\n",
    "ax.axvline(x = mean_b - mean_a, color='black', lw=2) # plt.axvline()로 세로선을 그릴 수 있다\n",
    "ax.text(50, 190, 'Observed\\ndifference', bbox={'facecolor':'white'})\n",
    "ax.set_xlabel('Session time differences (in seconds)')\n",
    "ax.set_ylabel('Frequency')\n",
    "\n",
    "plt.tight_layout()\n",
    "plt.show()"
   ]
  },
  {
   "cell_type": "code",
   "execution_count": null,
   "id": "54b5c790",
   "metadata": {},
   "outputs": [],
   "source": [
    "print(np.mean(perm_diffs > mean_b - mean_a))\n",
    "# 0.121"
   ]
  }
 ],
 "metadata": {
  "kernelspec": {
   "display_name": "Python 3",
   "language": "python",
   "name": "python3"
  },
  "language_info": {
   "codemirror_mode": {
    "name": "ipython",
    "version": 3
   },
   "file_extension": ".py",
   "mimetype": "text/x-python",
   "name": "python",
   "nbconvert_exporter": "python",
   "pygments_lexer": "ipython3",
   "version": "3.8.8"
  }
 },
 "nbformat": 4,
 "nbformat_minor": 5
}
