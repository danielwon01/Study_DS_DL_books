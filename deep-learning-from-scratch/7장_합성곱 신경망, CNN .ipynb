{
 "cells": [
  {
   "cell_type": "markdown",
   "id": "5c1c6697",
   "metadata": {},
   "source": [
    "## FC 계층의 문제점 \n",
    "\n",
    "FC에서는 인접하는 계층의 뉴런이 모두 연결되고 출력의 수는 임의로 정할 수 있다. FC의 문제점은 데이터의 형상이 무시된다는 점이다. 입력 데이터가 이미지인 경우를 예로 들면, 이미지는 통상 세로,가로, 색상으로 구성된 3차원 데이터 이다. 그러나 FC에 입력할 때는 3차원 데이터를 평평한 1차원 데이터로 평탄화 해줘야 한다. 이미지는 3차원 형상이며, 이 형상에는 공간적 정보가 담겨 있다. 그러나 FC는 형상을 무시하고 모든 입력 데이터를 동등한 뉴런으로 취급하여 형상에 담긴 정보를 살릴 수 없다.   \n",
    "\n",
    "-----\n",
    "\n",
    "But 합성곱 계층은 형상을 유지한다. 이미지도 3차원 데이터로 입력받으며, 마찬가지로 다음 계층에도 3차원 데이터로 전달된다. 그래서 CNN에서는 이미지처럼 형상을 가진 데이터를 제대로 이해하는 것이다.  \n",
    "\n",
    "CNN에서는 합성곱 계층의 입출력 데이터를 feature map이라고 한다. 합성곱 계층의 입력 데이터를 input feature map, 출력 데이터를 output feature map이라고 하는 식이다.   \n"
   ]
  },
  {
   "cell_type": "markdown",
   "id": "ab0a8e04",
   "metadata": {},
   "source": [
    "## 합성곱 연산 \n",
    "합성곱 연산은 이미지 처리에서 말하는 필터 연산에 해당한다. \n",
    "\n",
    "<img src=\"https://compmath.korea.ac.kr/appmath2021/_images/cnn_op_order.png\" width=\"300\" height=\"300\"/>  \n",
    "\n",
    "합성곱 연산은 입력 데이터에 필터를 적용한다. 입력데이터는 세로 가로 방향의 형상을 가졌고, 필터 역시 세로 가로 방향의 차원을 갖는다. 데이터와 필터의 형상을 (h,w)로 표기하며, 예제에서는 입력은 (4,4), 필터는 (3,3), 출력은 (2,2)가 된다. 필터는 커널이라고 불린다.  \n",
    "\n",
    "합성곱 연산은 필터의 윈도우를 일정 간격으로 이동해가며 입력 데이터에 적용한다. 입력과 필터에서 대응하는 원소끼리 곱한 후 그 총합을 구한다(fused multiply-add,FMA). 결과를 출력의 해당 장소에 저장한다. 이 과정을 모든 장소에서 수행하며 합성곱 연산의 출력이 완성된다. \n",
    "\n",
    "---- \n",
    "\n",
    "CNN에서는 필터의 매개변수가 가중치에 해당한다. CNN에서도 편향이 존재 \n",
    "<img src=\"https://blog.kakaocdn.net/dn/bKQ8U7/btqJ1LThpX0/AYLeW7AKLkV8aVS5DOx9Pk/img.png\" width=\"400\" height=\"300\"/>  \n",
    "\n",
    "편향은 항상(1X1)만 존재한다. 그 하나의 값을 필터를 적용한 모든 원소에 더하는 것이다. \n"
   ]
  },
  {
   "cell_type": "markdown",
   "id": "b98fb468",
   "metadata": {},
   "source": [
    "## 패팅 \n",
    "\n",
    "합성곱 연산을 수행하기 전에 입력 데이터 주변을 특정값으로 채우기도 한다. 이를 Padding이라고 하며 합성곱 연산에서 자주 이용하는 기법이다. \n",
    "\n",
    "<img src=\"https://blog.kakaocdn.net/dn/buF4ft/btqJZnrRhL0/XsApi9EoBjtjwSOkx9KLEk/img.png\" width=\"400\" height=\"300\"/>\n",
    "\n",
    "(4,4)인 입력 데이터에 패딩이 추가되어 (6,6)이 된다. 이 입력에 (3,3)크기의 필터를 걸면 (4,4) 크기의 출력 데이터가 생성된다. \n",
    "\n",
    "\n",
    "패팅은 주로 출력 크기를 조정할 목적으로 사용한다. (4,4)입력 데이터에 (3,3)필터를 적용하면 출력은 (2,2)가 되어, 입력보다 2만큼 줄어든다. 이는 합성곱 연산을 몇번이나 되풀이하는 심층 신경망에서는 문제가 될 수 있다. 합성곱 연산을 거칠 때마다 크기가 작아지면 어느 시점에서는 출력 크기가 1이 되어버리게 된다. 더 이상 합성곱 연산을 적용할 수 없다는 뜻이다. 이러한 사태를 막기 위해 패딩을 사용한다. **즉 입력 데이터의 공간적 크기를 고정한 채로 다음 계층에 전달할 수 있다.** "
   ]
  },
  {
   "cell_type": "markdown",
   "id": "c43f9d9c",
   "metadata": {},
   "source": [
    "## 스트라이드 \n",
    "\n",
    "필터를 적용하는 위치의 간격을 스트라이드라고 한다. \n",
    "\n",
    "<img src=\"https://t1.daumcdn.net/cfile/tistory/99272D3D5C4D268B1C\" width=\"400\" height=\"300\"/>\n",
    "\n",
    "\n",
    "패딩, 스트라이드, 출력크기 계산 \n",
    "* 입력 크기 (H,W) , 필터 크기 (FH, FW), 출력크기(OH, OW), 패딩(P) ,스트라이드(S)  \n",
    "$ OH = H + 2P -FH /  S + 1$  \n"
   ]
  },
  {
   "cell_type": "markdown",
   "id": "8ff73557",
   "metadata": {},
   "source": [
    "## 3차원 데이터의 합성곱 연산 \n",
    "\n",
    "<img src=\"https://blog.kakaocdn.net/dn/c6yIAl/btqKdEEQQTb/5uwHwi5el7pjkuCKhfkmO1/img.png\" width=\"300\" height=\"300\"/>\n",
    "\n",
    "\n",
    "2차원일 때와 비교하면 길이 방향으로 특징 맵이 늘어났다. 채널 쪽으로 특징 맵이 여러 개 있다면 입력데이터와 필터의 합성곱 연산을 채널마다 수행하고, 그 결과를 더해서 하나의 출력을 얻는다.  \n",
    "\n",
    "3차원의 합성곱 연산에서 주의할 점은 입력 데이터의 채널 수와 필터의 채널 수가 같아야 한다는 것이다. 반면 필터 자체의 크기는 원하는 값으로 설정할 수 있따. "
   ]
  }
 ],
 "metadata": {
  "kernelspec": {
   "display_name": "Python 3 (ipykernel)",
   "language": "python",
   "name": "python3"
  },
  "language_info": {
   "codemirror_mode": {
    "name": "ipython",
    "version": 3
   },
   "file_extension": ".py",
   "mimetype": "text/x-python",
   "name": "python",
   "nbconvert_exporter": "python",
   "pygments_lexer": "ipython3",
   "version": "3.9.7"
  }
 },
 "nbformat": 4,
 "nbformat_minor": 5
}
