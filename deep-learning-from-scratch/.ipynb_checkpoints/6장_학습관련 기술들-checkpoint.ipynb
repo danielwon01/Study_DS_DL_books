{
 "cells": [
  {
   "cell_type": "markdown",
   "id": "8da578d4",
   "metadata": {},
   "source": [
    "## 매개변수 갱신 \n",
    "\n",
    "신경망 학습의 목적은 손실 함수의 값을 가능한 낮추는 매개변수를 찾는 것이다. 이는 곧 매개변수의 최적값을 찾는 문제이며, 이러한 문제를 푸는 것을 최적화라고 한다. \n",
    "\n"
   ]
  },
  {
   "cell_type": "markdown",
   "id": "34e65a18",
   "metadata": {},
   "source": [
    "## 확률적 경사 하강법 (SGD) \n",
    "\n",
    "<img src=\"https://t1.daumcdn.net/cfile/tistory/9978B5465AA8029F22\" width=\"200\" height=\"300\"/> \n",
    "\n",
    "W는 갱신할 가중치 매개변수이고 미분값은 W에 대한 손실 함수의 기울기 이다. n는 학습률의 의미한다. <-는 우변의 값으로 좌변의 값을 갱신한다는 뜻이다. \n",
    "\n",
    "\n",
    "\n"
   ]
  },
  {
   "cell_type": "code",
   "execution_count": 1,
   "id": "5d14e251",
   "metadata": {},
   "outputs": [],
   "source": [
    "class SGD :\n",
    "    def __init__ (self, lr = 0.01)  :\n",
    "        self.lr = lr\n",
    "        \n",
    "    def update (self, params, grads) :\n",
    "        for k in params.keys() :\n",
    "            params[k] -= self.lr * grads[k ]"
   ]
  },
  {
   "cell_type": "markdown",
   "id": "b2e6ecf6",
   "metadata": {},
   "source": [
    "### SGD 의 단점 \n",
    "\n",
    "SGD는 단순하고 구현도 쉽지만, 문제에 따라서는 비효율적일 때가 있다. SGD는 비등방성(anisotropy)함수이기 때문이다. 방향에 따라 성질, 즉 기울기가 달라진다는 의미이다. SGD가 지그재그로 탐색하는 근본 원인은 기울어진 방향이 본래의 최솟값과 다른 방향을 가리켜서라는 점도 고려해봐야 한다. "
   ]
  },
  {
   "cell_type": "markdown",
   "id": "4b2ce591",
   "metadata": {},
   "source": [
    "## 모멘텀(Momentum) \n",
    "\n",
    "<img src=\"https://blog.kakaocdn.net/dn/bmYcIj/btqJZopKIwQ/BTg82XwDLnVH2rsxZBnXEK/img.png\" width=\"200\" height=\"300\"/> \n",
    "\n",
    "다른 변수들은 SGD와 동일하고 v라는 변수는 물리에서 말하는 속도에 해당한다. 기울기 방향으로 힘을 받아 물체가 가속된다는 물리법칙을 나타낸다.  \n",
    "av항은 물체가 아무런 힘을 받지 않은 때 서서히 하강 시키는 역할을 하는 변수이다. 물리에서의 지면 마찰이나 공기 저항에 해당된다. "
   ]
  },
  {
   "cell_type": "code",
   "execution_count": 2,
   "id": "97f9d441",
   "metadata": {},
   "outputs": [],
   "source": [
    "class Momentum :\n",
    "    def __init__ (self, lr = 0.01, m = 0.9) :\n",
    "        self.lr = lr\n",
    "        self.m = m\n",
    "        self.v = None\n",
    "        \n",
    "    def updare(self, params, grads) :\n",
    "        if self.v is None :\n",
    "            self.v = {}\n",
    "            for k , val in params.items() :\n",
    "                self.v[k] = np.zeros_like(val)\n",
    "                \n",
    "        for k in params.keys() :\n",
    "            self.v[k] = self.m * self.v[k] - self.lr * grads[k]\n",
    "            params[k] += self.v[k]"
   ]
  },
  {
   "cell_type": "markdown",
   "id": "1463aa8c",
   "metadata": {},
   "source": [
    "모멘텀는 지그재그 정도가 덜하다. 이는 x축의 힘은 아주 작지만 방향은 변하지 않아서 한 방향으로 일정하게 가속하기 때문이다. 거꾸로 y축은 힘은 크지만 위아래로 번갈아 힘을 받아 상충하게 되며 y축 방향의 속도는 안정적이지 않다. "
   ]
  },
  {
   "cell_type": "markdown",
   "id": "60c9514a",
   "metadata": {},
   "source": [
    "## AdaGrad \n",
    "\n",
    "신경망 학습에서는 학습률 값이 중요하다. 이 값이 너무 작으면 학습 시간이 너무 길어지고, 반대로 너무 크면 학습이 제대로 이루어지지 않는다. \n",
    "\n",
    "이 학습률을 정하는 효과적 기술로 **학습률 감소,learning rate decay**가 있다. 이는 학습을 진행하면서 학습률을 점차 줄여가는 방법이다. 처음에는 크게 학습하다가 조금씩 작게 학습한다는 의미로, 실제 신경망 학습에 자주 쓰인다. \n",
    "\n",
    "학습률을 서서히 낮추는 가장 간단한 방법은 매개변수'전체'의 학습률 값을 일괄적으로 낮추는 것이다. 이를 더욱 발전시킨 것이 **AdaGrad**이다. AdaGrad는 각각의 매매변수에 맞춤형 값을 만들어 준다. \n",
    "\n",
    "----- \n",
    "\n",
    "AdaGrad는 개별 매개변수에 적응적으로 학습률을 조정하면서 학습을 진행한다. \n",
    "<img src=\"https://blog.kakaocdn.net/dn/H8MY9/btqJ0owhSUL/j7keQZ0PVQfy7RMS9F9tyK/img.png\" width=\"200\" height=\"300\"/> \n",
    "마찬가지로 W는 갱신할 가중치 매개변수, 편미분 값은 W에 대한 손실함수의 기울기, n는 학습률을 의미한다. h라는 변수가 나오는데 h는 기존 기울기 값을 제곱하여 계속 더해준다. 그리고 매개변수를 갱신할 때 $ 1/\\sqrt{h}$ 을 곱해 학습률을 조정한다. 매개변수의 원소 중에서 많이 움직인 원소를 학습률이 낮아진다는 뜻인데, **학습률 감소가 매개변수의 원소마다 다르게 적용됨을 의미한다.** \n",
    "\n",
    "-------\n",
    "\n",
    "AdaGrad는 과거의 기울기를 제곱하여 계속 더해간다. 학습을 진행할 수록 갱신 강도가 약해진다. 실제로 무한히 계속 학습한다면 어느 순간 갱신량이 0이 되어 전혀 갱신되지 않게 된다. 이 문제를 개선한 기법으로 RMSProp이라는 방법이 존재한다. RMSProp은 과거의 모든 기울기를 균일하게 더해가는 것이 아니라, 먼 과거의 기울기를 서서히 잊고 새로운 기울기 정보를 크게 반영한다. 이를 **지수이동평균**이라 하여, 과거 기울기의 반영 규모를 기하급수적으로 감소 시킨다. "
   ]
  },
  {
   "cell_type": "code",
   "execution_count": 3,
   "id": "1736513b",
   "metadata": {},
   "outputs": [],
   "source": [
    "class AdaGrad :\n",
    "    def __init__(self, lr = 0.01) :\n",
    "        self.lr =lr \n",
    "        self.h = None\n",
    "        \n",
    "    def update (self, params, grads) :\n",
    "        if self.h in None :\n",
    "            self.h = {} \n",
    "            for k , v in params, items () :\n",
    "                self.h[k] = np.zeros_like(v)\n",
    "                \n",
    "        for k in params.keys () :\n",
    "            self.h[k] += grads[k] + grads[k]\n",
    "            params[k] -= self.lr * grads[k] / (np.sqrt(self.h[k]) + 1e-7)            "
   ]
  },
  {
   "cell_type": "markdown",
   "id": "7fe12c4f",
   "metadata": {},
   "source": [
    "마지막 줄에 le-7 값을 더해주는 것에 주의, 이 작은 값은 self.h[k]에 0이 담겨 있다 해도 0으로 나누는 사태를 막는다. 대부분의 딥러닝 프레임워크에서는 이값도 인수로 설정할 수 있다. \n",
    "\n",
    "----\n",
    "\n",
    "<img src=\"https://3.bp.blogspot.com/-1bnQACapxp8/WaUKGz2zy8I/AAAAAAAAAM8/9R5gIpRb0JQ7zMDWdI9f6yVCdbva-ICtgCLcBGAs/s400/adagrad.png\" width=\"400\" height=\"300\"/> \n",
    "\n",
    "y 축 방향은 기울기가 커서 처믕에는 크게 움직이지만, 그 큰 움직임에 비례해 갱신 정도도 큰 폭으로 작아지도록 조정된다. 그래서 y축 방향으로 갱신 강도가 빠르게 약해지고, 지그재그 움직임이 줄어든다. "
   ]
  },
  {
   "cell_type": "markdown",
   "id": "4330bc2e",
   "metadata": {},
   "source": [
    "## Adam \n",
    "\n",
    "모멘텀은 공기 그릇 바닥을 구르는 듯한 움직임을 보였다. AdaGrad는 매개변수의 원소마다 적응적으로 갱신 정도를 조정했다. 이 둘을 융합한 것이 Adam이다. \n",
    "하이퍼파라미터의 편향 보정이 진행된다는 점이 특징이다. "
   ]
  },
  {
   "cell_type": "code",
   "execution_count": 4,
   "id": "f5fc84ab",
   "metadata": {},
   "outputs": [],
   "source": [
    "class Adam:\n",
    "\n",
    "    \"\"\"Adam (http://arxiv.org/abs/1412.6980v8)\"\"\"\n",
    "\n",
    "    def __init__(self, lr=0.001, beta1=0.9, beta2=0.999):\n",
    "        self.lr = lr\n",
    "        self.beta1 = beta1\n",
    "        self.beta2 = beta2\n",
    "        self.iter = 0\n",
    "        self.m = None\n",
    "        self.v = None\n",
    "        \n",
    "    def update(self, params, grads):\n",
    "        if self.m is None:\n",
    "            self.m, self.v = {}, {}\n",
    "            for key, val in params.items():\n",
    "                self.m[key] = np.zeros_like(val)\n",
    "                self.v[key] = np.zeros_like(val)\n",
    "        \n",
    "        self.iter += 1\n",
    "        lr_t  = self.lr * np.sqrt(1.0 - self.beta2**self.iter) / (1.0 - self.beta1**self.iter)         \n",
    "        \n",
    "        for key in params.keys():\n",
    "            #self.m[key] = self.beta1*self.m[key] + (1-self.beta1)*grads[key]\n",
    "            #self.v[key] = self.beta2*self.v[key] + (1-self.beta2)*(grads[key]**2)\n",
    "            self.m[key] += (1 - self.beta1) * (grads[key] - self.m[key])\n",
    "            self.v[key] += (1 - self.beta2) * (grads[key]**2 - self.v[key])\n",
    "            \n",
    "            params[key] -= lr_t * self.m[key] / (np.sqrt(self.v[key]) + 1e-7)\n",
    "            \n",
    "            #unbias_m += (1 - self.beta1) * (grads[key] - self.m[key]) # correct bias\n",
    "            #unbisa_b += (1 - self.beta2) * (grads[key]*grads[key] - self.v[key]) # correct bias\n",
    "            #params[key] += self.lr * unbias_m / (np.sqrt(unbisa_b) + 1e-7)"
   ]
  },
  {
   "cell_type": "markdown",
   "id": "d2e280d4",
   "metadata": {},
   "source": [
    "<img src=\"https://blog.kakaocdn.net/dn/KZaLP/btqJ4FYkYOb/aaCOENlEHCLE0z2i4h8fj1/img.png\" width=\"400\" height=\"300\"/> \n",
    "\n",
    "4번째인 Adam의 갱신 과정도 그릇 바닥을 구르듯 움직인다. 모멘텀과 비슷한 패턴인데, 모멘텀 때보다 공의 좌우 흔들림이 적다. 이는 학습의 갱신 강도를 적응적으로 조정해서 얻는 혜택이다. Adam은 하이퍼파라미터를 3개 설정한다. 하나는 지금까지의 학습률, 나머지 두개는 일차 모텐텀요 계수 B1과 이차 모멘텀용 계수 B2이다. 논문에 따르면 기본 설정값은 B1은 0.9, B2는 0.999이며, 이 값이면 많은 경우에 좋은 결과를 얻을 수 있다. \n",
    "\n",
    "----- \n",
    "\n",
    "어떤 최적화 방법을 써야 하는지는 풀어야할 문제가 무엇이냐에 따라 달라진다. 또한 하이퍼파라미터를 어떻게 설정하느냐에 따라서도 결과가 바뀐다. "
   ]
  },
  {
   "cell_type": "markdown",
   "id": "73b22c17",
   "metadata": {},
   "source": [
    "## MNIST 데이터셋으로 갱신 방법 비교 "
   ]
  },
  {
   "cell_type": "code",
   "execution_count": 5,
   "id": "c64fcb9b",
   "metadata": {},
   "outputs": [
    {
     "name": "stdout",
     "output_type": "stream",
     "text": [
      "===========iteration:0===========\n",
      "SGD:2.3005995219082207\n",
      "Momentum:2.362932057993219\n",
      "AdaGrad:1.9126299644486981\n",
      "Adam:2.2315989601877764\n",
      "===========iteration:100===========\n",
      "SGD:1.7299993710093728\n",
      "Momentum:0.47320438168401674\n",
      "AdaGrad:0.21691764177247003\n",
      "Adam:0.3808690991024338\n",
      "===========iteration:200===========\n",
      "SGD:0.9421234220741213\n",
      "Momentum:0.35172047255530914\n",
      "AdaGrad:0.18057601247986363\n",
      "Adam:0.24288642854149378\n",
      "===========iteration:300===========\n",
      "SGD:0.6505058242477714\n",
      "Momentum:0.2083285159488344\n",
      "AdaGrad:0.07125136396327814\n",
      "Adam:0.09707425386247781\n",
      "===========iteration:400===========\n",
      "SGD:0.614701184303695\n",
      "Momentum:0.2841860845621659\n",
      "AdaGrad:0.09640274307964339\n",
      "Adam:0.20164067593846335\n",
      "===========iteration:500===========\n",
      "SGD:0.47504443695266385\n",
      "Momentum:0.16824292407976504\n",
      "AdaGrad:0.07397518991590454\n",
      "Adam:0.10901745501555266\n",
      "===========iteration:600===========\n",
      "SGD:0.42223260792257283\n",
      "Momentum:0.15951987838086348\n",
      "AdaGrad:0.07735069914065547\n",
      "Adam:0.09817977197179571\n",
      "===========iteration:700===========\n",
      "SGD:0.41377735185343795\n",
      "Momentum:0.16474775705260214\n",
      "AdaGrad:0.09475530926747924\n",
      "Adam:0.12591920802440587\n",
      "===========iteration:800===========\n",
      "SGD:0.4186852755178394\n",
      "Momentum:0.1524977959922656\n",
      "AdaGrad:0.04584695658527034\n",
      "Adam:0.08603453638186873\n",
      "===========iteration:900===========\n",
      "SGD:0.3792004227866711\n",
      "Momentum:0.1754956937227917\n",
      "AdaGrad:0.14399712478835155\n",
      "Adam:0.1488623676804337\n",
      "===========iteration:1000===========\n",
      "SGD:0.4030040989061697\n",
      "Momentum:0.1353300292516681\n",
      "AdaGrad:0.05383065891765379\n",
      "Adam:0.0829782401979507\n",
      "===========iteration:1100===========\n",
      "SGD:0.3608021452509553\n",
      "Momentum:0.07768943793615316\n",
      "AdaGrad:0.042131530632492344\n",
      "Adam:0.06747376740638508\n",
      "===========iteration:1200===========\n",
      "SGD:0.33972351608358\n",
      "Momentum:0.13269240530686122\n",
      "AdaGrad:0.07901620917038306\n",
      "Adam:0.11372202567006853\n",
      "===========iteration:1300===========\n",
      "SGD:0.26058380496073086\n",
      "Momentum:0.11940000428279748\n",
      "AdaGrad:0.042462097085533654\n",
      "Adam:0.04995971073509145\n",
      "===========iteration:1400===========\n",
      "SGD:0.24405922257930462\n",
      "Momentum:0.08830689716848623\n",
      "AdaGrad:0.03740118216386459\n",
      "Adam:0.07227812473810803\n",
      "===========iteration:1500===========\n",
      "SGD:0.27362717406757614\n",
      "Momentum:0.04969966475555749\n",
      "AdaGrad:0.026273414147497072\n",
      "Adam:0.021614284611486092\n",
      "===========iteration:1600===========\n",
      "SGD:0.2278342353112282\n",
      "Momentum:0.07093160847749318\n",
      "AdaGrad:0.045848677024270285\n",
      "Adam:0.04285851307577312\n",
      "===========iteration:1700===========\n",
      "SGD:0.27300828578453673\n",
      "Momentum:0.0885904800862759\n",
      "AdaGrad:0.02329713113612917\n",
      "Adam:0.05389344366814717\n",
      "===========iteration:1800===========\n",
      "SGD:0.30994793133093723\n",
      "Momentum:0.0816682769793173\n",
      "AdaGrad:0.04361160659072255\n",
      "Adam:0.06304091533076492\n",
      "===========iteration:1900===========\n",
      "SGD:0.26043334113182914\n",
      "Momentum:0.128100394633202\n",
      "AdaGrad:0.07821292817845964\n",
      "Adam:0.06452099875508774\n"
     ]
    },
    {
     "data": {
      "image/png": "[encoded data removed]",
      "text/plain": [
       "<Figure size 432x288 with 1 Axes>"
      ]
     },
     "metadata": {
      "needs_background": "light"
     },
     "output_type": "display_data"
    }
   ],
   "source": [
    "import os\n",
    "import sys\n",
    "sys.path.append(os.pardir)  # 부모 디렉터리의 파일을 가져올 수 있도록 설정\n",
    "import matplotlib.pyplot as plt\n",
    "from dataset.mnist import load_mnist\n",
    "from common.util import smooth_curve\n",
    "from common.multi_layer_net import MultiLayerNet\n",
    "from common.optimizer import *\n",
    "\n",
    "\n",
    "# 0. MNIST 데이터 읽기==========\n",
    "(x_train, t_train), (x_test, t_test) = load_mnist(normalize=True)\n",
    "\n",
    "train_size = x_train.shape[0]\n",
    "batch_size = 128\n",
    "max_iterations = 2000\n",
    "\n",
    "\n",
    "# 1. 실험용 설정==========\n",
    "optimizers = {}\n",
    "optimizers['SGD'] = SGD()\n",
    "optimizers['Momentum'] = Momentum()\n",
    "optimizers['AdaGrad'] = AdaGrad()\n",
    "optimizers['Adam'] = Adam()\n",
    "#optimizers['RMSprop'] = RMSprop()\n",
    "\n",
    "networks = {}\n",
    "train_loss = {}\n",
    "for key in optimizers.keys():\n",
    "    networks[key] = MultiLayerNet(\n",
    "        input_size=784, hidden_size_list=[100, 100, 100, 100],\n",
    "        output_size=10)\n",
    "    train_loss[key] = []    \n",
    "\n",
    "\n",
    "# 2. 훈련 시작==========\n",
    "for i in range(max_iterations):\n",
    "    batch_mask = np.random.choice(train_size, batch_size)\n",
    "    x_batch = x_train[batch_mask]\n",
    "    t_batch = t_train[batch_mask]\n",
    "    \n",
    "    for key in optimizers.keys():\n",
    "        grads = networks[key].gradient(x_batch, t_batch)\n",
    "        optimizers[key].update(networks[key].params, grads)\n",
    "    \n",
    "        loss = networks[key].loss(x_batch, t_batch)\n",
    "        train_loss[key].append(loss)\n",
    "    \n",
    "    if i % 100 == 0:\n",
    "        print( \"===========\" + \"iteration:\" + str(i) + \"===========\")\n",
    "        for key in optimizers.keys():\n",
    "            loss = networks[key].loss(x_batch, t_batch)\n",
    "            print(key + \":\" + str(loss))\n",
    "\n",
    "\n",
    "# 3. 그래프 그리기==========\n",
    "markers = {\"SGD\": \"o\", \"Momentum\": \"x\", \"AdaGrad\": \"s\", \"Adam\": \"D\"}\n",
    "x = np.arange(max_iterations)\n",
    "for key in optimizers.keys():\n",
    "    plt.plot(x, smooth_curve(train_loss[key]), marker=markers[key], markevery=100, label=key)\n",
    "plt.xlabel(\"iterations\")\n",
    "plt.ylabel(\"loss\")\n",
    "plt.ylim(0, 1)\n",
    "plt.legend()\n",
    "plt.show()"
   ]
  },
  {
   "cell_type": "markdown",
   "id": "ed81e17b",
   "metadata": {},
   "source": [
    "## 가중치의 초긱값\n",
    "\n",
    "신경망 학습에서 특히 중요한 것이 가중치의 초깃값이다. 가중치의 초깃값을 무엇으로 설정하느냐가 신경마 학습의 성패를 가르는 일이 실제로 자주 있다. \n",
    "\n",
    "------\n",
    "\n",
    "#### 초깃값을 0으로 할때 \n",
    "\n",
    "가중치 감소, Weight deca 기법. \n",
    "가중치 감소는 가중치 매개변수의 값이 작아지도록 학습하는 방법이다. 가중치 값을 작게하여 오버피팅이 일어나지 않게 하는 것이다.  가중치를 작게 만들고 싶으면 초깃값도 최대한 작은 값에서 시작하는 것이 정공법이다. but 가중치의 초깃값을 모두 0으로 설정하면 좋지 않다. 학습이 올바르게 이루어지지 않기 때문이다. \n",
    "오차역전파에서 모든 가중치의 값이 똑같이 갱신되는 문제 또한 발생된다. "
   ]
  },
  {
   "cell_type": "markdown",
   "id": "e1f20b12",
   "metadata": {},
   "source": [
    "## 은닉층 활성화 값 분포 \n",
    "\n",
    "은닉층의 활성화값(활성화 함수의 출력 데이터)의 분포를 관찰하면 중요한 정보를 얻을 수 있다. \n"
   ]
  },
  {
   "cell_type": "code",
   "execution_count": 6,
   "id": "b97436b7",
   "metadata": {},
   "outputs": [],
   "source": [
    "# 가중치의 초깃값에 따라 은닉층 활성화 값들이 어떻게 변화하는지 관찰 \n",
    "import numpy as np\n",
    "\n",
    "def sigmoid(x):\n",
    "    return 1 / (1 + np.exp(-x))\n",
    "\n",
    "\n",
    "def ReLU(x):\n",
    "    return np.maximum(0, x)\n",
    "\n",
    "\n",
    "def tanh(x):\n",
    "    return np.tanh(x)\n",
    "    \n",
    "input_data = np.random.randn(1000, 100)  # 1000개의 데이터\n",
    "node_num = 100  # 각 은닉층의 노드(뉴런) 수\n",
    "hidden_layer_size = 5  # 은닉층이 5개\n",
    "activations = {}  # 이곳에 활성화 결과를 저장\n",
    "\n",
    "x = input_data\n",
    "\n",
    "for i in range(hidden_layer_size):\n",
    "    if i != 0:\n",
    "        x = activations[i-1]\n",
    "\n",
    "    # 초깃값을 다양하게 바꿔가며 실험해보자！\n",
    "    w = np.random.randn(node_num, node_num) * 1\n",
    "    # w = np.random.randn(node_num, node_num) * 0.01\n",
    "    # w = np.random.randn(node_num, node_num) * np.sqrt(1.0 / node_num)\n",
    "    # w = np.random.randn(node_num, node_num) * np.sqrt(2.0 / node_num)\n",
    "\n",
    "\n",
    "    a = np.dot(x, w)\n",
    "\n",
    "\n",
    "    # 활성화 함수도 바꿔가며 실험해보자！\n",
    "    z = sigmoid(a)\n",
    "    # z = ReLU(a)\n",
    "    # z = tanh(a)\n",
    "\n",
    "    activations[i] = z"
   ]
  },
  {
   "cell_type": "markdown",
   "id": "df60d0af",
   "metadata": {},
   "source": [
    "층이 5개가 있으며, 각 층의 뉴련은 100개씩이다. 입력 데이터로서 1000개의 데이터를 정규분포로 무작위로 생성하여 이 5층 신경망에 전달한다. 활성화 함수로는 시그모이드 함수를 이용했고, 각 층의 활성화 결과를 activation 변수에 저장"
   ]
  },
  {
   "cell_type": "code",
   "execution_count": 7,
   "id": "dedb8aaa",
   "metadata": {},
   "outputs": [
    {
     "data": {
      "image/png": "[encoded data removed]",
      "text/plain": [
       "<Figure size 432x288 with 5 Axes>"
      ]
     },
     "metadata": {
      "needs_background": "light"
     },
     "output_type": "display_data"
    }
   ],
   "source": [
    "# 히스토그램 \n",
    "import matplotlib.pyplot as plt\n",
    "\n",
    "for i, a in activations.items():\n",
    "    plt.subplot(1, len(activations), i+1)\n",
    "    plt.title(str(i+1) + \"-layer\")\n",
    "    if i != 0: plt.yticks([], [])\n",
    "    # plt.xlim(0.1, 1)\n",
    "    # plt.ylim(0, 7000)\n",
    "    plt.hist(a.flatten(), 30, range=(0,1))\n",
    "plt.show()"
   ]
  },
  {
   "cell_type": "markdown",
   "id": "05245d67",
   "metadata": {},
   "source": [
    "각 층의 활성화 값들이 0과 1에 치우쳐 분포되어 있다. 시그모이드 함수는 그 출력이 0에 가까워지자 그 미분은 0이 된다. 데이터가 0과 1에 치우쳐 분포하게 되면 역전파의 기울기 값이 점점 작아지다가 사라진다. 이것이 기울기 소실이라 알려진 문제이다. 층을 깊게 하는 딥러닝에서는 기울기 소실은 더 심각한 문제가 될 수있다. "
   ]
  },
  {
   "cell_type": "code",
   "execution_count": 8,
   "id": "07d13fcd",
   "metadata": {},
   "outputs": [],
   "source": [
    "w = np.random.randn(node_num, node_num)*0.01"
   ]
  },
  {
   "cell_type": "code",
   "execution_count": 9,
   "id": "09218dea",
   "metadata": {},
   "outputs": [],
   "source": [
    "# 가중치 표준편차 변경 \n",
    "\n",
    "input_data = np.random.randn(1000, 100)  # 1000개의 데이터\n",
    "node_num = 100  # 각 은닉층의 노드(뉴런) 수\n",
    "hidden_layer_size = 5  # 은닉층이 5개\n",
    "activations = {}  # 이곳에 활성화 결과를 저장\n",
    "\n",
    "x = input_data\n",
    "\n",
    "for i in range(hidden_layer_size):\n",
    "    if i != 0:\n",
    "        x = activations[i-1]\n",
    "\n",
    "    # 초깃값을 다양하게 바꿔가며 실험해보자！\n",
    "    w = np.random.randn(node_num, node_num)*0.01\n",
    "    # w = np.random.randn(node_num, node_num) * 0.01\n",
    "    # w = np.random.randn(node_num, node_num) * np.sqrt(1.0 / node_num)\n",
    "    # w = np.random.randn(node_num, node_num) * np.sqrt(2.0 / node_num)\n",
    "\n",
    "\n",
    "    a = np.dot(x, w)\n",
    "\n",
    "\n",
    "    # 활성화 함수도 바꿔가며 실험해보자！\n",
    "    z = sigmoid(a)\n",
    "    # z = ReLU(a)\n",
    "    # z = tanh(a)\n",
    "\n",
    "    activations[i] = z"
   ]
  },
  {
   "cell_type": "code",
   "execution_count": 10,
   "id": "59bfca0e",
   "metadata": {},
   "outputs": [
    {
     "data": {
      "image/png": "[encoded data removed]",
      "text/plain": [
       "<Figure size 432x288 with 5 Axes>"
      ]
     },
     "metadata": {
      "needs_background": "light"
     },
     "output_type": "display_data"
    }
   ],
   "source": [
    "for i, a in activations.items():\n",
    "    plt.subplot(1, len(activations), i+1)\n",
    "    plt.title(str(i+1) + \"-layer\")\n",
    "    if i != 0: plt.yticks([], [])\n",
    "    # plt.xlim(0.1, 1)\n",
    "    # plt.ylim(0, 7000)\n",
    "    plt.hist(a.flatten(), 30, range=(0,1))\n",
    "plt.show()"
   ]
  },
  {
   "cell_type": "markdown",
   "id": "c9f475c3",
   "metadata": {},
   "source": [
    "가중치 변경을 통해 값들이 0.5에 집중되어 나타났다. 다수의 뉴런이 거의 같은 값을 출력하고 있으니 뉴런을 여러 개 둔 의미가 없어진다는 의미를 내포한다.  \n",
    "\n",
    "각 층의 활성화 값은 적당히 고루 분포되어야 한다. 층과 층 사이에 적당하게 다양한 데이터가 흐르게 해야 신경망 학습이 효율적로 이뤄지기 떄문이다. 반대로 치우친 데이터가 흐르면 기울기 소실이나 표현력 제한 문제에 빠져서 학습이 잘 이뤄지지 않은 경우가 있다. "
   ]
  },
  {
   "cell_type": "markdown",
   "id": "80bd08c3",
   "metadata": {},
   "source": [
    "#### Xavier 초깃값 사용 \n",
    "초깃값의 표준편차가 √1/n 이 되도록 설정 ,  Xavier 초깃값을 사용하면 앞 층에 노드가 많을 수록 대상 노드의 초깃값으로 설정하는 가중치가 좁게 퍼진다. "
   ]
  },
  {
   "cell_type": "code",
   "execution_count": 11,
   "id": "d3f1bb69",
   "metadata": {},
   "outputs": [],
   "source": [
    "input_data = np.random.randn(1000, 100)  # 1000개의 데이터\n",
    "node_num = 100  # 각 은닉층의 노드(뉴런) 수\n",
    "hidden_layer_size = 5  # 은닉층이 5개\n",
    "activations = {}  # 이곳에 활성화 결과를 저장\n",
    "\n",
    "x = input_data\n",
    "\n",
    "for i in range(hidden_layer_size):\n",
    "    if i != 0:\n",
    "        x = activations[i-1]\n",
    "\n",
    "    #Xavier 초깃값 사용\n",
    "    w = np.random.randn(node_num, node_num) * np.sqrt(1.0 / node_num)\n",
    "    # w = np.random.randn(node_num, node_num) * np.sqrt(2.0 / node_num)\n",
    "\n",
    "\n",
    "    a = np.dot(x, w)\n",
    "\n",
    "\n",
    "    # 활성화 함수도 바꿔가며 실험해보자！\n",
    "    z = sigmoid(a)\n",
    "    # z = ReLU(a)\n",
    "    # z = tanh(a)\n",
    "\n",
    "    activations[i] = z"
   ]
  },
  {
   "cell_type": "code",
   "execution_count": 12,
   "id": "3269215a",
   "metadata": {},
   "outputs": [
    {
     "data": {
      "image/png": "[encoded data removed]",
      "text/plain": [
       "<Figure size 432x288 with 5 Axes>"
      ]
     },
     "metadata": {
      "needs_background": "light"
     },
     "output_type": "display_data"
    }
   ],
   "source": [
    "for i, a in activations.items():\n",
    "    plt.subplot(1, len(activations), i+1)\n",
    "    plt.title(str(i+1) + \"-layer\")\n",
    "    if i != 0: plt.yticks([], [])\n",
    "    # plt.xlim(0.1, 1)\n",
    "    # plt.ylim(0, 7000)\n",
    "    plt.hist(a.flatten(), 30, range=(0,1))\n",
    "plt.show()"
   ]
  },
  {
   "cell_type": "markdown",
   "id": "9e7b5ebd",
   "metadata": {},
   "source": [
    "오른쪽으로 갈 수록 약간씩 분포가 일그러져있는 모습이다. 이는 sigmoid 대신 tanh 함수(쌍곡선함수)를 이용하면 개선된다. 실제로 tanh 함수를 이용하면 종모양으로 분포된다. tanh함수도 sigmoid 함수와 같은 S 자 모양 곡선 함수 이지만 tanh함수가 원점(0,0)에서 대칭인 S곡선인 반면   \n",
    "sigmoid 함수는 (x,y)  = (0.05)에서 대칭인 S곡선이기 때문에 활성화 함수용으로는 원점에서 대칭인 함수가 바람직 하다고 알려져 있다."
   ]
  },
  {
   "cell_type": "markdown",
   "id": "d502c89c",
   "metadata": {},
   "source": [
    "## ReLU를 사용할 때의 가중치 초깃값 \n",
    "\n",
    "Xavier 초깃값은 활성화 함수가 선형인 것을 전제로 이끈 결과이다. sigmoid 함수와 tanh함수는 좌우 대칭이라 중안 부근이 선형인 함수로 볼 수 있다. 그래서Xavier 초깃값이 적당하다. 반면 ReLU를 이용할 때는 ReLU에 특화된 초깃값을 이용하라고 권장 된다. 이 특화된 초깃값을 찾아낸 카이밍 히의 이름을 따 **He 초깃값이라 한다.** He 초깃값은 앞 계층의 노드가 n개일때 , √2/n 인 정규분포를 사용한다. ReLU는 음의 영역이 0이라서 더 넓게 분포시키기 위해 2배의 계수가 필요하다고 해석할 수 있다. "
   ]
  },
  {
   "cell_type": "code",
   "execution_count": 13,
   "id": "0b04515f",
   "metadata": {},
   "outputs": [],
   "source": [
    "w = np.random.randn(node_num, node_num)*0.01"
   ]
  },
  {
   "cell_type": "code",
   "execution_count": 14,
   "id": "4d3b2072",
   "metadata": {},
   "outputs": [],
   "source": [
    "import numpy as np\n",
    "\n",
    "def ReLU(x):\n",
    "    return np.maximum(0, x)\n",
    "\n",
    "input_data = np.random.randn(1000, 100)  # 1000개의 데이터\n",
    "node_num = 100  # 각 은닉층의 노드(뉴런) 수\n",
    "hidden_layer_size = 5  # 은닉층이 5개\n",
    "activations = {}  # 이곳에 활성화 결과를 저장\n",
    "\n",
    "x = input_data\n",
    "\n",
    "for i in range(hidden_layer_size):\n",
    "    if i != 0:\n",
    "        x = activations[i-1]\n",
    "\n",
    "    # ReLU초깃값 사용\n",
    "   \n",
    "    w = np.random.randn(node_num, node_num) * np.sqrt(2.0 / node_num)\n",
    "\n",
    "\n",
    "    a = np.dot(x, w)\n",
    "\n",
    "\n",
    "    # 활성화 함수도 바꿔가며 실험해보자！\n",
    "    \n",
    "    z = ReLU(a)\n",
    "    \n",
    "\n",
    "    activations[i] = z"
   ]
  },
  {
   "cell_type": "code",
   "execution_count": 15,
   "id": "2b8053cd",
   "metadata": {},
   "outputs": [
    {
     "data": {
      "image/png": "[encoded data removed]",
      "text/plain": [
       "<Figure size 432x288 with 5 Axes>"
      ]
     },
     "metadata": {
      "needs_background": "light"
     },
     "output_type": "display_data"
    }
   ],
   "source": [
    "import matplotlib.pyplot as plt\n",
    "\n",
    "for i, a in activations.items():\n",
    "    plt.subplot(1, len(activations), i+1)\n",
    "    plt.title(str(i+1) + \"-layer\")\n",
    "    if i != 0: plt.yticks([], [])\n",
    "    # plt.xlim(0.1, 1)\n",
    "    # plt.ylim(0, 7000)\n",
    "    plt.hist(a.flatten(), 30, range=(0,1))\n",
    "plt.show()"
   ]
  },
  {
   "cell_type": "markdown",
   "id": "a5268208",
   "metadata": {},
   "source": [
    "결과를 보면 std = 0.01일 때의 각 층의 활성화값들은 아주 작은 값들이다. 신경망에 아주 작은 데이터가 흐른다는 것은 역전파 때 가중치의 기울기 역시 작아진다는 의미이다. 실제로도 학습이 거의 이뤄지지 않는다. "
   ]
  },
  {
   "cell_type": "markdown",
   "id": "cf1881b8",
   "metadata": {},
   "source": [
    "## MNIST 데이터셋으로 본 가중치 초깃값 비교 "
   ]
  },
  {
   "cell_type": "code",
   "execution_count": 17,
   "id": "bf9d5e47",
   "metadata": {},
   "outputs": [
    {
     "name": "stdout",
     "output_type": "stream",
     "text": [
      "===========iteration:0===========\n",
      "std=0.01:2.302514744963295\n",
      "Xavier:2.3056005781607087\n",
      "He:2.5423240085671543\n",
      "===========iteration:100===========\n",
      "std=0.01:2.30228570842006\n",
      "Xavier:2.2386566418769838\n",
      "He:1.5067804410164911\n",
      "===========iteration:200===========\n",
      "std=0.01:2.302322134623001\n",
      "Xavier:2.0593987037535992\n",
      "He:0.6837607273996522\n",
      "===========iteration:300===========\n",
      "std=0.01:2.301464388719185\n",
      "Xavier:1.8084231943340727\n",
      "He:0.41889681418205366\n",
      "===========iteration:400===========\n",
      "std=0.01:2.303237569881313\n",
      "Xavier:1.396625710961938\n",
      "He:0.3472037274568871\n",
      "===========iteration:500===========\n",
      "std=0.01:2.3041450757354487\n",
      "Xavier:0.9611331519887604\n",
      "He:0.3678321802532858\n",
      "===========iteration:600===========\n",
      "std=0.01:2.299000572675131\n",
      "Xavier:0.7326253271277754\n",
      "He:0.3481074012843004\n",
      "===========iteration:700===========\n",
      "std=0.01:2.30309407298454\n",
      "Xavier:0.5396223678798793\n",
      "He:0.37862672873144315\n",
      "===========iteration:800===========\n",
      "std=0.01:2.300000080919385\n",
      "Xavier:0.543783305166927\n",
      "He:0.30695926755985337\n",
      "===========iteration:900===========\n",
      "std=0.01:2.3040535009168437\n",
      "Xavier:0.3878550327553356\n",
      "He:0.19741010905378356\n",
      "===========iteration:1000===========\n",
      "std=0.01:2.3056440907138462\n",
      "Xavier:0.6843258654723994\n",
      "He:0.49586492843464297\n",
      "===========iteration:1100===========\n",
      "std=0.01:2.3007350009302994\n",
      "Xavier:0.3720875206405485\n",
      "He:0.25569309031570514\n",
      "===========iteration:1200===========\n",
      "std=0.01:2.299015537093437\n",
      "Xavier:0.3909991770583127\n",
      "He:0.25453195822818897\n",
      "===========iteration:1300===========\n",
      "std=0.01:2.303735761765349\n",
      "Xavier:0.3776864486392964\n",
      "He:0.272625951097445\n",
      "===========iteration:1400===========\n",
      "std=0.01:2.2958766936155586\n",
      "Xavier:0.2943311265942238\n",
      "He:0.2001511571090368\n",
      "===========iteration:1500===========\n",
      "std=0.01:2.3005395056847497\n",
      "Xavier:0.2727783695018292\n",
      "He:0.2314354234975579\n",
      "===========iteration:1600===========\n",
      "std=0.01:2.2971807611554054\n",
      "Xavier:0.39723807690610247\n",
      "He:0.3036868910680927\n",
      "===========iteration:1700===========\n",
      "std=0.01:2.3015274645596713\n",
      "Xavier:0.25220328677426873\n",
      "He:0.1606036290920559\n",
      "===========iteration:1800===========\n",
      "std=0.01:2.2953776854640413\n",
      "Xavier:0.32051087669936995\n",
      "He:0.2302829556733299\n",
      "===========iteration:1900===========\n",
      "std=0.01:2.2987562969540285\n",
      "Xavier:0.41536268707702434\n",
      "He:0.34023222217043575\n"
     ]
    },
    {
     "data": {
      "image/png": "[encoded data removed]",
      "text/plain": [
       "<Figure size 432x288 with 1 Axes>"
      ]
     },
     "metadata": {
      "needs_background": "light"
     },
     "output_type": "display_data"
    }
   ],
   "source": [
    "import os\n",
    "import sys\n",
    "\n",
    "sys.path.append(os.pardir)  # 부모 디렉터리의 파일을 가져올 수 있도록 설정\n",
    "import numpy as np\n",
    "import matplotlib.pyplot as plt\n",
    "from dataset.mnist import load_mnist\n",
    "from common.util import smooth_curve\n",
    "from common.multi_layer_net import MultiLayerNet\n",
    "from common.optimizer import SGD\n",
    "\n",
    "\n",
    "# 0. MNIST 데이터 읽기==========\n",
    "(x_train, t_train), (x_test, t_test) = load_mnist(normalize=True)\n",
    "\n",
    "train_size = x_train.shape[0]\n",
    "batch_size = 128\n",
    "max_iterations = 2000\n",
    "\n",
    "\n",
    "# 1. 실험용 설정==========\n",
    "weight_init_types = {'std=0.01': 0.01, 'Xavier': 'sigmoid', 'He': 'relu'}\n",
    "optimizer = SGD(lr=0.01)\n",
    "\n",
    "networks = {}\n",
    "train_loss = {}\n",
    "for key, weight_type in weight_init_types.items():\n",
    "    networks[key] = MultiLayerNet(input_size=784, hidden_size_list=[100, 100, 100, 100],\n",
    "                                  output_size=10, weight_init_std=weight_type)\n",
    "    train_loss[key] = []\n",
    "\n",
    "\n",
    "# 2. 훈련 시작==========\n",
    "for i in range(max_iterations):\n",
    "    batch_mask = np.random.choice(train_size, batch_size)\n",
    "    x_batch = x_train[batch_mask]\n",
    "    t_batch = t_train[batch_mask]\n",
    "    \n",
    "    for key in weight_init_types.keys():\n",
    "        grads = networks[key].gradient(x_batch, t_batch)\n",
    "        optimizer.update(networks[key].params, grads)\n",
    "    \n",
    "        loss = networks[key].loss(x_batch, t_batch)\n",
    "        train_loss[key].append(loss)\n",
    "    \n",
    "    if i % 100 == 0:\n",
    "        print(\"===========\" + \"iteration:\" + str(i) + \"===========\")\n",
    "        for key in weight_init_types.keys():\n",
    "            loss = networks[key].loss(x_batch, t_batch)\n",
    "            print(key + \":\" + str(loss))\n",
    "\n",
    "\n",
    "# 3. 그래프 그리기==========\n",
    "markers = {'std=0.01': 'o', 'Xavier': 's', 'He': 'D'}\n",
    "x = np.arange(max_iterations)\n",
    "for key in weight_init_types.keys():\n",
    "    plt.plot(x, smooth_curve(train_loss[key]), marker=markers[key], markevery=100, label=key)\n",
    "plt.xlabel(\"iterations\")\n",
    "plt.ylabel(\"loss\")\n",
    "plt.ylim(0, 2.5)\n",
    "plt.legend()\n",
    "plt.show()"
   ]
  }
 ],
 "metadata": {
  "kernelspec": {
   "display_name": "Python 3 (ipykernel)",
   "language": "python",
   "name": "python3"
  },
  "language_info": {
   "codemirror_mode": {
    "name": "ipython",
    "version": 3
   },
   "file_extension": ".py",
   "mimetype": "text/x-python",
   "name": "python",
   "nbconvert_exporter": "python",
   "pygments_lexer": "ipython3",
   "version": "3.9.7"
  }
 },
 "nbformat": 4,
 "nbformat_minor": 5
}
