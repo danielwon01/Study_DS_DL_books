{
 "cells": [
  {
   "cell_type": "markdown",
   "id": "197d81b4",
   "metadata": {},
   "source": [
    "## 퍼셉트론에서 신경망으로 "
   ]
  },
  {
   "cell_type": "markdown",
   "id": "fbe8cdfd",
   "metadata": {},
   "source": [
    "### 신경망 \n",
    "\n",
    "<img src=\"https://upload.wikimedia.org/wikipedia/commons/thumb/4/46/Colored_neural_network.svg/1200px-Colored_neural_network.svg.png\" width=\"250\" height=\"250\"/>  \n",
    "\n",
    "가장 왼쪽 줄을 입력층 맨 오른쪽 줄을 출력층, 중간 줄을 은닉층이라고 한다.  \n",
    "은닉층의 뉴런은 (입력층이나 출력층과 달리) 눈에 보이지 않는다. 입력층에서 출력층 방향으로 0,1,2 표현  \n",
    "\n",
    "신경망은 모두 3층으로 구성됩니다만, 가중치를 갖는 층은 2개 뿐이기 때문에 2층 신경망이라고 한다. 실제로 가중치를 갖는 개수(입력층, 은닉층,출력층의 합계에서 1을 뺀값)을 기준으로 한다."
   ]
  },
  {
   "cell_type": "markdown",
   "id": "887e5f71",
   "metadata": {},
   "source": [
    "### 퍼셉트론 "
   ]
  },
  {
   "cell_type": "markdown",
   "id": "617c4f4d",
   "metadata": {},
   "source": [
    "편향을 명시한 퍼셉트론 \n",
    "<img src=\"https://mblogthumb-phinf.pstatic.net/MjAxODA4MTZfMjY1/MDAxNTM0NDI3Njg2MTg3.hbcJB71QHj4INFj_BWtLMHSJ9P4wUjU_UG7knCkMdRcg.ADV0FHTMPsofn150af17irynYH-FRdSRbuexSRIk3AIg.PNG.cheeryun/fig_3-3.png?type=w800\" width=\"250\" height=\"250\"/>  \n",
    "\n",
    "가중치가 b이고 입력이 1인 뉴련이 추가, 퍼셉트론의 동작은 x1, x2, 1이라는 3개의 신호가 뉴련에 입력되어, 각 신호에 가중치를 곱한 후, 다음 뉴련에 전달 된다. 다음 뉴련에서는 이 신호들의 값을 더하여, 그 합이 0을 넘으면 1을 출력하고 그렇지 않으면 0을 출력한다.   \n",
    "\n",
    "$y = h(b + w1x1 + w2x2)$\n",
    "\n",
    "$\\text{h(x) }  =\n",
    "\\begin{cases}\n",
    "0 & (x <=0)\\\\\n",
    "1 & (x > 0) \\\\\n",
    "\\end{cases}\n",
    "$\n",
    "\n",
    "입력 신호의 총합이 h(x)라는 거쳐 변환되어, 그 변환된 값이 y의 출력이 됨을 보여준다. \n"
   ]
  },
  {
   "cell_type": "markdown",
   "id": "ebd70dc1",
   "metadata": {},
   "source": [
    "### 활성화 함수 "
   ]
  },
  {
   "cell_type": "markdown",
   "id": "28fac257",
   "metadata": {},
   "source": [
    "입력신호의 총합을 출력신호로 변환하는 함수를 일반적으로 활성화 함수 라고 한다. '활성화'라는 이름이 말해주듯이 활성화 함수는 입력 신호의 총합이 활성화를 일으키는지를 정하는 역할을 한다. \n",
    "\n",
    "$y = h(b + w1x1 + w2x2)$ 가중치가 곱해진 입력 신호의 총합을 계산하고, 그 합을 활성화 함수에 입력해 결과를 내는 2단계로 처리. 이를 2개의 식으로 나눌 수 있다. \n",
    "\n",
    "$a = b + w1x1 + w2x)$ 가중치가 달린 입력 신호와 편향의 총합을 계산하고 이를 a\n",
    "$y = h(a)$ a를 함수 h()에 넣어 y를 출력한다.\n",
    "\n",
    "\n",
    "<img src=\"https://t1.daumcdn.net/cfile/blog/99DE213359DA43BE34\" width=\"250\" height=\"250\"/>  \n",
    "\n",
    "\n",
    "가중치 신호를 조합한 결과가 a라는 노드가 되고, 활성화 함수h()를 통과하여 y하는 노드로 변환되는 과정으로 이루어 진다. \n"
   ]
  },
  {
   "cell_type": "markdown",
   "id": "fe147728",
   "metadata": {},
   "source": [
    "활성화 함수는 임계값을 경계로 출력으로 바뀌는데, 이런 함수를 **계단함수(step function)** 라 한다."
   ]
  },
  {
   "cell_type": "markdown",
   "id": "d503dba6",
   "metadata": {},
   "source": [
    "### 시그모이드 함수 (sigmoid function)\n",
    "\n",
    "$\n",
    "\\text{h(x)} = \\cfrac{1}{1 + exp(-x)}\n",
    "$\n",
    "\n",
    "$exp(-x)$는 $e(-x)$를 뜻하며, $e$는 자연상수로 2.7182..의 값을 갖는 실수이다. "
   ]
  },
  {
   "cell_type": "markdown",
   "id": "6b7a6396",
   "metadata": {},
   "source": [
    "### 계단 함수 구현 "
   ]
  },
  {
   "cell_type": "code",
   "execution_count": 1,
   "id": "2e9d5cde",
   "metadata": {},
   "outputs": [],
   "source": [
    "import numpy as np\n",
    "import pandas as pd\n",
    "import seaborn as sns\n",
    "import matplotlib.pyplot as plt\n",
    "import warnings\n",
    "warnings.filterwarnings(action='ignore')"
   ]
  },
  {
   "cell_type": "code",
   "execution_count": 2,
   "id": "d0830ef8",
   "metadata": {},
   "outputs": [],
   "source": [
    "def step_function (x) :\n",
    "    if x > 0 :\n",
    "        return 1\n",
    "    else :\n",
    "        return 0"
   ]
  },
  {
   "cell_type": "code",
   "execution_count": 3,
   "id": "02b653f8",
   "metadata": {},
   "outputs": [],
   "source": [
    "import numpy as np\n",
    "\n",
    "def step_function (x) :\n",
    "    y = x > 0\n",
    "    return y.astype(np.int)"
   ]
  },
  {
   "cell_type": "code",
   "execution_count": 4,
   "id": "9004df1e",
   "metadata": {},
   "outputs": [
    {
     "data": {
      "text/plain": [
       "array([False,  True,  True])"
      ]
     },
     "execution_count": 4,
     "metadata": {},
     "output_type": "execute_result"
    }
   ],
   "source": [
    "x = np.array([-0.1, 1.0, 2.0])\n",
    "\n",
    "y = x > 0\n",
    "y"
   ]
  },
  {
   "cell_type": "code",
   "execution_count": 5,
   "id": "777cde02",
   "metadata": {},
   "outputs": [
    {
     "data": {
      "text/plain": [
       "array([0, 1, 1])"
      ]
     },
     "execution_count": 5,
     "metadata": {},
     "output_type": "execute_result"
    }
   ],
   "source": [
    "y  = y.astype(np.int)\n",
    "y"
   ]
  },
  {
   "cell_type": "code",
   "execution_count": 6,
   "id": "07c7d263",
   "metadata": {},
   "outputs": [
    {
     "data": {
      "image/png": "[encoded data removed]",
      "text/plain": [
       "<Figure size 432x288 with 1 Axes>"
      ]
     },
     "metadata": {
      "needs_background": "light"
     },
     "output_type": "display_data"
    }
   ],
   "source": [
    "def step_function(x):\n",
    "    return np.array(x > 0, dtype=np.int)\n",
    "\n",
    "X = np.arange(-5.0, 5.0, 0.1)\n",
    "Y = step_function(X)\n",
    "plt.plot(X, Y)\n",
    "plt.ylim(-0.1, 1.1)  # y축의 범위 지정\n",
    "plt.show()"
   ]
  },
  {
   "cell_type": "markdown",
   "id": "6d69d278",
   "metadata": {},
   "source": [
    "### 시그모이드 함수 구현"
   ]
  },
  {
   "cell_type": "code",
   "execution_count": 7,
   "id": "260bfb0a",
   "metadata": {},
   "outputs": [],
   "source": [
    "def sigmoid (x) :\n",
    "    return 1 / (1 + np.exp(-x)) "
   ]
  },
  {
   "cell_type": "code",
   "execution_count": 8,
   "id": "3473a89e",
   "metadata": {},
   "outputs": [
    {
     "data": {
      "text/plain": [
       "array([0.47502081, 0.73105858, 0.88079708])"
      ]
     },
     "execution_count": 8,
     "metadata": {},
     "output_type": "execute_result"
    }
   ],
   "source": [
    "x = np.array([-0.1, 1.0, 2.0])\n",
    "\n",
    "sigmoid(x)"
   ]
  },
  {
   "cell_type": "code",
   "execution_count": 9,
   "id": "b05f138b",
   "metadata": {},
   "outputs": [
    {
     "data": {
      "image/png": "[encoded data removed]",
      "text/plain": [
       "<Figure size 432x288 with 1 Axes>"
      ]
     },
     "metadata": {
      "needs_background": "light"
     },
     "output_type": "display_data"
    }
   ],
   "source": [
    "def sigmoid(x):\n",
    "    return 1 / (1 + np.exp(-x))    \n",
    "\n",
    "X = np.arange(-5.0, 5.0, 0.1)\n",
    "Y = sigmoid(X)\n",
    "plt.plot(X, Y)\n",
    "plt.ylim(-0.1, 1.1)\n",
    "plt.show()"
   ]
  },
  {
   "cell_type": "code",
   "execution_count": 10,
   "id": "aa962202",
   "metadata": {},
   "outputs": [
    {
     "data": {
      "image/png": "[encoded data removed]",
      "text/plain": [
       "<Figure size 432x288 with 1 Axes>"
      ]
     },
     "metadata": {
      "needs_background": "light"
     },
     "output_type": "display_data"
    }
   ],
   "source": [
    "# 계단, 시그모이드 비교 \n",
    "\n",
    "\n",
    "def sigmoid(x):\n",
    "    return 1 / (1 + np.exp(-x))    \n",
    "\n",
    "\n",
    "def step_function(x):\n",
    "    return np.array(x > 0, dtype=np.int)\n",
    "\n",
    "x = np.arange(-5.0, 5.0, 0.1)\n",
    "y1 = sigmoid(x)\n",
    "y2 = step_function(x)\n",
    "\n",
    "plt.plot(x, y1)\n",
    "plt.plot(x, y2, 'k--')\n",
    "plt.ylim(-0.1, 1.1) # y축 범위 지정\n",
    "plt.show()"
   ]
  },
  {
   "cell_type": "markdown",
   "id": "3919b7f4",
   "metadata": {},
   "source": [
    "시그모디으 함수는 부드러운 곡선이며 입력에 따라 출력이 연속적으로 변화합니다. 한편 계단 함수는 0을 경계로 출력이 갑자기 바뀐다.  \n",
    "\n",
    "계단 함수가 0과 1중 하나의 값만 돌려주는 반면 시그모이드 함수는 실수를 돌려준다는 점도 차이가 있다. 퍼셉트론에서는 뉴런 사이에 0과 1이 흘렀다면, 신경망에서는 연속적인 실수가 흐른다. \n",
    "\n",
    "공통점은 둘 다 입력이 작을 때의 출력은 0에 가깝고, 입력이 커지면 출력이 1에 가까워지는 구조인 것이다. "
   ]
  },
  {
   "cell_type": "markdown",
   "id": "c16fe679",
   "metadata": {},
   "source": [
    "### 비선형 함수 \n",
    "시그모이드, 계단함수 모두 비선형 함수이다.  \n",
    "신경망에서는 활성화 함수로 비선형 함수를 사용해야 한다. 달리 말하면 선형함수를 사용해서는 안된다. 이유는 선형함수를 이용하면 신경망의 층을 깊게 하는 의미가 없어지기 때문이다.  \n",
    "\n",
    "선형함수의 문제는 층을 아무리 깊게 해도 은닉층이 없는 네크워크로도 똑같은 기능을 할 수 있다는데 있다.   \n",
    "선형함수인 \n",
    "$\n",
    "\\text{h(x)} = \\ cx \\ \n",
    "$\n",
    "를 활성화 함수로 사용한 3층 네트워크를 예로 들어보자, 이를 식으로 나타내면 $\n",
    "\\text{h(x)} = \\ h(h(h(x))) \\ \n",
    "$ 가 된다. 이 계산은 $\n",
    "\\text{y(x)} = \\ c*c*c*x \\ \n",
    "$ 처럼 곱셈을 세번 수행하지만 \n",
    "$\n",
    "\\text{y(x)} = \\ ax \\ \n",
    "$\n",
    "와 똑같은 식이다. 즉 은닉층이 없는 네트워크로 표현할 수 있다. 그래서 층을 쌓는 혜택을 얻고 싶다면 활성화 함수로는 반드시 비선형 함수를 사용해야한다."
   ]
  },
  {
   "cell_type": "markdown",
   "id": "bdd415f2",
   "metadata": {},
   "source": [
    "### ReLU 함수 \n",
    "ReLU는 입력이 0을 넘으면 그 입력을 그대로 출력하고, 0 이하면 0을 출력하는 함수이다.\n",
    "\n",
    "$\\text{h(x) }  =\n",
    "\\begin{cases}\n",
    "x & (x > 0)\\\\\n",
    "0 & (x <= 0) \\\\\n",
    "\\end{cases}\n",
    "$"
   ]
  },
  {
   "cell_type": "code",
   "execution_count": 11,
   "id": "59374cd4",
   "metadata": {},
   "outputs": [
    {
     "data": {
      "image/png": "[encoded data removed]",
      "text/plain": [
       "<Figure size 432x288 with 1 Axes>"
      ]
     },
     "metadata": {
      "needs_background": "light"
     },
     "output_type": "display_data"
    }
   ],
   "source": [
    "def relu(x):\n",
    "    return np.maximum(0, x) # 두 입력 중 큰값을 반환 \n",
    "\n",
    "x = np.arange(-5.0, 5.0, 0.1)\n",
    "y = relu(x)\n",
    "plt.plot(x, y)\n",
    "plt.ylim(-1.0, 5.5)\n",
    "plt.show()"
   ]
  },
  {
   "cell_type": "markdown",
   "id": "9c1e0612",
   "metadata": {},
   "source": [
    "### 다차원 배열\n",
    "다차원 배열의 기본은 숫자의 집합이다. 숫자가 한 줄로 늘어선 것이나 직사각형으로 늘어놓은것 , 3차원으로 늘어놓은것, N차원으로 나열하는 것을 통틀어 다차원 배열이라고 한다. "
   ]
  },
  {
   "cell_type": "code",
   "execution_count": 12,
   "id": "8d38db24",
   "metadata": {},
   "outputs": [
    {
     "name": "stdout",
     "output_type": "stream",
     "text": [
      "[1 2 3 4]\n"
     ]
    }
   ],
   "source": [
    "A = np.array([1,2,3,4])\n",
    "print(A)"
   ]
  },
  {
   "cell_type": "code",
   "execution_count": 13,
   "id": "27d15fc6",
   "metadata": {},
   "outputs": [
    {
     "data": {
      "text/plain": [
       "1"
      ]
     },
     "execution_count": 13,
     "metadata": {},
     "output_type": "execute_result"
    }
   ],
   "source": [
    "np.ndim(A) # 1차원 "
   ]
  },
  {
   "cell_type": "code",
   "execution_count": 14,
   "id": "2e4e7fe3",
   "metadata": {},
   "outputs": [
    {
     "data": {
      "text/plain": [
       "(4,)"
      ]
     },
     "execution_count": 14,
     "metadata": {},
     "output_type": "execute_result"
    }
   ],
   "source": [
    "A.shape"
   ]
  },
  {
   "cell_type": "code",
   "execution_count": 15,
   "id": "3f66ff4d",
   "metadata": {},
   "outputs": [
    {
     "data": {
      "text/plain": [
       "4"
      ]
     },
     "execution_count": 15,
     "metadata": {},
     "output_type": "execute_result"
    }
   ],
   "source": [
    "A.shape[0]"
   ]
  },
  {
   "cell_type": "code",
   "execution_count": 16,
   "id": "be1f8c24",
   "metadata": {},
   "outputs": [
    {
     "name": "stdout",
     "output_type": "stream",
     "text": [
      "[[1 2]\n",
      " [3 4]\n",
      " [5 6]]\n"
     ]
    }
   ],
   "source": [
    "B = np.array([[1,2], [3,4], [5,6]])\n",
    "print(B)"
   ]
  },
  {
   "cell_type": "code",
   "execution_count": 17,
   "id": "682ff2e2",
   "metadata": {},
   "outputs": [
    {
     "data": {
      "text/plain": [
       "2"
      ]
     },
     "execution_count": 17,
     "metadata": {},
     "output_type": "execute_result"
    }
   ],
   "source": [
    "np.ndim(B)"
   ]
  },
  {
   "cell_type": "code",
   "execution_count": 18,
   "id": "4dacee2c",
   "metadata": {},
   "outputs": [
    {
     "data": {
      "text/plain": [
       "(3, 2)"
      ]
     },
     "execution_count": 18,
     "metadata": {},
     "output_type": "execute_result"
    }
   ],
   "source": [
    "B.shape"
   ]
  },
  {
   "cell_type": "markdown",
   "id": "92b2eba8",
   "metadata": {},
   "source": [
    "### 행렬의 곱 "
   ]
  },
  {
   "cell_type": "code",
   "execution_count": 19,
   "id": "6e064067",
   "metadata": {},
   "outputs": [
    {
     "data": {
      "text/plain": [
       "(2, 2)"
      ]
     },
     "execution_count": 19,
     "metadata": {},
     "output_type": "execute_result"
    }
   ],
   "source": [
    "A = np.array([[1,2],[3,4]])\n",
    "A.shape"
   ]
  },
  {
   "cell_type": "code",
   "execution_count": 20,
   "id": "f3cecc33",
   "metadata": {},
   "outputs": [
    {
     "data": {
      "text/plain": [
       "(2, 2)"
      ]
     },
     "execution_count": 20,
     "metadata": {},
     "output_type": "execute_result"
    }
   ],
   "source": [
    "B = np.array([[5,6],[7,8]])\n",
    "B.shape"
   ]
  },
  {
   "cell_type": "code",
   "execution_count": 21,
   "id": "838fd249",
   "metadata": {},
   "outputs": [
    {
     "data": {
      "text/plain": [
       "array([[19, 22],\n",
       "       [43, 50]])"
      ]
     },
     "execution_count": 21,
     "metadata": {},
     "output_type": "execute_result"
    }
   ],
   "source": [
    "np.dot(A,B) # 내적 "
   ]
  },
  {
   "cell_type": "code",
   "execution_count": 22,
   "id": "d0f85550",
   "metadata": {},
   "outputs": [
    {
     "data": {
      "text/plain": [
       "(2, 3)"
      ]
     },
     "execution_count": 22,
     "metadata": {},
     "output_type": "execute_result"
    }
   ],
   "source": [
    "A = np.array([[1,2,7],[3,4,5]])\n",
    "A.shape"
   ]
  },
  {
   "cell_type": "code",
   "execution_count": 23,
   "id": "c52dac99",
   "metadata": {},
   "outputs": [
    {
     "data": {
      "text/plain": [
       "(3, 2)"
      ]
     },
     "execution_count": 23,
     "metadata": {},
     "output_type": "execute_result"
    }
   ],
   "source": [
    "B = np.array([[1,2], [3,4], [5,6]])\n",
    "B.shape"
   ]
  },
  {
   "cell_type": "code",
   "execution_count": 24,
   "id": "e126fc17",
   "metadata": {},
   "outputs": [
    {
     "data": {
      "text/plain": [
       "array([[42, 52],\n",
       "       [40, 52]])"
      ]
     },
     "execution_count": 24,
     "metadata": {},
     "output_type": "execute_result"
    }
   ],
   "source": [
    "np.dot(A,B)"
   ]
  },
  {
   "attachments": {
    "image.png": {
     "image/png": "[encoded data removed]"
    }
   },
   "cell_type": "markdown",
   "id": "f4725a47",
   "metadata": {},
   "source": [
    "#### 다차원 배열을 곱하려면 두 행렬의 대응하는 차원의 원소 수를 일치시켜야 한다.\n",
    "![image.png](attachment:image.png)\n"
   ]
  },
  {
   "cell_type": "markdown",
   "id": "cb6e54a6",
   "metadata": {},
   "source": [
    "### 신경망에서의 행렬곱 "
   ]
  },
  {
   "attachments": {},
   "cell_type": "markdown",
   "id": "dcb0093f",
   "metadata": {},
   "source": [
    "<img src=\"https://media.vlpt.us/images/joo4438/post/3e6e96b2-c78b-4288-bba1-9465ff4247e2/image.png\" width=\"500\" height=\"250\"/>  \n",
    "\n"
   ]
  },
  {
   "cell_type": "code",
   "execution_count": 25,
   "id": "f9d7a2fe",
   "metadata": {},
   "outputs": [
    {
     "data": {
      "text/plain": [
       "array([ 5, 11, 17])"
      ]
     },
     "execution_count": 25,
     "metadata": {},
     "output_type": "execute_result"
    }
   ],
   "source": [
    "X = np.array([1,2])\n",
    "W = np.array([[1,3,5],[2,4,6]])\n",
    "\n",
    "Y = np.dot(X ,W)\n",
    "Y"
   ]
  },
  {
   "cell_type": "markdown",
   "id": "2f1ac946",
   "metadata": {},
   "source": [
    "### 3층 신경망 구현 \n"
   ]
  },
  {
   "cell_type": "markdown",
   "id": "673f6942",
   "metadata": {},
   "source": [
    "<img src=\"https://t1.daumcdn.net/cfile/tistory/99651A475A6926431F\" width=\"500\" height=\"250\"/>  \n",
    "\n",
    "입력층 2개, 첫번째 은닉층 3개 , 두번째 은닉층 2개, 출력층 2개의 뉴런으로 구성"
   ]
  },
  {
   "cell_type": "markdown",
   "id": "e2b79bc0",
   "metadata": {},
   "source": [
    "<img src=\"https://media.vlpt.us/images/kyj93790/post/5f73587a-8551-4428-8b2c-4af67ac48106/image.png\" width=\"500\" height=\"300\"/>  \n",
    "\n",
    "w12(1)는 앞층의 2번째 뉴련(x2)에서 다음층의 뉴런 1번째 뉴런 (a1(1))로 향할 때의 가중치.  가중치 오른쪽 아래의 인덱스 번호는 다음층 번호, 앞층 번호 순으로 적는다.  \n",
    "\n"
   ]
  },
  {
   "cell_type": "code",
   "execution_count": 26,
   "id": "90e734e3",
   "metadata": {},
   "outputs": [
    {
     "name": "stdout",
     "output_type": "stream",
     "text": [
      "[0.3 0.7 1.1]\n"
     ]
    }
   ],
   "source": [
    "X = np.array([1.0, 0.5])\n",
    "W1 = np.array([[0.1, 0.3, 0.5],[0.2,0.4,0.6]])\n",
    "B1 = np.array([0.1, 0.2,0.3])\n",
    "\n",
    "A1 = np.dot(X ,W1) + B1\n",
    "print(A1)"
   ]
  },
  {
   "cell_type": "code",
   "execution_count": 27,
   "id": "2f791bb6",
   "metadata": {},
   "outputs": [
    {
     "data": {
      "text/plain": [
       "array([0.57444252, 0.66818777, 0.75026011])"
      ]
     },
     "execution_count": 27,
     "metadata": {},
     "output_type": "execute_result"
    }
   ],
   "source": [
    "# 활성화 함수 적용\n",
    "\n",
    "Z1 = sigmoid(A1)\n",
    "Z1"
   ]
  },
  {
   "cell_type": "markdown",
   "id": "94b028ce",
   "metadata": {},
   "source": [
    "\n",
    "<img src=\"https://t1.daumcdn.net/cfile/tistory/9914933F5A69424930\" width=\"500\" height=\"300\"/>  "
   ]
  },
  {
   "cell_type": "code",
   "execution_count": 28,
   "id": "ca0a4735",
   "metadata": {},
   "outputs": [
    {
     "name": "stdout",
     "output_type": "stream",
     "text": [
      "[0.51615984 1.21402696]\n",
      "[0.62624937 0.7710107 ]\n"
     ]
    }
   ],
   "source": [
    "# 중요한점은 1층의 출력 Z1이 2층의 입력이 된다는 점 \n",
    "\n",
    "W2 = np.array([[0.1, 0.4],[0.2,0.5],[0.3,0.6]])\n",
    "B2 = np.array([0.1, 0.2])\n",
    "\n",
    "A2 = np.dot(Z1 ,W2) + B2 \n",
    "Z2 = sigmoid(A2)\n",
    "\n",
    "print(A2)\n",
    "print(Z2)"
   ]
  },
  {
   "cell_type": "code",
   "execution_count": 29,
   "id": "4f6b1147",
   "metadata": {},
   "outputs": [
    {
     "name": "stdout",
     "output_type": "stream",
     "text": [
      "[ 5 11 17]\n"
     ]
    }
   ],
   "source": [
    "# 항등함수 , 입력을 그대로 출력 \n",
    "\n",
    "def identity_function (x) :\n",
    "    W3 = np.array([[0.1, 0.4],[0.2,0.4]])\n",
    "    B3 = np.array([0.1, 0.2])\n",
    "    \n",
    "    A3 = np.dot(Z2 ,W3) + B3\n",
    "    \n",
    "    Y= identity_function(A3)\n",
    "\n",
    "print(Y)"
   ]
  },
  {
   "cell_type": "markdown",
   "id": "0f5d49f2",
   "metadata": {},
   "source": [
    "출력층의 활성화 함수는 풀고자 하는 문제의 성질에 맞게 정한다. 회귀에는 항등함수, 2클래스 분류에는 시그모이드 함수, 다중 클래스 분류에는 소프트맥스를 사용하는 것이 일반적이다. "
   ]
  },
  {
   "cell_type": "code",
   "execution_count": 30,
   "id": "d30a6391",
   "metadata": {},
   "outputs": [],
   "source": [
    "import sys \n",
    "sys.setrecursionlimit(10000)  "
   ]
  },
  {
   "cell_type": "code",
   "execution_count": null,
   "id": "d71efca9",
   "metadata": {},
   "outputs": [],
   "source": [
    "# 가중치와 편향을 초기화하고 이를 딕셔너리 변수 network에 저장\n",
    "# 딕셔너리 변수 network에는 각 층에서 필요한 매개변수(가중치와 편향)을 저장\n",
    "\n",
    "def init_network():\n",
    "    network = {}\n",
    "    network['W1'] = np.array([[0.1, 0.3, 0.5], [0.2, 0.4, 0.6]])\n",
    "    network['b1'] = np.array([0.1, 0.2, 0.3])\n",
    "    network['W2'] = np.array([[0.1, 0.4], [0.2, 0.5], [0.3, 0.6]])\n",
    "    network['b2'] = np.array([0.1, 0.2])\n",
    "    network['W3'] = np.array([[0.1, 0.3], [0.2, 0.4]])\n",
    "    network['b3'] = np.array([0.1, 0.2])\n",
    "    \n",
    "    return network\n",
    "    \n",
    "# 입력 신호를 출력으로 변환하는 처리 과정 구현\n",
    "# 신호가 순방향(입력에서 출력 방향)으로 전달됨(순전파)\n",
    "\n",
    "def forward(network, x):\n",
    "    W1, W2, W3 = network['W1'], network['W2'], network['W3']\n",
    "    b1, b2, b3 = network['b1'], network['b2'], network['b3']\n",
    "    \n",
    "    a1 = np.dot(x, W1) + b1\n",
    "    z1 = sigmoid(a1)\n",
    "    \n",
    "    a2 = np.dot(z1, W2) + b2\n",
    "    z2 = sigmoid(a2)\n",
    "    \n",
    "    a3 = np.dot(z2, W3) + b3\n",
    "    y = identity_function(a3)\n",
    "    \n",
    "    return y\n",
    "    \n",
    "network = init_network()\n",
    "X = np.array([1.0, 0.5])\n",
    "y = forward(network, X)\n",
    "\n",
    "print(y) "
   ]
  }
 ],
 "metadata": {
  "kernelspec": {
   "display_name": "Python 3",
   "language": "python",
   "name": "python3"
  },
  "language_info": {
   "codemirror_mode": {
    "name": "ipython",
    "version": 3
   },
   "file_extension": ".py",
   "mimetype": "text/x-python",
   "name": "python",
   "nbconvert_exporter": "python",
   "pygments_lexer": "ipython3",
   "version": "3.8.11"
  }
 },
 "nbformat": 4,
 "nbformat_minor": 5
}
