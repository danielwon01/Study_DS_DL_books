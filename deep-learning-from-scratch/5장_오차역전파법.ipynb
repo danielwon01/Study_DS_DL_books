{
 "cells": [
  {
   "cell_type": "markdown",
   "id": "61a7d285",
   "metadata": {},
   "source": [
    "## 계산그래프\n",
    "계산과정을 그래프로 나타낸 것이다. "
   ]
  },
  {
   "cell_type": "markdown",
   "id": "fe46d4c2",
   "metadata": {},
   "source": [
    "<img src=\"data:image/png;base64,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\" width=\"400\" height=\"300\"/>  "
   ]
  },
  {
   "cell_type": "markdown",
   "id": "2f7de6f2",
   "metadata": {},
   "source": [
    "계산 그래프는 계산과정을 노드와 화살표로 표현한다. 노드는 원으로 표기하고 원 안에 연산 내용을 적는다.   \n",
    "계산결과를 화살표 위에 적어 각 노드의 계산 결과가 왼쪽에서 오른쪽으로 전해지게 한다. "
   ]
  },
  {
   "cell_type": "markdown",
   "id": "829e0c1a",
   "metadata": {},
   "source": [
    "<img src=\"data:image/png;base64,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\" width=\"400\" height=\"300\"/>  "
   ]
  },
  {
   "cell_type": "markdown",
   "id": "439cb59a",
   "metadata": {},
   "source": [
    "####  계산 그래프의 문제풀이 흐름\n",
    "* 계산 그래프를 구성 \n",
    "* 그래프에서 계산을 왼쪽에서 오른쪽으로 진행, 순전파 forward propagation 이라고 한다.순전파는 계산 그래프의 출발점 부터 종착점으로 전파"
   ]
  },
  {
   "cell_type": "markdown",
   "id": "49633b24",
   "metadata": {},
   "source": [
    "## 국소적 계산 \n",
    "\n",
    "계산 그래프의 특징을 국소적(자신과 직접 관계된 작은 범위) 계산을 전파함으로써 최종결과를 얻는다는 점이다.   \n",
    "국소적 계산은 결국 전체에서 어떤 일이 벌어지든 상관없이 자신과 관계된 정보만으로 결과를 출력할 수 있다는 것 "
   ]
  },
  {
   "cell_type": "markdown",
   "id": "ff972a24",
   "metadata": {},
   "source": [
    "<img src=\"data:image/jpeg;base64,/9j/4AAQSkZJRgABAQAAAQABAAD/2wCEAAoHCBYWFBgVFhYYFhUYGhkaGhkaGh8YHBgaGRgcGh4ZHBwdJi4lHB4rIxwcJkYmKzAxNzU2HCQ7QDs0Py41NTEBDAwMBgYGEAYGEDEdFh0xMTExMTExMTExMTExMTExMTExMTExMTExMTExMTExMTExMTExMTExMTExMTExMTExMf/AABEIAJkBSgMBIgACEQEDEQH/xAAbAAEAAgMBAQAAAAAAAAAAAAAAAgQBAwUGB//EADwQAAICAAQEAwUHAgUEAwAAAAECABEDEiExBAVBUSJhkRMycYGhBkKxwdHh8BViFCNSgqJDc8LxJDNy/8QAFAEBAAAAAAAAAAAAAAAAAAAAAP/EABQRAQAAAAAAAAAAAAAAAAAAAAD/2gAMAwEAAhEDEQA/APs0TEjnHcesDzuNzzEDhQqlXxcgoNeGq8SmAcxFglgxYXlqiPFVzdgc1xGxMJcoOHito4Cr4fZYr0VLs33U1rqQQJ1n4ZGu1BJZWJGhJRgykkamio9JE8Lhhg2VVKtmBFL4irLZrfRm37wKHM+bnDdl8IUIxDMQCcSsygKSCy0CCw0sgdGqhj/aBl4gYVgWy+H2bligCh67nMy1pses9HihWUq1EMCCL3BFEaSpi8rwixchtWVyPaOFLoVKsVzZdMi9OkCPMuNOGQAxXb/oYmKCWagAUIAN6V5iUeE5njscLOqqGRWcFcpByNnNOwZacKAMpsG7N2vaxUVgA1EAq2/VWDA6diBK/FcvwsUhnBLAZbV2XQm68JFwN3A4pbDRzVsisa2sqCa8pZmnCVVUKtBVAUC9gBQEnnHcesCcREBERAREQEREBERAREQEREBERAREQEREBERAREQEREBERAREQEREChzI6KOhJlR8IAbgm9K6jvLnMQPDe1n8pTNLRBsg35ekDHDkhl6aiUuN4rJ/czbDeyTXTU69JfTEt10A8Q+dmcvi8F8yunvLR70R5HcQMLxGIrqmImXMAQDWxNXoT16GWuacxTBwg+I1KoNDqTeyjqZWw8F2f2mKbbSh2rYADYXrLXG8GmIiB0VwM1ZhdWenaByH+1PCgmnYj/ttr9J2uX8UrqHRrVlYg7fdP1BH0nh+I+ymIz4rJSorOcNTu61mAWtt8uvaeq+zvCNhYSo1Vkur1V2Ul1PSr8+pga+b83XAGozMRdE5QBrRY0TqQQAASaPY1o5Rz0Yz+zZMjhCxGbNVEDKdBrrddJQ+0XLsVsbOiOwKoMylbSi9lVJBL0Rr0zNN32Z5S6McR1yaFcNLsqGILOx6saHp00AD3nDG0W+02BgZq4T3F+E2lQYEomuyPMfX95INe0CUREBERAREQEREBERAREQEREBERAREQEREBERAREQEREBERA0cRly+Pb+dpVvB8/8AlNfPMcImchmC2aRWdjsKCqCSfgJ55sIs2JhO3E5MRfaHFLLhrhAkAYKMuVlIAvY6HVrMD1HD+yzeH3ul3+cg5wbPfyuvpOZy3FdmIbDbDCPlQs6sXUV4/CTlB10bXTWpvxcMkLkIzXVEEg6feI93ahAt3g+f/KbsU4eVbrL92r/KcXCxyWKMhRwLIP5dx5y5pQv/AEtVmhmvSzRoedQN94PY/Wb+GOHZy711vb5zkY4ZDbAlddQpBFEV1o2Demuh00m7h2B1BsFWIP8AtMC2Tg+f1gHB8/rKarfXLpoSLF+YEliUWIXoAT3rbNXQQOylUK26TGYjcfMa/TeQ4T3F+E3wIqwO0wy35HvBUH499jMajz+hgLI318x+kkDe0wGHwPn/ADWMvXY/zfvAnE0lyCAQTfUCx8+0mT0Av8BAnE15iNxp3H5zOYXV6wJxEQEREBERAREQEREBERAREQEREBERAREQEREChzJdAegv6zzWLwDHDTAcLxSMx9q2OVvKDnBCKmVyDQAoVQnrOJxwo2snpOfh85RmZBlLqLZQ2oB7ioFXl/ClcRmzu+dlOViCqBRWVAAMq9dbN9ZsVip3IIl/B42yAVq+oMi3Hi9FseZgUOJdnUgkX91iotf/AMkbfHzm10IRN6o7/GWv6h/YPX9psfjRlBAsnp2qBQGMwFBvD1FAgjtqDp8JjhcIlnI1LZj8LWq003/GXP6h/YPX9pPB40G7FaE6a7C4FHONLUEgEA9QDv8AGDjNVXptLR5h/aPX9pEczGbLQzVdZta712gXuHUhFGxqSo+R/nf9plHsAjYycDXm7g/j+8yHB6/r6TAOtaVQ669enaSIveBkiQy9jX1EZO1j+dtpE2DuCvw1v8O0CWGW1zAD4G4Tr8T/AD0qK7n00A+c4nB8+VzXsyjBCzlyVXDIUNlZivn6a1A7xE15aAA1Irf66+s4n9eYAFsFgSuIxFm0KNhKqsGVTbe0GgBO296WuV829sxXIVIQMbvRvaYmGynSgQ2GdzZ100gdOj3+kxZG/rOQ3OwMYYRQrRcM7MoUBFRrFbinG9VRmzhObriMq5SM3tNDdrkZcpYV4QysGBNbqNzA68TWV7H11EkpsQJREQEREBERAREQEREBERAREQEREBERA53NhagXXva9tN4Xg8yoTRYAZmqibomt6FjbabeOwSwFa10+MrL7ZQAo0vWxelHb51AYmX2gCgAAgad7nPxOJRSAzAEgkDyFA/iJ0cDh2zAkVrZJlfG4Bjoy5h/NRA52HjB8UZbpVPcAm+3zmzm3EumGrIobU5r+6vi8VDzr1lzC5eV0VKljE4Vsq6WdbHbWB4ZOZ4w1LmzvQFX5A3Q8p6XkvFM6AsuuV/FpRIDCbW5IpLE4erCthpvqOx138hLvCcCwGWsqhSB6UIFXF4R8RWRH9m1e/lD5fkd72kOE5Sqr7dwH4gBVOJqCwACmlulvXadFQ6rlC/P4yBw8QqFo120gX+E9xfhN81YKFUA6gSWU9z9P0gYrxXpsBtruevb95skMnmfWvwjIPj8dfxgSJmsOGHhINVsfnR7SWQdh6SQECAIOnqD+kpYPKcNXV1DAi9MzMDY7MSPSX2UHcXIlO2h/nSBx+H+zyquX22Ow9i2CCzhiFYKCwsUH8I1qvKXuD4IYZJzMxIVdQi0FzEAZFXTxHQ3+MtX3B/GZJPQesCh/S8PMjAEHDz1WubOQWzE2WJIu7skkneS4XgMhUnEd8qlVzhCQDX3lUMfdHXWtZdDj4Hsd5gv21Pb9e0BmvbX8P3+UkBQkAlbb/Qytx+G7plRgpJGayQSn3grLqpO2YaizVGiAuzM8phcA4weHw34f2gwcD2bYYyZc7IqqyliB4QrKSNR7TSxch/R8XKFbDzurM2Ji2n/ycMspODqcxtQq0wC+Aa1UD10TncowSqtaezVnZkw/D4FIAI8JI1YM+h+9OjAREQEREBERAREQEREBERAREQEREBERAREQEREBETmcu49sR3VkClMt02ei1+BiAFDqACVBasw11Fh04iICIiAiIgIiICIiBiZiICRIuSiBpOJl97qaB/XtJZuw+ewjE2rvQ+RNGVuY8U2GmZUZzYFLl0s7nMy6fCBaDdDofx+E5WJzlf8AErw4KblWJcBg5TOqKu7HLqTpWZauzl6Oa1sgqaujVqd9aJFjyJkeIwVcFWBIII2IIDAqaI1GhMDlY3NMVXZQqMAwTMM2XDZ8VMNAzHR2KuXKrWXKFJ8StMYfOMQswKpWGyK+p8efHfCtf9NBc1HNZJWxWY3xy/B8Q9mKYsWFGiWfOWrYMW8VjW9d4Xl+CCpGGLXUaHcMXBP+ohiWs34iTubgXmNTGY9j9P1kMN7N0RQ2Io6/+pTHGv7c4Xszkq/aa5SaBybe91vaupNgBbxcdVVnZgqqCzMTQUAWSSdgBOY3OqwGxihBGIqKhJzEu6opYKCQTmBygEjaidJ1MRRdEWCDYqwdtx85SPK8HUBCqmyVXMiliyMHpa8alFphqutbwKv9bb/LPs1Ic0QHOYViFHIQoGIQC2zBaut9Ja5ZzBsQ02GEORMRafPa4magdBTDKbAsaiiZjC5TgqwZQ6sABYxMUXTs/iGan8TuSWu8xu5s4TgsPBB9mjCwq/echVvKozE5VFmlFAWaGsDoTk8+5sMBAQAzsaVT5bsfIfmJ0WxAFLE0ALJOlAC7M+U/a3nTYmISpIvRR1VB+BP69oHreE+15/6mH80P/i36zs8JzzAfbECns/hPw10Pyny/l3HYCplfMrAam8wY0br6aSknNm6hSPmNB3OwMD7iDMz5t9k+JxMXFVcJ2VAbcdAookEbG7A+c+kwEREDz/HcwxBiOEDZP8hUaqVsQY1Yq5spoFWRb1916HhNxPMG9sAuIXXOFKkpuSh8JUA5QCw1uyved7EQEUQCLBoi9QbB+RAPyhkBqwDRsX0Pf4wPO8JxuKcXCVnzBnAOi0SMHHZguUf/AF2EIzeLQ35y+0HG4yLithMaRGuwFAcoWGVspJoAsbvVlGmtegbDBIJAJBsEi6NEWOxokfMzGJhKwKsAQdCCLBBFEEHygcpuKxvb1lOWiMmlFM4BxM9+9t4a6nXqOwT5XI5Bd0LqrrWu19psgQzHsfp+spcBwKYS5UD5aApnZ6q/9bHU3qdz1nQiBBT0qpOQK3/NphX1rqNx+cDZEgGG1iTgIiICIiAic7+r4Pi8R0Ne4/i1y+DT/M108NySczwiyqHssAR4WrW6BaqVjR8JIOm0C/ERAREQIYm2v8+HnIYbNQzDXy/m8kNTfQbefnNkDWQT5D6n9psiICImtj07/QQILZJOlDQefc/zz7yefyN9v32k5mBADqd/wk4iAiIgasbCV1KsLVgQR3BnkOb/AGCw8Q5sN2w28/ENNvMfWe0iB8nX7L8Rwr52wv8AEKBVoc1ag3lOo2+pnn+YscTGJGHkJ0y1R66n+bCfeJWxODw2YMyKzDZioJHzgcr7J8mHDYABHjemfv5L8vzM70RAREQEREBObzjmi8Ph52BNsFVRQLMdhZoDQE69p0pxPtVyg8TgFFIDqQ63sSARR+IJEDiYf29wwxzYb5SRRGW1BUWND4jd9tCJ7LDcMAQbBAIPcHUGfKcD7G8WzBWQIL1YsKA76HX4CfVMHBCoqDZQFF9lFD8IFXjOGJxcBwoJR3ttLVWw3FXvRbLoOw7Tg4HLHAw82ASqjD/xCkowx3CYqs9E05Dsjlmotod1qeryDsPSMg7D0gVeWYbLgorAhggBBOYjT3S3Uja71qbygJsjbT16fDbT9JI4anSh6SKqF0AAH0Bga04nDZzhhlLLdr1FZdx095T52JuXcj0/SaE4LDXEbFAp2FM1nxKNQG1oga1fu5mqszXuoE2R8L/H+doG2JDIOw9IyDsPSBOJDIOw9IyDsPSBxsPleJm9ozq2IHzqxVtvGoSs1KoRyBXXxHMbvGByZl0LqVbEXGfwkMcRXznKc3hUsE0N0FIs5rHayDsPSMg7D0gTiQyDsPSMg7D0gTmtjenr8JnIOw9JlVA2FQMzMRAREQIsa1mFHfc/ypjc+Q+p/abICIiAiIgIiICIiAiIgIiICIiAiIgIlDjeYJhFFY+8df7FA1duyg5VzbAsJX4znSJ7QUzNh5rGwOTBGNv2ogfHpA68TkcRzpFYoBbDFGERY0Jwlxb66ZWXfvOvAREQERECGQdh6ScRAREQEREDWHF1Yurq9a712hcQGwCCRoQDdHse0q4+C3tRiKAcuG61dEsWRlF9B4TrJ4WCRiO+lMEr/aGu/UQLcREBERAREQEg56Dc/TzmSakUHU7n6DtAkBWklEQEREBERAREQEREBERAREQEREBERA5/E8vzsGzupBBAUJWisutqSRTNoSRrNWLyTDKvq2Z1KlsxqzhjCzBAQgOUAaKJ1YgcvH5PhsQRasHzkgk5jbGmu7Hjau2gGgqdJlB3FyUQIZB2HpGQdh6ScQIZB2HpGQdh6ScQIZB2HpGQdh6ScQIZB2HpGQdh6ScQIZB2HpGQdh6ScQIZB2HpGQdh6ScQIZB2HpGQdh6ScQIZB2HpGQdh6ScQIZB2HpGQdh6ScQIZB2HpJxEBERAREQEREBERAREQEREBERA//9k=\" width=\"500\" height=\"300\"/>  "
   ]
  },
  {
   "cell_type": "markdown",
   "id": "b05a8600",
   "metadata": {},
   "source": [
    "각 노드에서의 계산은 국소적 계산, 각 노드는 자신과 관련한 계산외에는 신경 쓰지 않는다. "
   ]
  },
  {
   "cell_type": "markdown",
   "id": "08770a8c",
   "metadata": {},
   "source": [
    "## 연쇄법칙, 함성함수의 미분에 대한 성질\n",
    "\n",
    "#### 합성함수란 여러 함수로 구성된 함수 \n",
    "합성함수의 미분은 합성 함수를 구성하는 각 함수의 미분의 곱으로 나타낼 수 있다.\n",
    "\n",
    "* z = t**2 ,  t = x +y   \n",
    "* x에 대한 z의 미분은 t에 대한 z의 미분과 x에 대한 t의 미분의 곱 \n",
    "\n",
    "<img src=\"https://encrypted-tbn0.gstatic.com/images?q=tbn:ANd9GcQ8bQ1RnXNleHi9b0U3A1ZuKqV5BAH_IVOhNw&usqp=CAU\" width=\"200\" height=\"300\"/>  "
   ]
  },
  {
   "cell_type": "markdown",
   "id": "c66a2a0e",
   "metadata": {},
   "source": [
    "계산 그래프의 역전파는 오른쪽에서 왼쪽으로 신호를 전파한다. 역전파의 계산 절파에서는 노드로 들어온 입력 신호에 그 노드의 국소적 미분을 곱한 후 다음 노드로 전달  \n",
    "<img src=\"https://blog.kakaocdn.net/dn/BLeIk/btqInOkpSrO/ZriGfBidyOqeudtrwgWwnk/img.png\" width=\"300\" height=\"300\"/> \n",
    " "
   ]
  },
  {
   "cell_type": "markdown",
   "id": "e41a97ca",
   "metadata": {},
   "source": [
    "## 역전파"
   ]
  },
  {
   "cell_type": "markdown",
   "id": "9536513f",
   "metadata": {},
   "source": [
    "### 덧셈노드의 역전파 \n",
    "역전파의 입력 값을 그래도 흘려보낸다.   \n"
   ]
  },
  {
   "cell_type": "markdown",
   "id": "c320c7a6",
   "metadata": {},
   "source": [
    "### 곱셈 노드의 역전파 \n",
    "곱셈노드 역전파는 상류의 값에 순전파 때의 입력 신호들을 '서로 바꾼값'을 곱해서 하류로 보낸다.   \n",
    "순전파 때 x였다면 역전파에서는 y, 순전파 때 y였다면 x로 역전파에서는 x로 바꾼다는 의미이다. "
   ]
  },
  {
   "cell_type": "markdown",
   "id": "fef821d2",
   "metadata": {},
   "source": [
    "<img src=\"https://blog.kakaocdn.net/dn/FabRv/btqAKjcZ0SZ/SRGGRMzp2gGD6nlfjKTPVK/img.png\" width=\"300\" height=\"300\"/> \n",
    " "
   ]
  },
  {
   "cell_type": "code",
   "execution_count": 1,
   "id": "2b7f0fb2",
   "metadata": {},
   "outputs": [],
   "source": [
    "# 곱셈 계층 \n",
    "\n",
    "class MulLayer :\n",
    "    def __init__ (self) :\n",
    "        self.x = None\n",
    "        self.y = None\n",
    "    \n",
    "    def forward(self, x, y) :\n",
    "        self.x = x \n",
    "        self.y = y\n",
    "        out = x * y\n",
    "    \n",
    "        return out\n",
    "    \n",
    "    # 상류에서 넘어온 미분(dout)에 순전파 때의 값을 서로 바꿔 곱한 후 하류로 보낸다.\n",
    "    def backward(self , dout) :\n",
    "        dx = dout * self.y # x와 y를 바꾼다. \n",
    "        dy = dout * self.x \n",
    "        \n",
    "        return dx, dy"
   ]
  },
  {
   "cell_type": "code",
   "execution_count": 2,
   "id": "a067721c",
   "metadata": {},
   "outputs": [
    {
     "name": "stdout",
     "output_type": "stream",
     "text": [
      "220.00000000000003\n"
     ]
    }
   ],
   "source": [
    "apple = 100\n",
    "apple_num = 2\n",
    "tax = 1.1 \n",
    "\n",
    "# 계층들 \n",
    "mul_apple_layer = MulLayer()\n",
    "mul_tax_layer = MulLayer()\n",
    "\n",
    "#순전파 \n",
    "apple_price = mul_apple_layer.forward(apple,  apple_num)\n",
    "price = mul_tax_layer.forward(apple_price, tax)\n",
    "\n",
    "print(price)"
   ]
  },
  {
   "cell_type": "code",
   "execution_count": 3,
   "id": "b1638947",
   "metadata": {},
   "outputs": [
    {
     "name": "stdout",
     "output_type": "stream",
     "text": [
      "2.2 110.00000000000001 200\n"
     ]
    }
   ],
   "source": [
    "# 역전파 \n",
    "\n",
    "dprice = 1\n",
    "dapple_price , dtax = mul_tax_layer.backward(dprice)\n",
    "dapple , dapple_num = mul_apple_layer.backward(dapple_price)\n",
    "\n",
    "print(dapple , dapple_num ,dtax)"
   ]
  },
  {
   "cell_type": "code",
   "execution_count": 4,
   "id": "76a8fb03",
   "metadata": {},
   "outputs": [],
   "source": [
    "# 덧셈계층 \n",
    "class AddLayer :\n",
    "    def __init__ (self) :\n",
    "        pass\n",
    "    \n",
    "    def forward(self ,x ,y ) :\n",
    "        out = x + y\n",
    "        return out\n",
    "    \n",
    "    def backward(self , dout) :\n",
    "        dx = dout * 1\n",
    "        dy = dout * 1\n",
    "        return dx , dy"
   ]
  },
  {
   "cell_type": "code",
   "execution_count": 5,
   "id": "58615cbf",
   "metadata": {},
   "outputs": [],
   "source": [
    "# 사과 2개와 귤 3개 구입 \n",
    "\n",
    "apple = 100\n",
    "apple_num = 2 \n",
    "orange = 150\n",
    "orange_num = 3\n",
    "tax = 1.1\n",
    "\n",
    "\n",
    "# 계층들 \n",
    "mul_apple_layer = MulLayer()\n",
    "mul_orange_layer = MulLayer()\n",
    "add_apple_orange_layer = AddLayer()\n",
    "mul_tax_layer = MulLayer()\n",
    "\n",
    "# 순전파 \n",
    "apple_price = mul_apple_layer.forward(apple, apple_num)  # (1)\n",
    "orange_price = mul_orange_layer.forward(orange, orange_num)  # (2)\n",
    "all_price = add_apple_orange_layer.forward(apple_price, orange_price)  # (3)\n",
    "price = mul_tax_layer.forward(all_price, tax)  # (4)\n",
    "\n",
    "# 역전파\n",
    "dprice = 1\n",
    "dall_price, dtax = mul_tax_layer.backward(dprice)  # (4)\n",
    "dapple_price, dorange_price = add_apple_orange_layer.backward(dall_price)  # (3)\n",
    "dorange, dorange_num = mul_orange_layer.backward(dorange_price)  # (2)\n",
    "dapple, dapple_num = mul_apple_layer.backward(dapple_price)  # (1)"
   ]
  },
  {
   "cell_type": "code",
   "execution_count": 6,
   "id": "f6ce5d56",
   "metadata": {},
   "outputs": [
    {
     "name": "stdout",
     "output_type": "stream",
     "text": [
      "price: 715\n",
      "dApple: 2.2\n",
      "dApple_num: 110\n",
      "dOrange: 3.3000000000000003\n",
      "dOrange_num: 165\n",
      "dTax: 650\n"
     ]
    }
   ],
   "source": [
    "print(\"price:\", int(price))\n",
    "print(\"dApple:\", dapple)\n",
    "print(\"dApple_num:\", int(dapple_num))\n",
    "print(\"dOrange:\", dorange)\n",
    "print(\"dOrange_num:\", int(dorange_num))\n",
    "print(\"dTax:\", dtax)"
   ]
  },
  {
   "cell_type": "markdown",
   "id": "3e95997a",
   "metadata": {},
   "source": [
    "## 활성화 함수 계층 구현"
   ]
  },
  {
   "cell_type": "markdown",
   "id": "da97bd99",
   "metadata": {},
   "source": [
    "### ReLu 계층 \n",
    "\n",
    "순전파 때의 일력인 x가 0보다 크면 역전파는 상류의 값을 그대로 하류로 흘린다.  x가 0이하면 역전파는 하류로 신호를 보내지 않는다. "
   ]
  },
  {
   "cell_type": "code",
   "execution_count": 7,
   "id": "75e10535",
   "metadata": {},
   "outputs": [],
   "source": [
    "class Relu :\n",
    "    def __init__ (self) :\n",
    "        self.mask = None\n",
    "        \n",
    "    def forward(self , x) :\n",
    "        self.mask = (x <= 0)\n",
    "        out = x.copy()\n",
    "        out[self.mask] = 0\n",
    "        \n",
    "        return out\n",
    "    \n",
    "    def backward (self , dout) :\n",
    "        dout[self.mask] = 0 \n",
    "        dx = dout \n",
    "        \n",
    "        return dx"
   ]
  },
  {
   "cell_type": "markdown",
   "id": "03a48b0a",
   "metadata": {},
   "source": [
    "Relu 클래스는 mask라는 인스턴스 변수를 갖는다. mask는 true / false로 구성된 넘파이 배열로,   \n",
    "순전파의 입력인 x의 원소 값이 0이하인 인덱스는 true, 그 외는 false로 유지한다. "
   ]
  },
  {
   "cell_type": "code",
   "execution_count": 9,
   "id": "5579ae19",
   "metadata": {},
   "outputs": [
    {
     "name": "stdout",
     "output_type": "stream",
     "text": [
      "[[ 1.  -0.5]\n",
      " [-2.   3. ]]\n"
     ]
    }
   ],
   "source": [
    "import numpy as np\n",
    "\n",
    "x = np.array([[1.0, -0.5],[-2.0 , 3.0]])\n",
    "print(x)"
   ]
  },
  {
   "cell_type": "code",
   "execution_count": 10,
   "id": "f81a59da",
   "metadata": {},
   "outputs": [
    {
     "name": "stdout",
     "output_type": "stream",
     "text": [
      "[[False  True]\n",
      " [ True False]]\n"
     ]
    }
   ],
   "source": [
    "mask = (x <= 0)\n",
    "print(mask)"
   ]
  },
  {
   "cell_type": "markdown",
   "id": "a7a2a60e",
   "metadata": {},
   "source": [
    "## Sigmoid 계층 \n",
    "\n",
    "<img src=\"https://blog.kakaocdn.net/dn/S4aIY/btqAK4Gy0by/qiSZM4buvGUgxbFCurlO40/img.png\" width=\"300\" height=\"300\"/> \n",
    "\n",
    "\n",
    "**순전파의 출력 y만으로 역전파를 계산할 수 있다.**"
   ]
  },
  {
   "cell_type": "code",
   "execution_count": 11,
   "id": "8517c56c",
   "metadata": {},
   "outputs": [],
   "source": [
    "class Sigmoid :\n",
    "    def __init__ (self) :\n",
    "        self.out = None\n",
    "        \n",
    "    def forward (self,  x) :\n",
    "        out = 1 / (1 + np.exp (-x))\n",
    "        self.out = out\n",
    "        \n",
    "        return out\n",
    "    \n",
    "    def backward(self , dout) :\n",
    "        dx = dout * (1.0 - self.out) * self.out \n",
    "        \n",
    "        return dx"
   ]
  }
 ],
 "metadata": {
  "kernelspec": {
   "display_name": "Python 3 (ipykernel)",
   "language": "python",
   "name": "python3"
  },
  "language_info": {
   "codemirror_mode": {
    "name": "ipython",
    "version": 3
   },
   "file_extension": ".py",
   "mimetype": "text/x-python",
   "name": "python",
   "nbconvert_exporter": "python",
   "pygments_lexer": "ipython3",
   "version": "3.9.7"
  }
 },
 "nbformat": 4,
 "nbformat_minor": 5
}
