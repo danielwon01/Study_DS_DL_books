{
 "cells": [
  {
   "cell_type": "markdown",
   "id": "8da578d4",
   "metadata": {},
   "source": [
    "## 매개변수 갱신 \n",
    "\n",
    "신경망 학습의 목적은 손실 함수의 값을 가능한 낮추는 매개변수를 찾는 것이다. 이는 곧 매개변수의 최적값을 찾는 문제이며, 이러한 문제를 푸는 것을 최적화라고 한다. \n",
    "\n"
   ]
  },
  {
   "cell_type": "markdown",
   "id": "34e65a18",
   "metadata": {},
   "source": [
    "## 확률적 경사 하강법 (SGD) \n",
    "\n",
    "<img src=\"https://t1.daumcdn.net/cfile/tistory/9978B5465AA8029F22\" width=\"200\" height=\"300\"/> \n",
    "\n",
    "W는 갱신할 가중치 매개변수이고 미분값은 W에 대한 손실 함수의 기울기 이다. n는 학습률의 의미한다. <-는 우변의 값으로 좌변의 값을 갱신한다는 뜻이다. \n",
    "\n",
    "\n",
    "\n"
   ]
  },
  {
   "cell_type": "code",
   "execution_count": 1,
   "id": "5d14e251",
   "metadata": {},
   "outputs": [],
   "source": [
    "class SGD :\n",
    "    def __init__ (self, lr = 0.01)  :\n",
    "        self.lr = lr\n",
    "        \n",
    "    def update (self, params, grads) :\n",
    "        for k in params.keys() :\n",
    "            params[k] -= self.lr * grads[k ]"
   ]
  },
  {
   "cell_type": "markdown",
   "id": "b2e6ecf6",
   "metadata": {},
   "source": [
    "### SGD 의 단점 \n",
    "\n",
    "SGD는 단순하고 구현도 쉽지만, 문제에 따라서는 비효율적일 때가 있다. SGD는 비등방성(anisotropy)함수이기 때문이다. 방향에 따라 성질, 즉 기울기가 달라진다는 의미이다. SGD가 지그재그로 탐색하는 근본 원인은 기울어진 방향이 본래의 최솟값과 다른 방향을 가리켜서라는 점도 고려해봐야 한다. "
   ]
  },
  {
   "cell_type": "markdown",
   "id": "4b2ce591",
   "metadata": {},
   "source": [
    "## 모멘텀(Momentum) \n",
    "\n",
    "<img src=\"https://blog.kakaocdn.net/dn/bmYcIj/btqJZopKIwQ/BTg82XwDLnVH2rsxZBnXEK/img.png\" width=\"200\" height=\"300\"/> \n",
    "\n",
    "다른 변수들은 SGD와 동일하고 v라는 변수는 물리에서 말하는 속도에 해당한다. 기울기 방향으로 힘을 받아 물체가 가속된다는 물리법칙을 나타낸다.  \n",
    "av항은 물체가 아무런 힘을 받지 않은 때 서서히 하강 시키는 역할을 하는 변수이다. 물리에서의 지면 마찰이나 공기 저항에 해당된다. "
   ]
  },
  {
   "cell_type": "code",
   "execution_count": 2,
   "id": "97f9d441",
   "metadata": {},
   "outputs": [],
   "source": [
    "class Momentum :\n",
    "    def __init__ (self, lr = 0.01, m = 0.9) :\n",
    "        self.lr = lr\n",
    "        self.m = m\n",
    "        self.v = None\n",
    "        \n",
    "    def updare(self, params, grads) :\n",
    "        if self.v is None :\n",
    "            self.v = {}\n",
    "            for k , val in params.items() :\n",
    "                self.v[k] = np.zeros_like(val)\n",
    "                \n",
    "        for k in params.keys() :\n",
    "            self.v[k] = self.m * self.v[k] - self.lr * grads[k]\n",
    "            params[k] += self.v[k]"
   ]
  },
  {
   "cell_type": "markdown",
   "id": "1463aa8c",
   "metadata": {},
   "source": [
    "모멘텀는 지그재그 정도가 덜하다. 이는 x축의 힘은 아주 작지만 방향은 변하지 않아서 한 방향으로 일정하게 가속하기 때문이다. 거꾸로 y축은 힘은 크지만 위아래로 번갈아 힘을 받아 상충하게 되며 y축 방향의 속도는 안정적이지 않다. "
   ]
  },
  {
   "cell_type": "markdown",
   "id": "60c9514a",
   "metadata": {},
   "source": [
    "## AdaGrad \n",
    "\n",
    "신경망 학습에서는 학습률 값이 중요하다. 이 값이 너무 작으면 학습 시간이 너무 길어지고, 반대로 너무 크면 학습이 제대로 이루어지지 않는다. \n",
    "\n",
    "이 학습률을 정하는 효과적 기술로 **학습률 감소,learning rate decay**가 있다. 이는 학습을 진행하면서 학습률을 점차 줄여가는 방법이다. 처음에는 크게 학습하다가 조금씩 작게 학습한다는 의미로, 실제 신경망 학습에 자주 쓰인다. \n",
    "\n",
    "학습률을 서서히 낮추는 가장 간단한 방법은 매개변수'전체'의 학습률 값을 일괄적으로 낮추는 것이다. 이를 더욱 발전시킨 것이 **AdaGrad**이다. AdaGrad는 각각의 매매변수에 맞춤형 값을 만들어 준다. \n",
    "\n",
    "----- \n",
    "\n",
    "AdaGrad는 개별 매개변수에 적응적으로 학습률을 조정하면서 학습을 진행한다. \n",
    "<img src=\"https://blog.kakaocdn.net/dn/H8MY9/btqJ0owhSUL/j7keQZ0PVQfy7RMS9F9tyK/img.png\" width=\"200\" height=\"300\"/> \n",
    "마찬가지로 W는 갱신할 가중치 매개변수, 편미분 값은 W에 대한 손실함수의 기울기, n는 학습률을 의미한다. h라는 변수가 나오는데 h는 기존 기울기 값을 제곱하여 계속 더해준다. 그리고 매개변수를 갱신할 때 $ 1/\\sqrt{h}$ 을 곱해 학습률을 조정한다. 매개변수의 원소 중에서 많이 움직인 원소를 학습률이 낮아진다는 뜻인데, **학습률 감소가 매개변수의 원소마다 다르게 적용됨을 의미한다.** \n",
    "\n",
    "-------\n",
    "\n",
    "AdaGrad는 과거의 기울기를 제곱하여 계속 더해간다. 학습을 진행할 수록 갱신 강도가 약해진다. 실제로 무한히 계속 학습한다면 어느 순간 갱신량이 0이 되어 전혀 갱신되지 않게 된다. 이 문제를 개선한 기법으로 RMSProp이라는 방법이 존재한다. RMSProp은 과거의 모든 기울기를 균일하게 더해가는 것이 아니라, 먼 과거의 기울기를 서서히 잊고 새로운 기울기 정보를 크게 반영한다. 이를 **지수이동평균**이라 하여, 과거 기울기의 반영 규모를 기하급수적으로 감소 시킨다. "
   ]
  },
  {
   "cell_type": "code",
   "execution_count": 3,
   "id": "1736513b",
   "metadata": {},
   "outputs": [],
   "source": [
    "class AdaGrad :\n",
    "    def __init__(self, lr = 0.01) :\n",
    "        self.lr =lr \n",
    "        self.h = None\n",
    "        \n",
    "    def update (self, params, grads) :\n",
    "        if self.h in None :\n",
    "            self.h = {} \n",
    "            for k , v in params, items () :\n",
    "                self.h[k] = np.zeros_like(v)\n",
    "                \n",
    "        for k in params.keys () :\n",
    "            self.h[k] += grads[k] + grads[k]\n",
    "            params[k] -= self.lr * grads[k] / (np.sqrt(self.h[k]) + 1e-7)            "
   ]
  },
  {
   "cell_type": "markdown",
   "id": "7fe12c4f",
   "metadata": {},
   "source": [
    "마지막 줄에 le-7 값을 더해주는 것에 주의, 이 작은 값은 self.h[k]에 0이 담겨 있다 해도 0으로 나누는 사태를 막는다. 대부분의 딥러닝 프레임워크에서는 이값도 인수로 설정할 수 있다. \n",
    "\n",
    "----\n",
    "\n",
    "<img src=\"https://3.bp.blogspot.com/-1bnQACapxp8/WaUKGz2zy8I/AAAAAAAAAM8/9R5gIpRb0JQ7zMDWdI9f6yVCdbva-ICtgCLcBGAs/s400/adagrad.png\" width=\"400\" height=\"300\"/> \n",
    "\n",
    "y 축 방향은 기울기가 커서 처믕에는 크게 움직이지만, 그 큰 움직임에 비례해 갱신 정도도 큰 폭으로 작아지도록 조정된다. 그래서 y축 방향으로 갱신 강도가 빠르게 약해지고, 지그재그 움직임이 줄어든다. "
   ]
  },
  {
   "cell_type": "markdown",
   "id": "4330bc2e",
   "metadata": {},
   "source": [
    "## Adam \n",
    "\n",
    "모멘텀은 공기 그릇 바닥을 구르는 듯한 움직임을 보였다. AdaGrad는 매개변수의 원소마다 적응적으로 갱신 정도를 조정했다. 이 둘을 융합한 것이 Adam이다. \n",
    "하이퍼파라미터의 편향 보정이 진행된다는 점이 특징이다. "
   ]
  },
  {
   "cell_type": "code",
   "execution_count": 4,
   "id": "f5fc84ab",
   "metadata": {},
   "outputs": [],
   "source": [
    "class Adam:\n",
    "\n",
    "    \"\"\"Adam (http://arxiv.org/abs/1412.6980v8)\"\"\"\n",
    "\n",
    "    def __init__(self, lr=0.001, beta1=0.9, beta2=0.999):\n",
    "        self.lr = lr\n",
    "        self.beta1 = beta1\n",
    "        self.beta2 = beta2\n",
    "        self.iter = 0\n",
    "        self.m = None\n",
    "        self.v = None\n",
    "        \n",
    "    def update(self, params, grads):\n",
    "        if self.m is None:\n",
    "            self.m, self.v = {}, {}\n",
    "            for key, val in params.items():\n",
    "                self.m[key] = np.zeros_like(val)\n",
    "                self.v[key] = np.zeros_like(val)\n",
    "        \n",
    "        self.iter += 1\n",
    "        lr_t  = self.lr * np.sqrt(1.0 - self.beta2**self.iter) / (1.0 - self.beta1**self.iter)         \n",
    "        \n",
    "        for key in params.keys():\n",
    "            #self.m[key] = self.beta1*self.m[key] + (1-self.beta1)*grads[key]\n",
    "            #self.v[key] = self.beta2*self.v[key] + (1-self.beta2)*(grads[key]**2)\n",
    "            self.m[key] += (1 - self.beta1) * (grads[key] - self.m[key])\n",
    "            self.v[key] += (1 - self.beta2) * (grads[key]**2 - self.v[key])\n",
    "            \n",
    "            params[key] -= lr_t * self.m[key] / (np.sqrt(self.v[key]) + 1e-7)\n",
    "            \n",
    "            #unbias_m += (1 - self.beta1) * (grads[key] - self.m[key]) # correct bias\n",
    "            #unbisa_b += (1 - self.beta2) * (grads[key]*grads[key] - self.v[key]) # correct bias\n",
    "            #params[key] += self.lr * unbias_m / (np.sqrt(unbisa_b) + 1e-7)"
   ]
  },
  {
   "cell_type": "markdown",
   "id": "d2e280d4",
   "metadata": {},
   "source": [
    "<img src=\"https://blog.kakaocdn.net/dn/KZaLP/btqJ4FYkYOb/aaCOENlEHCLE0z2i4h8fj1/img.png\" width=\"400\" height=\"300\"/> \n",
    "\n",
    "4번째인 Adam의 갱신 과정도 그릇 바닥을 구르듯 움직인다. 모멘텀과 비슷한 패턴인데, 모멘텀 때보다 공의 좌우 흔들림이 적다. 이는 학습의 갱신 강도를 적응적으로 조정해서 얻는 혜택이다. Adam은 하이퍼파라미터를 3개 설정한다. 하나는 지금까지의 학습률, 나머지 두개는 일차 모텐텀요 계수 B1과 이차 모멘텀용 계수 B2이다. 논문에 따르면 기본 설정값은 B1은 0.9, B2는 0.999이며, 이 값이면 많은 경우에 좋은 결과를 얻을 수 있다. \n",
    "\n",
    "----- \n",
    "\n",
    "어떤 최적화 방법을 써야 하는지는 풀어야할 문제가 무엇이냐에 따라 달라진다. 또한 하이퍼파라미터를 어떻게 설정하느냐에 따라서도 결과가 바뀐다. "
   ]
  },
  {
   "cell_type": "markdown",
   "id": "73b22c17",
   "metadata": {},
   "source": [
    "## MNIST 데이터셋으로 갱신 방법 비교 "
   ]
  },
  {
   "cell_type": "code",
   "execution_count": 5,
   "id": "c64fcb9b",
   "metadata": {},
   "outputs": [
    {
     "name": "stdout",
     "output_type": "stream",
     "text": [
      "===========iteration:0===========\n",
      "SGD:2.3898330594362545\n",
      "Momentum:2.3580553988130166\n",
      "AdaGrad:2.1584773511313813\n",
      "Adam:2.2684391381181532\n",
      "===========iteration:100===========\n",
      "SGD:1.6924465840978398\n",
      "Momentum:0.26253174587315653\n",
      "AdaGrad:0.10397582331566842\n",
      "Adam:0.1915771882347501\n",
      "===========iteration:200===========\n",
      "SGD:0.8099613343593481\n",
      "Momentum:0.3052705328901467\n",
      "AdaGrad:0.13048785531836193\n",
      "Adam:0.1885320758162487\n",
      "===========iteration:300===========\n",
      "SGD:0.5559004972254566\n",
      "Momentum:0.32572571561828034\n",
      "AdaGrad:0.10602754945833731\n",
      "Adam:0.19094279176529183\n",
      "===========iteration:400===========\n",
      "SGD:0.47430738446432114\n",
      "Momentum:0.19494553878606435\n",
      "AdaGrad:0.09631770171748993\n",
      "Adam:0.12927547164798234\n",
      "===========iteration:500===========\n",
      "SGD:0.554798636684817\n",
      "Momentum:0.20158395396643136\n",
      "AdaGrad:0.08482299826253961\n",
      "Adam:0.15566141358047722\n",
      "===========iteration:600===========\n",
      "SGD:0.3169183343059772\n",
      "Momentum:0.1620848905353739\n",
      "AdaGrad:0.04717282572509143\n",
      "Adam:0.08256434486509315\n",
      "===========iteration:700===========\n",
      "SGD:0.35591488062654286\n",
      "Momentum:0.19895953903653812\n",
      "AdaGrad:0.09187359712128837\n",
      "Adam:0.13774087989123182\n",
      "===========iteration:800===========\n",
      "SGD:0.26470174295058363\n",
      "Momentum:0.132608116300323\n",
      "AdaGrad:0.0714138840472375\n",
      "Adam:0.10091980849618068\n",
      "===========iteration:900===========\n",
      "SGD:0.3770897277609975\n",
      "Momentum:0.16513391873500932\n",
      "AdaGrad:0.06664517489449145\n",
      "Adam:0.10200722378707154\n",
      "===========iteration:1000===========\n",
      "SGD:0.23307625149309297\n",
      "Momentum:0.13268787375402588\n",
      "AdaGrad:0.040382576611583496\n",
      "Adam:0.07878456061706558\n",
      "===========iteration:1100===========\n",
      "SGD:0.16626554135347454\n",
      "Momentum:0.018786253328209657\n",
      "AdaGrad:0.015235950131720273\n",
      "Adam:0.018201757719634337\n",
      "===========iteration:1200===========\n",
      "SGD:0.18500486519602274\n",
      "Momentum:0.07376657164031779\n",
      "AdaGrad:0.030197239888516816\n",
      "Adam:0.0411075509558595\n",
      "===========iteration:1300===========\n",
      "SGD:0.34127111493713513\n",
      "Momentum:0.13053605935944237\n",
      "AdaGrad:0.053829778207551957\n",
      "Adam:0.053794574879649296\n",
      "===========iteration:1400===========\n",
      "SGD:0.17423358862497873\n",
      "Momentum:0.027569210405333174\n",
      "AdaGrad:0.011826615770060729\n",
      "Adam:0.015412255325458889\n",
      "===========iteration:1500===========\n",
      "SGD:0.19583886920424043\n",
      "Momentum:0.03610158511631948\n",
      "AdaGrad:0.017428902015865638\n",
      "Adam:0.028412562319684673\n",
      "===========iteration:1600===========\n",
      "SGD:0.26367182059706273\n",
      "Momentum:0.07648243045502594\n",
      "AdaGrad:0.03164017147477243\n",
      "Adam:0.04772135796743053\n",
      "===========iteration:1700===========\n",
      "SGD:0.14496044212727907\n",
      "Momentum:0.0345484982000711\n",
      "AdaGrad:0.015795664915780668\n",
      "Adam:0.04789640048111663\n",
      "===========iteration:1800===========\n",
      "SGD:0.24004776001082445\n",
      "Momentum:0.06982690917036702\n",
      "AdaGrad:0.021713426690743023\n",
      "Adam:0.04264789742611068\n",
      "===========iteration:1900===========\n",
      "SGD:0.1869779193355726\n",
      "Momentum:0.06561337632766756\n",
      "AdaGrad:0.017686870593573156\n",
      "Adam:0.015083963564808884\n"
     ]
    },
    {
     "data": {
      "image/png": "[encoded data removed]",
      "text/plain": [
       "<Figure size 432x288 with 1 Axes>"
      ]
     },
     "metadata": {
      "needs_background": "light"
     },
     "output_type": "display_data"
    }
   ],
   "source": [
    "import os\n",
    "import sys\n",
    "sys.path.append(os.pardir)  # 부모 디렉터리의 파일을 가져올 수 있도록 설정\n",
    "import matplotlib.pyplot as plt\n",
    "from dataset.mnist import load_mnist\n",
    "from common.util import smooth_curve\n",
    "from common.multi_layer_net import MultiLayerNet\n",
    "from common.optimizer import *\n",
    "\n",
    "\n",
    "# 0. MNIST 데이터 읽기==========\n",
    "(x_train, t_train), (x_test, t_test) = load_mnist(normalize=True)\n",
    "\n",
    "train_size = x_train.shape[0]\n",
    "batch_size = 128\n",
    "max_iterations = 2000\n",
    "\n",
    "\n",
    "# 1. 실험용 설정==========\n",
    "optimizers = {}\n",
    "optimizers['SGD'] = SGD()\n",
    "optimizers['Momentum'] = Momentum()\n",
    "optimizers['AdaGrad'] = AdaGrad()\n",
    "optimizers['Adam'] = Adam()\n",
    "#optimizers['RMSprop'] = RMSprop()\n",
    "\n",
    "networks = {}\n",
    "train_loss = {}\n",
    "for key in optimizers.keys():\n",
    "    networks[key] = MultiLayerNet(\n",
    "        input_size=784, hidden_size_list=[100, 100, 100, 100],\n",
    "        output_size=10)\n",
    "    train_loss[key] = []    \n",
    "\n",
    "\n",
    "# 2. 훈련 시작==========\n",
    "for i in range(max_iterations):\n",
    "    batch_mask = np.random.choice(train_size, batch_size)\n",
    "    x_batch = x_train[batch_mask]\n",
    "    t_batch = t_train[batch_mask]\n",
    "    \n",
    "    for key in optimizers.keys():\n",
    "        grads = networks[key].gradient(x_batch, t_batch)\n",
    "        optimizers[key].update(networks[key].params, grads)\n",
    "    \n",
    "        loss = networks[key].loss(x_batch, t_batch)\n",
    "        train_loss[key].append(loss)\n",
    "    \n",
    "    if i % 100 == 0:\n",
    "        print( \"===========\" + \"iteration:\" + str(i) + \"===========\")\n",
    "        for key in optimizers.keys():\n",
    "            loss = networks[key].loss(x_batch, t_batch)\n",
    "            print(key + \":\" + str(loss))\n",
    "\n",
    "\n",
    "# 3. 그래프 그리기==========\n",
    "markers = {\"SGD\": \"o\", \"Momentum\": \"x\", \"AdaGrad\": \"s\", \"Adam\": \"D\"}\n",
    "x = np.arange(max_iterations)\n",
    "for key in optimizers.keys():\n",
    "    plt.plot(x, smooth_curve(train_loss[key]), marker=markers[key], markevery=100, label=key)\n",
    "plt.xlabel(\"iterations\")\n",
    "plt.ylabel(\"loss\")\n",
    "plt.ylim(0, 1)\n",
    "plt.legend()\n",
    "plt.show()"
   ]
  },
  {
   "cell_type": "markdown",
   "id": "ed81e17b",
   "metadata": {},
   "source": [
    "## 가중치의 초긱값\n",
    "\n",
    "신경망 학습에서 특히 중요한 것이 가중치의 초깃값이다. 가중치의 초깃값을 무엇으로 설정하느냐가 신경마 학습의 성패를 가르는 일이 실제로 자주 있다. \n",
    "\n",
    "------\n",
    "\n",
    "#### 초깃값을 0으로 할때 \n",
    "\n",
    "가중치 감소, Weight deca 기법. \n",
    "가중치 감소는 가중치 매개변수의 값이 작아지도록 학습하는 방법이다. 가중치 값을 작게하여 오버피팅이 일어나지 않게 하는 것이다.  가중치를 작게 만들고 싶으면 초깃값도 최대한 작은 값에서 시작하는 것이 정공법이다. but 가중치의 초깃값을 모두 0으로 설정하면 좋지 않다. 학습이 올바르게 이루어지지 않기 때문이다. \n",
    "오차역전파에서 모든 가중치의 값이 똑같이 갱신되는 문제 또한 발생된다. "
   ]
  },
  {
   "cell_type": "markdown",
   "id": "e1f20b12",
   "metadata": {},
   "source": [
    "## 은닉층 활성화 값 분포 \n",
    "\n"
   ]
  }
 ],
 "metadata": {
  "kernelspec": {
   "display_name": "Python 3 (ipykernel)",
   "language": "python",
   "name": "python3"
  },
  "language_info": {
   "codemirror_mode": {
    "name": "ipython",
    "version": 3
   },
   "file_extension": ".py",
   "mimetype": "text/x-python",
   "name": "python",
   "nbconvert_exporter": "python",
   "pygments_lexer": "ipython3",
   "version": "3.9.7"
  }
 },
 "nbformat": 4,
 "nbformat_minor": 5
}
