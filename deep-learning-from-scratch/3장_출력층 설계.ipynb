{
 "cells": [
  {
   "cell_type": "markdown",
   "id": "084e71ec",
   "metadata": {},
   "source": [
    "## 출력층 설계하기 "
   ]
  },
  {
   "cell_type": "markdown",
   "id": "e1938f3b",
   "metadata": {},
   "source": [
    "신경망은 분류와 회귀 모두에 이용할 수 있다. 둘 중 어떤 문제냐에 따라 출력층에서 사용하는 활성화 함수가 달라진다.\n",
    "* 회귀 : 항등함수\n",
    "* 분류 : 소프트맥스"
   ]
  },
  {
   "cell_type": "markdown",
   "id": "9e8f1576",
   "metadata": {},
   "source": [
    "### 항등함수와 소프트맥스 함수 구현 "
   ]
  },
  {
   "cell_type": "markdown",
   "id": "62f53e96",
   "metadata": {},
   "source": [
    "#### 함등함수\n",
    "입력을 그대로 출력   \n",
    "입력과 출력이 항상 같다는 뜻의 항등이다. 출력층에서 항등함수를 사용하면 입력 신호가 그래도 출력신호가 된다. \n",
    "\n",
    "<img src=\"https://blog.kakaocdn.net/dn/MZmKQ/btqLLGiiLC4/6FKq0YmyQirfHDiZbqbS20/img.png\" width=\"200\" height=\"150\"/>  \n"
   ]
  },
  {
   "cell_type": "markdown",
   "id": "750da0ff",
   "metadata": {},
   "source": [
    "#### 소프트 맥스 함수 \n",
    "\n",
    "**Equation : Softmax function**\n",
    "\n",
    "$\n",
    "\\ {y}_k = \\dfrac{\\exp(ak)}{\\sum\\limits_{i=1}^{n}{\\exp(ai)}}\n",
    "$\n",
    "\n",
    "n은 출력층의 뉴련수, $yk$는 그 중 k번째 출력임을 뜻한다.   \n",
    "소프트맥스 함수의 분자는 입력신호 $ak$의 지수함수, 분모는 모든 입력 신호의 지수함수의 합으로 구성. \n",
    "\n",
    "\n"
   ]
  },
  {
   "cell_type": "code",
   "execution_count": 1,
   "id": "50430968",
   "metadata": {},
   "outputs": [],
   "source": [
    "import numpy as np\n",
    "import pandas as pd\n",
    "import seaborn as sns\n",
    "import matplotlib.pyplot as plt\n",
    "import warnings\n",
    "warnings.filterwarnings(action='ignore')"
   ]
  },
  {
   "cell_type": "code",
   "execution_count": 2,
   "id": "3b2afd93",
   "metadata": {},
   "outputs": [
    {
     "name": "stdout",
     "output_type": "stream",
     "text": [
      "[0.01821127 0.24519181 0.73659691]\n"
     ]
    }
   ],
   "source": [
    "a = np.array([0.3,2.9, 4.0])\n",
    "\n",
    "exp_a = np.exp(a) # 지수함수\n",
    "\n",
    "sum_exp_a = np.sum(exp_a) # 지수함수의 합\n",
    "\n",
    "y = exp_a / sum_exp_a\n",
    "print(y)"
   ]
  },
  {
   "cell_type": "code",
   "execution_count": 3,
   "id": "2587bbad",
   "metadata": {},
   "outputs": [],
   "source": [
    "def soft_max(a) :\n",
    "    exp_a = np.exp(a)\n",
    "    sum_exp_a = np.sum(exp_a)\n",
    "    a = np.array([0.3,2.9, 4.0])\n",
    "    y = exp_a / sum_exp_a\n",
    "    \n",
    "    return y"
   ]
  },
  {
   "cell_type": "markdown",
   "id": "a0d6c0de",
   "metadata": {},
   "source": [
    "#### 소프트맥스 함수 구현시 주의점 \n",
    "\n",
    "오퍼플로 문제 : 컴퓨터는 4바이트나 8바이트와 같이 크기가 유한한 데이터를 다룬다. 표현할 수 있는 범위가 한정되어 너무 큰값은 표현할 수 없다느 문제 발생 \n",
    "소프트맥스 함수는 지수함수를 사용하기 때문에 큰 값을 출력한다. 큰 출력값에 나눗셈을 적용하면 결과 수치가 불안정 해짐. \n",
    "\n",
    "<img src=\"https://t1.daumcdn.net/cfile/tistory/99EFEB335D8C14752F\" width=\"300\" height=\"250\"/> \n",
    "개선한 수식 \n",
    "\n",
    "첫번째 변형에서는 C라는 임의의 정수를 분자와 분모 양쪽에 곱한다. 다음으로 C를 지수함수 exp()안으로 옮겨 logC로 만든다. 마지막으로 logC를 C'라는 새로운 기호로 바꾼다.  \n",
    "\n",
    "소프트맥스의 지수 함수를 계산할때 어떤 정수를 더해도 결과는 바뀌지 않는다. C'에 어떤값을 대입해도 상관없지만, 오버플로를 막을 목적으로는 입력 신호 중 최댓값을 이용하는 것이 일반적이다."
   ]
  },
  {
   "cell_type": "code",
   "execution_count": 4,
   "id": "aa295758",
   "metadata": {},
   "outputs": [
    {
     "data": {
      "text/plain": [
       "array([nan, nan, nan])"
      ]
     },
     "execution_count": 4,
     "metadata": {},
     "output_type": "execute_result"
    }
   ],
   "source": [
    "a = np.array([1010, 1000, 990])\n",
    "\n",
    "np.exp(a) / np.sum(np.exp(a)) # 소프트맥스 함수 계산 , 계산이 안 이루어짐 "
   ]
  },
  {
   "cell_type": "code",
   "execution_count": 5,
   "id": "4fc9acae",
   "metadata": {},
   "outputs": [
    {
     "data": {
      "text/plain": [
       "array([  0, -10, -20])"
      ]
     },
     "execution_count": 5,
     "metadata": {},
     "output_type": "execute_result"
    }
   ],
   "source": [
    "C = np.max(a) # 1010 최댓값\n",
    "\n",
    "a-C"
   ]
  },
  {
   "cell_type": "code",
   "execution_count": 6,
   "id": "883ad661",
   "metadata": {},
   "outputs": [
    {
     "data": {
      "text/plain": [
       "array([9.99954600e-01, 4.53978686e-05, 2.06106005e-09])"
      ]
     },
     "execution_count": 6,
     "metadata": {},
     "output_type": "execute_result"
    }
   ],
   "source": [
    "np.exp(a - C) / np.sum(np.exp(a - C) )  # 입력신호 중 최댓값을 빼주면 올바게 계산 "
   ]
  },
  {
   "cell_type": "code",
   "execution_count": 7,
   "id": "6026dc34",
   "metadata": {},
   "outputs": [],
   "source": [
    "def soft_max(a) :\n",
    "    C = np.max(a) \n",
    "    exp_a = np.exp(a - C) # 오버플로 대책 \n",
    "    sum_exp_a = np.sum(exp_a)\n",
    "    y = exp_a / sum_exp_a\n",
    "    \n",
    "    return y"
   ]
  },
  {
   "cell_type": "markdown",
   "id": "308fcf1d",
   "metadata": {},
   "source": [
    "#### 소프트맥스 함수의 특징  \n",
    "소프트맥스 함수의 출력은 0에서 1.0사이의 실수이다. 소프트맥스 함수 출력의 총합은 1이다. 출력총합이 1이 된다는 점은 중요한 성질 \n",
    "#### 성질 덕분에 소프트맥스 함수의 출력을 확률로 해석할 수 있다."
   ]
  },
  {
   "cell_type": "code",
   "execution_count": 8,
   "id": "33fbfffb",
   "metadata": {},
   "outputs": [
    {
     "name": "stdout",
     "output_type": "stream",
     "text": [
      "[0.01821127 0.24519181 0.73659691]\n"
     ]
    }
   ],
   "source": [
    "a = np.array([0.3,2.9,4.0])\n",
    "\n",
    "y =soft_max(a)\n",
    "print(y) \n",
    "\n",
    "# 18% , 25% , 73% 해석 가능 "
   ]
  },
  {
   "cell_type": "code",
   "execution_count": 9,
   "id": "9602c0c5",
   "metadata": {},
   "outputs": [
    {
     "data": {
      "text/plain": [
       "1.0"
      ]
     },
     "execution_count": 9,
     "metadata": {},
     "output_type": "execute_result"
    }
   ],
   "source": [
    "np.sum(y)"
   ]
  },
  {
   "cell_type": "markdown",
   "id": "6836638e",
   "metadata": {},
   "source": [
    "소프트맥스 함수를 적용해도 각 원소의 대소관계는 변하지 않는다. 지수함수 y= exp(x)가 단조증가 함수이기 때문이다.  \n",
    "신경망을 이용한 분류에서는 일반적으로 가장 큰 출력을 내는 뉴런에 해당하는 클래스로만 인식한다. 소프트맥스 함수를 적용해도 출력이 가장 큰 뉴런의 위치는 달라지지 않는다. 결과적으로 신경망으로 분류할 때는 출력층의 소프트맥스 함수를 생략해도 된다. "
   ]
  },
  {
   "cell_type": "markdown",
   "id": "5079719a",
   "metadata": {},
   "source": [
    "### 출력층의 뉴런 수 정하기  \n",
    "\n",
    "출력층의 뉴런 수는 풀려는 문제에 맞게 적절히 정해야 한다.   \n",
    "분류에서는 분류하고 싶은 클래스 수로 설정하는 것이 일반적이다. "
   ]
  },
  {
   "cell_type": "markdown",
   "id": "f2a34b22",
   "metadata": {},
   "source": [
    "### 손글씨 숫자 인식 \n",
    "\n",
    "forward propagation 순전차 추론과정 진행  \n",
    "\n",
    "기계학습과 마찬가지로 신경망도 두 단계를 거쳐 문제를 해결한다.먼저 훈련데이터를 사용해 가중치 매개변수를 설정하고,추론 단계에서는 매개변수를 사용하여 입력데이터를 분류"
   ]
  },
  {
   "cell_type": "code",
   "execution_count": 10,
   "id": "e075b82e",
   "metadata": {},
   "outputs": [
    {
     "name": "stdout",
     "output_type": "stream",
     "text": [
      "(60000, 784)\n",
      "(10000, 784)\n",
      "(60000,)\n",
      "(10000,)\n"
     ]
    }
   ],
   "source": [
    "import sys, os\n",
    "sys.path.append(os.pardir)  # 부모 디렉터리의 파일을 가져올 수 있도록 설정\n",
    "from dataset.mnist import load_mnist\n",
    "\n",
    "    \n",
    "# normalize 는 입력이지니의 픽셀값을 0.0~0.1사이의 값으로 정규화할지 결정\n",
    "# False로 설정 시 입력이미지의 픽셀이 원래 값 그대로 0~255사이의 값 유지 \n",
    "# Flatten 입력이미지를 평탄하게, 즉 1차원 배열로 만들지를 결정 \n",
    "# False로 설정하면 입력 이미지를 1X28X28의 3차원 배열로 True로 설정하면 784개의 원소로 이뤄진 1차원 배열 \n",
    "# one_hot_label은 레이블을 원핫 인코딩 형태로 저장할지 결정 \n",
    "\n",
    "(x_train, t_train), (x_test, t_test) = load_mnist(flatten=True, normalize=False)\n",
    "\n",
    "\n",
    "print(x_train.shape)\n",
    "print(x_test.shape)\n",
    "print(t_train.shape)\n",
    "print(t_test.shape)"
   ]
  },
  {
   "cell_type": "code",
   "execution_count": 11,
   "id": "9e8e5d71",
   "metadata": {},
   "outputs": [
    {
     "name": "stdout",
     "output_type": "stream",
     "text": [
      "5\n",
      "(784,)\n",
      "(28, 28)\n"
     ]
    }
   ],
   "source": [
    "import sys, os\n",
    "sys.path.append(os.pardir)  # 부모 디렉터리의 파일을 가져올 수 있도록 설정\n",
    "\n",
    "from dataset.mnist import load_mnist\n",
    "from PIL import Image\n",
    "\n",
    "\n",
    "def img_show(img):\n",
    "    pil_img = Image.fromarray(np.uint8(img))\n",
    "    pil_img.show()\n",
    "\n",
    "\n",
    "\n",
    "(x_train, t_train), (x_test, t_test) = load_mnist(flatten=True, normalize=False)\n",
    "\n",
    "img = x_train[0]\n",
    "label = t_train[0]\n",
    "print(label)  # 5\n",
    "\n",
    "print(img.shape)  # (784,)\n",
    "img = img.reshape(28, 28)  # 형상을 원래 이미지의 크기로 변형\n",
    "print(img.shape)  # (28, 28)\n",
    "\n",
    "img_show(img)"
   ]
  },
  {
   "cell_type": "markdown",
   "id": "505688f3",
   "metadata": {},
   "source": [
    "### 신경망의 추론 처리 "
   ]
  },
  {
   "cell_type": "code",
   "execution_count": 12,
   "id": "2e63e41c",
   "metadata": {},
   "outputs": [
    {
     "name": "stdout",
     "output_type": "stream",
     "text": [
      "Accuracy : 0.9352\n"
     ]
    }
   ],
   "source": [
    "from dataset.mnist import load_mnist\n",
    "import numpy as np\n",
    "import pickle\n",
    "from PIL import Image\n",
    "\n",
    "def sigmoid(x):\n",
    "    return 1 / (1 + np.exp(-x))\n",
    "\n",
    "def softmax(a):\n",
    "    c = np.max(a)\n",
    "    exp_a = np.exp(a-c)\n",
    "    sum_exp_a = np.sum(exp_a)\n",
    "    y = exp_a / sum_exp_a\n",
    "\n",
    "    return y\n",
    "\n",
    "\n",
    "# 정규화 진행 \n",
    "# 신경망의 입력 데이터에 특정 변환을 가하는 것을 전처리라고 한다. \n",
    "# 입력 이미지 데이터에 대한 적처리 작업을 정류화를 수행한 것 \n",
    "\n",
    "def get_data():\n",
    "    (x_train, t_train), (x_test, t_test) = load_mnist(flatten=True, normalize=True, one_hot_label=False)\n",
    "    return x_test, t_test\n",
    "\n",
    "\n",
    "# pickle 파일인 sample_weight.pkl에 저장된 학습된 가중치 매개변수를 읽어옴 \n",
    "def init_network():\n",
    "    with open(\"sample_weight.pkl\", 'rb') as f:\n",
    "        network = pickle.load(f)\n",
    "\n",
    "    return network\n",
    "\n",
    "\n",
    "def predict(network, x):\n",
    "    W1, W2, W3 = network['W1'], network['W2'], network['W3']\n",
    "    b1, b2, b3 = network['b1'], network['b2'], network['b3']\n",
    "\n",
    "    a1 = np.dot(x, W1) + b1\n",
    "    z1 = sigmoid(a1)\n",
    "    a2 = np.dot(z1, W2) + b2\n",
    "    z2 = sigmoid(a2)\n",
    "    a3 = np.dot(z2, W3) + b3\n",
    "    y = softmax(a3)\n",
    "\n",
    "    return y\n",
    "\n",
    "x, t = get_data()\n",
    "network = init_network()\n",
    "\n",
    "\n",
    "accuracy_cnt = 0\n",
    "\n",
    "for i in range(len(x)):\n",
    "    y = predict(network, x[i])\n",
    "    p = np.argmax(y) # 확률이 가장 높은 원소의 인덱스\n",
    "    if p == t[i]:\n",
    "        accuracy_cnt += 1\n",
    "\n",
    "\n",
    "print(\"Accuracy : \" + str(float(accuracy_cnt)/ len(x)))"
   ]
  },
  {
   "cell_type": "markdown",
   "id": "b7f2d51a",
   "metadata": {},
   "source": [
    "신경망의 입력층 뉴련을 784개, 출력층 뉴련을 10개로 구상한다. 입력층 뉴런이 784인 이유는 이미지 크기가 28*28= 784, 출력층 뉴런이 10인 이유는 이 문제가 0에서 9개 까지의 숫자를 구분하는 문제이기 때문이다.   \n",
    "\n",
    "은닉층은 총 두개로 , 첫번째 은닉층은 50개의 뉴런, 두번째 은닉층은 100개의 뉴런을 배치한다. "
   ]
  },
  {
   "cell_type": "markdown",
   "id": "934689a9",
   "metadata": {},
   "source": [
    "### 배치 처리 "
   ]
  },
  {
   "cell_type": "code",
   "execution_count": 13,
   "id": "de428209",
   "metadata": {},
   "outputs": [],
   "source": [
    "x, _ = get_data()\n",
    "network = init_network()\n",
    "\n",
    "W1, W2, W3 = network['W1'], network['W2'], network['W3']"
   ]
  },
  {
   "cell_type": "code",
   "execution_count": 14,
   "id": "f89657c0",
   "metadata": {},
   "outputs": [
    {
     "data": {
      "text/plain": [
       "(10000, 784)"
      ]
     },
     "execution_count": 14,
     "metadata": {},
     "output_type": "execute_result"
    }
   ],
   "source": [
    "x.shape"
   ]
  },
  {
   "cell_type": "code",
   "execution_count": 15,
   "id": "08b4e6d4",
   "metadata": {},
   "outputs": [
    {
     "data": {
      "text/plain": [
       "(784,)"
      ]
     },
     "execution_count": 15,
     "metadata": {},
     "output_type": "execute_result"
    }
   ],
   "source": [
    "x[0].shape"
   ]
  },
  {
   "cell_type": "code",
   "execution_count": 16,
   "id": "29dfdf00",
   "metadata": {},
   "outputs": [
    {
     "data": {
      "text/plain": [
       "(784, 50)"
      ]
     },
     "execution_count": 16,
     "metadata": {},
     "output_type": "execute_result"
    }
   ],
   "source": [
    "W1.shape"
   ]
  },
  {
   "cell_type": "code",
   "execution_count": 17,
   "id": "4b105884",
   "metadata": {},
   "outputs": [
    {
     "data": {
      "text/plain": [
       "(50, 100)"
      ]
     },
     "execution_count": 17,
     "metadata": {},
     "output_type": "execute_result"
    }
   ],
   "source": [
    "W2.shape"
   ]
  },
  {
   "cell_type": "code",
   "execution_count": 18,
   "id": "2a5e8c31",
   "metadata": {},
   "outputs": [
    {
     "data": {
      "text/plain": [
       "(100, 10)"
      ]
     },
     "execution_count": 18,
     "metadata": {},
     "output_type": "execute_result"
    }
   ],
   "source": [
    "W3.shape"
   ]
  },
  {
   "attachments": {
    "image.png": {
     "image/png": "[encoded data removed]"
    }
   },
   "cell_type": "markdown",
   "id": "1b10664c",
   "metadata": {},
   "source": [
    "![image.png](attachment:image.png)"
   ]
  },
  {
   "cell_type": "markdown",
   "id": "311b0fdf",
   "metadata": {},
   "source": [
    "전체적으로 보면 원소 784개로 구성된 1차원 배열이 입력되어 마지막에는 원소가 10개인 1차원 배열이 출력되는 흐름이다. 이미지 데이터를 1장만 입력했을 때의 처리 흐름"
   ]
  },
  {
   "attachments": {
    "image.png": {
     "image/png": "[encoded data removed]"
    }
   },
   "cell_type": "markdown",
   "id": "c230eb36",
   "metadata": {},
   "source": [
    "x의 형상을 100x784 바꿔서 100장 분량의 데이터를 하나의 입력 데이터로 표현하면 될것\n",
    "\n",
    "![image.png](attachment:image.png)\n",
    "\n",
    "입력 데이터의 형상은 100*784, 출력 데이터의 형상은 100*10이 된다. \n",
    "100장 분량 입력 데이터의 결과가 한번에 출력됨을 나타낸다.   \n",
    "\n",
    "가령 x[0]와 y[0]에는 0번째 이미지와 그 추론 결과가, x[1],y[1]에는 1번째의 이미지와 그 결과가 저장되는 식이다. \n",
    "\n",
    "**하나로 묶은 입력 데이터를 배치라고 한다.**"
   ]
  },
  {
   "cell_type": "code",
   "execution_count": 19,
   "id": "05ef1f19",
   "metadata": {},
   "outputs": [
    {
     "name": "stdout",
     "output_type": "stream",
     "text": [
      "Accuracy : 0.9352\n"
     ]
    }
   ],
   "source": [
    "x, t = get_data()\n",
    "\n",
    "network = init_network()\n",
    "\n",
    "batch_size = 100 # 배치크기\n",
    "accuracy_cnt = 0\n",
    "\n",
    "for i in range(0, len(x), batch_size) :\n",
    "    x_batch = x[i : i + batch_size]\n",
    "    y_batch = predict(network , x_batch)\n",
    "    p = np.argmax(y_batch , axis =1)\n",
    "    accuracy_cnt += np.sum(p == t[i : i +batch_size])\n",
    "    \n",
    "print(\"Accuracy : \" + str(float(accuracy_cnt)/ len(x)))"
   ]
  },
  {
   "cell_type": "markdown",
   "id": "ec054f6e",
   "metadata": {},
   "source": [
    "range() 함수가 반환하는 반복자를 바탕으로 x[i : i + batch_size]에서 입력 데이터를 묶는다.   \n",
    "x[i : i + batch_size]은 입력 데이터의 i 번째부터 i : i + batch_size번째까지의 데이터를 묶는다는 의미\n",
    "\n",
    "argmax는 최댓값의 인덱스를 가져온다. axis = 1는 100*10의 배열 중 1번째 차원을 구성하는 각 원소에서 최댓값의 인덱스를 찾도록 한 것이다. "
   ]
  },
  {
   "cell_type": "markdown",
   "id": "0a395386",
   "metadata": {},
   "source": [
    "### 정리\n",
    "\n",
    "* 신경망에서는 활성화 함수로 시그모이드 함수와 ReLU 함수 같은 매끄럽게 변화하는 함수를 이용한다.  \n",
    "* 넘파이의 다차원 배열을 잘 사용하면 신경망을 효율적으로 구현할 수 있다.기계학습 문제는 크게 회귀와 분류로 나눌 수 있다.\n",
    "* 출력층의 활성화 함수로는 회귀에서는 주로 항등 함수를, 분류에서는 주로 소프트맥스 함수를 이용한다.\n",
    "* 분류에서는 출력층의 뉴런 수를 분류하려는 클래스 수와 같게 설정한다.입력 데이터를 묶은 것을 배치라 하며, 추론 처리를 이 배치 단위로 진행하면 결과를 훨씬 빠르게 얻을 수 있다."
   ]
  }
 ],
 "metadata": {
  "kernelspec": {
   "display_name": "Python 3",
   "language": "python",
   "name": "python3"
  },
  "language_info": {
   "codemirror_mode": {
    "name": "ipython",
    "version": 3
   },
   "file_extension": ".py",
   "mimetype": "text/x-python",
   "name": "python",
   "nbconvert_exporter": "python",
   "pygments_lexer": "ipython3",
   "version": "3.8.11"
  }
 },
 "nbformat": 4,
 "nbformat_minor": 5
}
