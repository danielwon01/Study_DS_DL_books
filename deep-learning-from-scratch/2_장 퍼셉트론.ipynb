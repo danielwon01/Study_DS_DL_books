{
 "cells": [
  {
   "cell_type": "markdown",
   "id": "571b8034",
   "metadata": {},
   "source": [
    "## 퍼셉트론이란"
   ]
  },
  {
   "cell_type": "markdown",
   "id": "2da0f01c",
   "metadata": {},
   "source": [
    "퍼셉트론은 다수의 신호를 입력으로 받아 하나의 신호를 출력한다. **신호란** 전튜나 강물처럼 **흐름**이 있는 것을 상상하면 좋다. 전류가 전선을 타고 흐르는 전자를 내보내듯, 퍼셉트론 신호도 흐름을 만들고 정보를 앞으로 전달한다. 퍼셉트론 신호는 '흐른다 /안흐른다'(1,0)의 두가지 값을 가질 수 있다."
   ]
  },
  {
   "cell_type": "markdown",
   "id": "2b2efb4b",
   "metadata": {},
   "source": [
    "<img src=\"https://miro.medium.com/max/471/1*y_dt-Kj9Bg1GB9LWGRDI8Q.png\" width=\"300\" height=\"300\"/>  "
   ]
  },
  {
   "cell_type": "markdown",
   "id": "5139cdf8",
   "metadata": {},
   "source": [
    "x1, X2는 입력신호, y는 출력신호, w1, w2는 가중치를 뜻한다. 그림의 원은 뉴련 혹은 노드라고 부른다.   \n",
    "입력신호가 뉴런에 보내질 때는 각각 고유한 가중치가 곱해진다. ($w1x1w2x2$) 뉴런에서 보내온 신호의 총합이 정해진 한계를 넘어설 때만 1을 출력한다.(이를 뉴런이 활성화한다 라고 표현), 그 한계를 임계값이라고 하며 $\\theta\\$로 나타낸다."
   ]
  },
  {
   "cell_type": "markdown",
   "id": "c4e840eb",
   "metadata": {},
   "source": [
    "$\\text{y }  =\n",
    "\\begin{cases}\n",
    "0 & (w1x1 + w2x2 <=0)\\\\\n",
    "1 & (w1x1 + w2x2 > 0) \\\\\n",
    "\\end{cases}\n",
    "$\n",
    "\n",
    "퍼셉트론은 복수의 입력 신호 각각에 고유한 가중치를 부여한다. 가중치는 각 신호가 결과에 주는 영항력을 조절하는 요소로 작용한다. 즉 가중치가 클수록 해당 신호가 그만큼 더 중요함을 뜻한다."
   ]
  },
  {
   "cell_type": "markdown",
   "id": "5a21fad8",
   "metadata": {},
   "source": [
    "## 단순한 논리 회로"
   ]
  },
  {
   "cell_type": "markdown",
   "id": "a34ff09f",
   "metadata": {},
   "source": [
    "### AND 게이트\n",
    "\n",
    "AND게이트는. 입력이 둘이고 출력은 하나이다. \n",
    "\n",
    "<img src=\"https://encrypted-tbn0.gstatic.com/images?q=tbn:ANd9GcQJOsh_3r_09SqEPgLvt-gaxP1KPy4Y803b_peL1_8IIuZkiLcebtvap992BVhjYzjqN1k&usqp=CAU\" width=\"300\" height=\"300\"/>  \n",
    "\n",
    "(w1, w2, $\\theta\\$) 가 (0.5, 0.5, 0.7)일때 , 또 (0.5,0.5,0.8)이나 (1.0,1.0,1.0)때 모두 AND게이트 조건을 만족한다. 매개변수를 이렇게 설명하면 x1, x2 모두가 1일 때만 가중 신호의 총합이 주어진 임계값을 웃돌게 된다.\n"
   ]
  },
  {
   "cell_type": "markdown",
   "id": "f6bc6f10",
   "metadata": {},
   "source": [
    "### NADN 게이트와 OR 게이트\n",
    "\n",
    "NAND는 Not AND를 의미하며, 그 동작은 AND게이트의 출력을 뒤집은 것이 된다. 진리표로 나타내먄 x1, x2 모두 1일 때만 0을 출력하고 그 외에는 1을 출력한다.   \n",
    "(w1, w2, $\\theta\\$) = (-0.5,-0.5,-0.7)\n",
    "\n",
    "<img src=\"https://media.vlpt.us/images/kimkihoon0515/post/b0e519a7-b52e-4d16-985c-7273fa7798b1/image.png\" width=\"300\" height=\"300\"/>  \n"
   ]
  },
  {
   "cell_type": "markdown",
   "id": "d8ecde16",
   "metadata": {},
   "source": [
    "OR게이트는 입력 신호 중 하나 이상이 1이면 출력이 1이 되는 논리 회로이다.\n",
    "<img src=\"https://t1.daumcdn.net/cfile/tistory/99F23B4C5D6727AD30\" width=\"300\" height=\"300\"/>  \n"
   ]
  },
  {
   "cell_type": "markdown",
   "id": "0ff4bf5c",
   "metadata": {},
   "source": [
    "중요한 점은 퍼셉트론의 구조는 AND, NAND, OR 게이트 모두 똑같다는 것이다. 세가지 게이트에서 다른것은 매겨변수(가중치와 임계값)의 값뿐이다. "
   ]
  },
  {
   "cell_type": "markdown",
   "id": "f2cbffc1",
   "metadata": {},
   "source": [
    "### 퍼셉트론 구현"
   ]
  },
  {
   "cell_type": "code",
   "execution_count": 1,
   "id": "b2d8a298",
   "metadata": {},
   "outputs": [],
   "source": [
    "def AND (x1, x2) :\n",
    "    w1, w2, theta = 0.5, 0.5, 0.7\n",
    "    tmp = x1*w1 + x2*w2\n",
    "    if tmp <= theta :\n",
    "        return 0\n",
    "    elif tmp > theta :\n",
    "        return 1"
   ]
  },
  {
   "cell_type": "code",
   "execution_count": 2,
   "id": "7bf342d4",
   "metadata": {},
   "outputs": [
    {
     "name": "stdout",
     "output_type": "stream",
     "text": [
      "0\n",
      "0\n",
      "0\n",
      "1\n"
     ]
    }
   ],
   "source": [
    "print(AND(0, 0))\n",
    "print(AND(1, 0))\n",
    "print(AND(0, 1))\n",
    "print(AND(1, 1))"
   ]
  },
  {
   "cell_type": "markdown",
   "id": "1211f5e7",
   "metadata": {},
   "source": [
    "### 가중치와 편향 도입 "
   ]
  },
  {
   "cell_type": "markdown",
   "id": "4e726dcc",
   "metadata": {},
   "source": [
    "$\\text{y }  =\n",
    "\\begin{cases}\n",
    "0 & (b+w1x1 + w2x2 <=0)\\\\\n",
    "1 & (b+w1x1 + w2x2 > 0) \\\\\n",
    "\\end{cases}\n",
    "$\n",
    "\n",
    "$\\theta\\$를 -b로 치환하면 위의 퍼셉트론이 동작   \n",
    "b를 편향이라 하며 w1과 w2는 그대로 가중치 이다. 퍼셉트론은 입력신호에 가중치를 곱한 값과 편향을 합하여, 그 값이 0을 넘으면 1을 출력하고 그렇지 않으면 0을 출력한다. \n"
   ]
  },
  {
   "cell_type": "code",
   "execution_count": 3,
   "id": "3d3f2d40",
   "metadata": {},
   "outputs": [
    {
     "data": {
      "text/plain": [
       "array([0. , 0.5])"
      ]
     },
     "execution_count": 3,
     "metadata": {},
     "output_type": "execute_result"
    }
   ],
   "source": [
    "import numpy as np\n",
    "\n",
    "\n",
    "x = np.array([0,1])\n",
    "w = np.array([0.5, 0.5])\n",
    "b = -0.7\n",
    "\n",
    "w*x"
   ]
  },
  {
   "cell_type": "code",
   "execution_count": 4,
   "id": "5d363409",
   "metadata": {},
   "outputs": [
    {
     "data": {
      "text/plain": [
       "0.5"
      ]
     },
     "execution_count": 4,
     "metadata": {},
     "output_type": "execute_result"
    }
   ],
   "source": [
    "np.sum(w*x)"
   ]
  },
  {
   "cell_type": "code",
   "execution_count": 5,
   "id": "b4f3cc72",
   "metadata": {},
   "outputs": [
    {
     "data": {
      "text/plain": [
       "-0.19999999999999996"
      ]
     },
     "execution_count": 5,
     "metadata": {},
     "output_type": "execute_result"
    }
   ],
   "source": [
    "np.sum(w*x) + b"
   ]
  },
  {
   "cell_type": "code",
   "execution_count": 6,
   "id": "7a0c8f81",
   "metadata": {},
   "outputs": [],
   "source": [
    "def AND (x1, x2) :\n",
    "    x = np.array([x1,x2])\n",
    "    w = np.array([0.5, 0.5])\n",
    "    b = -0.7\n",
    "    tmp = np.sum(w*x) + b\n",
    "    \n",
    "    if tmp <= 0: \n",
    "        return 0\n",
    "    else :\n",
    "        return 1"
   ]
  },
  {
   "cell_type": "code",
   "execution_count": 7,
   "id": "587d28b0",
   "metadata": {},
   "outputs": [
    {
     "name": "stdout",
     "output_type": "stream",
     "text": [
      "(0, 0) -> 0\n",
      "(1, 0) -> 0\n",
      "(0, 1) -> 0\n",
      "(1, 1) -> 1\n"
     ]
    }
   ],
   "source": [
    "if __name__ == '__main__':\n",
    "    for xs in [(0, 0), (1, 0), (0, 1), (1, 1)]:\n",
    "        y = AND(xs[0], xs[1])\n",
    "        print(str(xs) + \" -> \" + str(y))"
   ]
  },
  {
   "cell_type": "markdown",
   "id": "a5fecb7e",
   "metadata": {},
   "source": [
    "$\\theta\\$가 편향b로 치환, **구체적으로 w1, w2는 각 입력 신호가 결과에 주는 영향력 (중요도)를 조절하는 매개변수고, 편항은 뉴런이 얼마나 쉽게 활성화(결과로 1을 출력)을 하느냐를 조정하는 매개변수 이다.**  \n",
    "예를 들어 b가 -0.1이면 각 입력 신호에 가중치를 곱한 값들의 합이 0.1을 초과할 때만 뉴련이 활성화 된다. 편향의 값은 뉴련이 얼마나 쉽게 활성화되는지를 결정한다. "
   ]
  },
  {
   "cell_type": "code",
   "execution_count": 8,
   "id": "442cef2b",
   "metadata": {},
   "outputs": [],
   "source": [
    "def NAND(x1, x2):\n",
    "    x = np.array([x1, x2])\n",
    "    w = np.array([-0.5, -0.5])\n",
    "    b = 0.7\n",
    "    tmp = np.sum(w*x) + b\n",
    "    if tmp <= 0:\n",
    "        return 0\n",
    "    else:\n",
    "        return 1"
   ]
  },
  {
   "cell_type": "code",
   "execution_count": 9,
   "id": "9b010c6e",
   "metadata": {},
   "outputs": [
    {
     "name": "stdout",
     "output_type": "stream",
     "text": [
      "(0, 0) -> 1\n",
      "(1, 0) -> 1\n",
      "(0, 1) -> 1\n",
      "(1, 1) -> 0\n"
     ]
    }
   ],
   "source": [
    "if __name__ == '__main__':\n",
    "    for xs in [(0, 0), (1, 0), (0, 1), (1, 1)]:\n",
    "        y = NAND(xs[0], xs[1])\n",
    "        print(str(xs) + \" -> \" + str(y))"
   ]
  },
  {
   "cell_type": "code",
   "execution_count": 10,
   "id": "14f07cf1",
   "metadata": {},
   "outputs": [],
   "source": [
    "def OR(x1, x2):\n",
    "    x = np.array([x1, x2])\n",
    "    w = np.array([0.5, 0.5])\n",
    "    b = -0.2\n",
    "    tmp = np.sum(w*x) + b\n",
    "    if tmp <= 0:\n",
    "        return 0\n",
    "    else:\n",
    "        return 1"
   ]
  },
  {
   "cell_type": "code",
   "execution_count": 11,
   "id": "179fead3",
   "metadata": {},
   "outputs": [
    {
     "name": "stdout",
     "output_type": "stream",
     "text": [
      "(0, 0) -> 0\n",
      "(1, 0) -> 1\n",
      "(0, 1) -> 1\n",
      "(1, 1) -> 1\n"
     ]
    }
   ],
   "source": [
    "if __name__ == '__main__':\n",
    "    for xs in [(0, 0), (1, 0), (0, 1), (1, 1)]:\n",
    "        y = OR(xs[0], xs[1])\n",
    "        print(str(xs) + \" -> \" + str(y))"
   ]
  },
  {
   "cell_type": "markdown",
   "id": "4629b543",
   "metadata": {},
   "source": [
    "### XOR 게이트  \n",
    "\n",
    "배타적 논리합이라는 논리 회로이다. x1과 x2중 한쪽이 1일 때만 1을 출력한다.  \n",
    "\n",
    "<img src=\"https://t1.daumcdn.net/cfile/tistory/997331445D67323F04\" width=\"300\" height=\"300\"/>  \n"
   ]
  },
  {
   "cell_type": "markdown",
   "id": "985add6d",
   "metadata": {},
   "source": [
    "원이 0, 삼각형이 1을 표현  \n",
    "OR 게이트에서는 직선으로 네 점을 나눌 수 있다.\n",
    "<img src=\"https://t1.daumcdn.net/cfile/tistory/99AA4F355D672D140C\" width=\"300\" height=\"300\"/>  \n"
   ]
  },
  {
   "cell_type": "markdown",
   "id": "7f80e5d6",
   "metadata": {},
   "source": [
    "XOR게이트 에서는 직선을 통해 네 점을 나눌 수 없다.\n",
    "\n",
    "<img src=\"https://t1.daumcdn.net/cfile/tistory/99248C4D5D6732AF38\" width=\"300\" height=\"300\"/>  "
   ]
  },
  {
   "cell_type": "markdown",
   "id": "d30086ef",
   "metadata": {},
   "source": [
    "### 선형과 비선형 \n",
    "\n",
    "<img src=\"https://poddeeplearning.readthedocs.io/ko/latest/%EB%B0%91%EB%B0%94%EB%8B%A5%EB%B6%80%ED%84%B0%20%EC%8B%9C%EC%9E%91%ED%95%98%EB%8A%94%20%EB%94%A5%EB%9F%AC%EB%8B%9D/2_perceptron_pulpan92_image/image4.png\" width=\"300\" height=\"300\"/>  \n",
    "\n",
    "#### 퍼셉트론은 직선하나로 나눈 영역만 표현할 수 있다는 한계가 있다. 곡선은 표현 불가 "
   ]
  },
  {
   "cell_type": "markdown",
   "id": "8cb6f253",
   "metadata": {},
   "source": [
    "### 다층 퍼셉트론 충돌\n",
    "\n",
    "안타깝게도 퍼셉트론은 XOR게이트를 표현할 수 없다. 퍼셉트론의 아름다움은 **다층 퍼셉트론**을 만들 수 있다는데 있다. "
   ]
  },
  {
   "cell_type": "markdown",
   "id": "11c5c7f2",
   "metadata": {},
   "source": [
    "#### 기존게이트 조합 \n",
    "\n",
    "AND , NAND, OR을 조합해서 XOR 게이트 생성 \n",
    "\n",
    "<img src=\"https://t1.daumcdn.net/cfile/tistory/999D814B5D675DBB37\" width=\"300\" height=\"300\"/>  \n",
    "\n",
    "\n",
    "x1, x2가 입력 신호, y가 출력 신호이다. x1, x2는 NAND와 OR게이트의 입력이 되고, NAND와 OR의 출력이 AND게이트 입력으로 이어진다."
   ]
  },
  {
   "cell_type": "code",
   "execution_count": 12,
   "id": "db73c918",
   "metadata": {},
   "outputs": [
    {
     "name": "stdout",
     "output_type": "stream",
     "text": [
      "(0, 0) -> 0\n",
      "(1, 0) -> 1\n",
      "(0, 1) -> 1\n",
      "(1, 1) -> 0\n"
     ]
    }
   ],
   "source": [
    "def XOR(x1, x2):\n",
    "    s1 = NAND(x1, x2)\n",
    "    s2 = OR(x1, x2)\n",
    "    y = AND(s1, s2)\n",
    "    return y\n",
    "\n",
    "if __name__ == '__main__':\n",
    "    for xs in [(0, 0), (1, 0), (0, 1), (1, 1)]:\n",
    "        y = XOR(xs[0], xs[1])\n",
    "        print(str(xs) + \" -> \" + str(y))"
   ]
  },
  {
   "cell_type": "markdown",
   "id": "78b835ad",
   "metadata": {},
   "source": [
    "<img src=\"https://media.vlpt.us/post-images/dscwinterstudy/754c7c20-3a21-11ea-8734-d1dac55eae87/2-13XOR%EC%9D%98-%ED%8D%BC%EC%85%89%ED%8A%B8%EB%A1%A0.png\" width=\"300\" height=\"300\"/>  \n",
    "\n",
    "2층 퍼셉트론에서는 0층에서 1층으로 신호가 전달되고, 이어서 1층에서 2층으로 신호가 전달된다.   \n",
    "\n",
    "* 0층의 두 뉴련이 입력 신호를 받아 1층의 뉴련으로 신호를 보낸다.\n",
    "* 1층의 뉴런이 2층의 뉴런으로 신호를 보내고, 2층의 뉴련은 y를 출력한다. "
   ]
  },
  {
   "cell_type": "markdown",
   "id": "db9331e5",
   "metadata": {},
   "source": [
    "#### 정리 \n",
    "\n",
    "* 퍼셉트론은 입출력을 갖춘 알고리즘이다. 입력을 주면 정해진 규칙에 따른 값을 출력한다.\n",
    "* 퍼셉트론에서는 ‘가중치’와 ‘편향’을 매개변수로 설정한다.\n",
    "* 퍼셉트론으로 AND, OR 게이트 등의 논리 회로를 표현할 수 있다.\n",
    "* XOR 게이트는 단층 퍼셉트론으로는 표현할 수 없다.\n",
    "* 2층 퍼셉트론을 이용하면 XOR 게이트를 표현할 수 있다.\n",
    "* 단층 퍼셉트론은 직선형 영역만 표현할 수 있고, 다층 퍼셉트론은 비선형 영역도 표현할 수 있다.\n",
    "* 다층 퍼셉트론은 (이론상) 컴퓨터를 표현할 수 있다."
   ]
  }
 ],
 "metadata": {
  "kernelspec": {
   "display_name": "Python 3",
   "language": "python",
   "name": "python3"
  },
  "language_info": {
   "codemirror_mode": {
    "name": "ipython",
    "version": 3
   },
   "file_extension": ".py",
   "mimetype": "text/x-python",
   "name": "python",
   "nbconvert_exporter": "python",
   "pygments_lexer": "ipython3",
   "version": "3.8.11"
  }
 },
 "nbformat": 4,
 "nbformat_minor": 5
}
