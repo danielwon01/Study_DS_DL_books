{
 "cells": [
  {
   "cell_type": "markdown",
   "id": "9f99f97b",
   "metadata": {},
   "source": [
    "## 지도학습 \n",
    "라벨링이 된 데이터를 학습시키는 것을 의미하며, 라벨링이란 데이터에 정답이 표시된 것을 의미한다. 정답 부분을 타깃데이터라고 한다.  \n",
    "\n",
    "타깃의 형태에 따라 지도학습은 세부적으로 두가지 종류로 나눌 수 있다.  \n",
    "* 타깃이 범주형인 경우 분류 문제라고 하고 ,연속형 숫자인 경우 회귀문제라고 한다. 타깃이 범주형이라는 말은 해당 데이터를 클래스 별로 구분하는 것을 의미한다.\n",
    "* 타깃이 연속형 숫자라는 말은 타깃을 특정 종류로 구분하는 것이 아닌 연속형 숫자로 예측하는 것을 의미한다. 타깃 숫자 자체를 예측하는 회귀문제에 해당 "
   ]
  },
  {
   "cell_type": "markdown",
   "id": "eb24719e",
   "metadata": {},
   "source": [
    "### K-최근접 이웃 알고리즘  \n",
    "\n",
    "비교대상이 되는 데이터 포인트 주변에 가장 가까이 존재하는 K개의 데이터와 비교해 가장 가까운 데이터 종류로 판별.    \n",
    "\n",
    "데이터를 분류하는데 K-최근접 이웃 알고리즘을 사용할 때 k=3이라고 설정한다면 새로운 데이터 포인트에서 가장 가까운 데이터 3개와 비교한 후 테스트 데이터를 판별하게 된다. 즉  K-최근접 이웃 알고리즘의 판별 결과는 k값에 따라 달라진다.  \n",
    "\n",
    "\n",
    "타깃이 연속형 숫자라면 주변 k개의 데이터의 평균값으로 예측하는 방법을 사용함으로써 KNN사용할 수 있다.  \n",
    "\n",
    "\n",
    "K-최근접 이웃 알고리즘은 학습과정에서 게으른 학습 (Lazy Learning)방법을 사용한다. 트레이닝 전체를 메모리상에 보관하면서 테스트 데이터가 새로 들어왔을때 바로 학습하는 것을 의미한다. 게으른 학습은 트레이닝 데이터 전체를 메모리에 보관하므로 추가적인 학습 시간없이, 곧바로 학습결과를 얻을 수 있다는 장점이 있다. 그러나 예측 시 메모리 상에 학습용 데이터를 항상 보관하고 있어야 하므로 메모리 용량보다 데이터가 지나치게 커서 메모리에 보관할 수 없을 경우에는 사용할 수 없다는 단점이 있다."
   ]
  },
  {
   "cell_type": "code",
   "execution_count": 1,
   "id": "6c8d134f",
   "metadata": {},
   "outputs": [],
   "source": [
    "import numpy as np\n",
    "import pandas as pd\n",
    "import seaborn as sns\n",
    "import matplotlib.pyplot as plt\n",
    "import warnings\n",
    "warnings.filterwarnings(action='ignore')"
   ]
  },
  {
   "cell_type": "code",
   "execution_count": 2,
   "id": "8d6186e4",
   "metadata": {},
   "outputs": [],
   "source": [
    "from sklearn import datasets\n",
    "\n",
    "raw_iris = datasets.load_iris()"
   ]
  },
  {
   "cell_type": "code",
   "execution_count": 3,
   "id": "07cf7639",
   "metadata": {},
   "outputs": [],
   "source": [
    "# 피쳐, 타깃 데이터 설정 \n",
    "\n",
    "X = raw_iris.data\n",
    "y = raw_iris.target"
   ]
  },
  {
   "cell_type": "code",
   "execution_count": 4,
   "id": "7d6a3a43",
   "metadata": {},
   "outputs": [],
   "source": [
    "# 트레이닝/테스트 데이터 분할 \n",
    "\n",
    "from sklearn.model_selection import train_test_split\n",
    "\n",
    "X_train, X_test , y_train, y_test = train_test_split(X, y, random_state= 42)"
   ]
  },
  {
   "cell_type": "code",
   "execution_count": 5,
   "id": "e7a66f0c",
   "metadata": {},
   "outputs": [],
   "source": [
    "# 데이터 표준화 \n",
    "\n",
    "from sklearn.preprocessing import StandardScaler\n",
    "\n",
    "std = StandardScaler()\n",
    "std.fit(X_train)\n",
    "\n",
    "X_train_std = std.transform(X_train)\n",
    "X_test_std = std.transform(X_test)"
   ]
  },
  {
   "cell_type": "code",
   "execution_count": 6,
   "id": "17bdfe6b",
   "metadata": {},
   "outputs": [
    {
     "data": {
      "text/plain": [
       "KNeighborsClassifier(n_neighbors=2)"
      ]
     },
     "execution_count": 6,
     "metadata": {},
     "output_type": "execute_result"
    }
   ],
   "source": [
    "# 데이터 학습 \n",
    "\n",
    "from sklearn.neighbors import KNeighborsClassifier\n",
    "\n",
    "knn = KNeighborsClassifier(n_neighbors=2)\n",
    "knn.fit(X_train_std, y_train)"
   ]
  },
  {
   "cell_type": "code",
   "execution_count": 7,
   "id": "fcf8ea59",
   "metadata": {},
   "outputs": [
    {
     "data": {
      "text/plain": [
       "array([1, 0, 2, 1, 1, 0, 1, 2, 1, 1, 2, 0, 0, 0, 0, 1, 2, 1, 1, 2, 0, 2,\n",
       "       0, 2, 2, 2, 1, 2, 0, 0, 0, 0, 1, 0, 0, 2, 1, 0])"
      ]
     },
     "execution_count": 7,
     "metadata": {},
     "output_type": "execute_result"
    }
   ],
   "source": [
    "# 데이터 예측 \n",
    "\n",
    "y_pred = knn.predict(X_test_std)\n",
    "y_pred"
   ]
  },
  {
   "cell_type": "code",
   "execution_count": 8,
   "id": "7c62e79d",
   "metadata": {},
   "outputs": [
    {
     "data": {
      "text/plain": [
       "0.9736842105263158"
      ]
     },
     "execution_count": 8,
     "metadata": {},
     "output_type": "execute_result"
    }
   ],
   "source": [
    "# 정확도 평가 \n",
    "\n",
    "from sklearn.metrics import accuracy_score\n",
    "\n",
    "accuracy = accuracy_score(y_test , y_pred)\n",
    "accuracy"
   ]
  },
  {
   "cell_type": "code",
   "execution_count": 9,
   "id": "385d5764",
   "metadata": {},
   "outputs": [
    {
     "data": {
      "text/plain": [
       "array([[15,  0,  0],\n",
       "       [ 0, 11,  0],\n",
       "       [ 0,  1, 11]])"
      ]
     },
     "execution_count": 9,
     "metadata": {},
     "output_type": "execute_result"
    }
   ],
   "source": [
    "from sklearn.metrics import confusion_matrix\n",
    "\n",
    "conf_matrix = confusion_matrix(y_test, y_pred)\n",
    "conf_matrix"
   ]
  },
  {
   "cell_type": "code",
   "execution_count": 10,
   "id": "2eea35a7",
   "metadata": {},
   "outputs": [
    {
     "name": "stdout",
     "output_type": "stream",
     "text": [
      "              precision    recall  f1-score   support\n",
      "\n",
      "           0       1.00      1.00      1.00        15\n",
      "           1       0.92      1.00      0.96        11\n",
      "           2       1.00      0.92      0.96        12\n",
      "\n",
      "    accuracy                           0.97        38\n",
      "   macro avg       0.97      0.97      0.97        38\n",
      "weighted avg       0.98      0.97      0.97        38\n",
      "\n"
     ]
    }
   ],
   "source": [
    "# 분류 리포트 \n",
    "\n",
    "from sklearn.metrics import classification_report\n",
    "\n",
    "class_report = classification_report(y_test, y_pred)\n",
    "print(class_report)"
   ]
  },
  {
   "cell_type": "markdown",
   "id": "2e819f40",
   "metadata": {},
   "source": [
    "### 선형회귀 분석 \n",
    "\n",
    "피처데이터와 타깃데이터 간의 선형 관계를 파악하는 알고리즘 이다.   \n",
    "선형회귀 모형에서 해야할 일은 피처 데이터 x와 타깃데이터 y를 이용해 가중치 w(or 세타) 를 구하는 것이다. \n",
    "\n",
    "**Equation: Linear Regression model prediction**\n",
    "\n",
    "$\n",
    "\\hat{y} = \\theta_0 + \\theta_1 x_1 + \\theta_2 x_2 + \\dots + \\theta_n x_n\n",
    "$\n",
    "\n",
    "\n",
    "**Equation : Linear Regression model prediction (vectorized form)**\n",
    "\n",
    "$\n",
    "\\hat{y} = h_{\\boldsymbol{\\theta}}(\\mathbf{x}) = \\boldsymbol{\\theta} \\cdot \\mathbf{x}\n",
    "$\n",
    "\n",
    "\n",
    "각 가중치 요소 하나하나가 우리가 구하려는 parameter이며, paremeter 값은 예측값에 영향을 미친다. 즉 parameter 값에 따라 예측값이 달라진다.  \n",
    "가중치는 트레이닝 데이터로부터 최소제곱법을 사용해 구할 수 있다. \n",
    "* 최소제곱법은 오차의 제곱합이 최소되는 추정량을 구하는 방법이다."
   ]
  },
  {
   "cell_type": "markdown",
   "id": "c3a9cda0",
   "metadata": {},
   "source": [
    "### 릿지 회귀분석(L2 제약식) \n",
    "\n",
    "기본적인 회귀 분석에는 제약식이 포함될 수 있다. 제약이 없으면 추정하려는 가중치 w가 폭발적으로 커질 수 있으며, 이로 인해 분산이 커지는 문제가 발생할 수 있다. \n",
    "\n",
    "$\n",
    "\\text{min}\\sum\\limits_{i=1}^{n}{(\\boldsymbol{y{(i)}}- \\mathbf{w}^T\\mathbf{x}^{(i)} })^2\n",
    "$\n",
    "\n",
    "**Equation: Ridge Regression cost function**\n",
    "\n",
    "$\n",
    "J(\\boldsymbol{\\theta}) = \\text{MSE}(\\boldsymbol{\\theta}) + \\alpha \\dfrac{1}{2}\\sum\\limits_{i=1}^{n}{\\theta_i}^2\n",
    "$\n",
    "\n",
    "피쳐데이터 행렬 X는 표준화 되어 평균이 0이고 분산은 1이며 y는 평균을 0으로 조정한 값이라고 가정\n",
    "\n"
   ]
  },
  {
   "cell_type": "markdown",
   "id": "64f1b171",
   "metadata": {},
   "source": [
    "### 라쏘 회귀분석(L1 제약식)\n",
    "\n",
    "**Equation: Lasso Regression cost function**\n",
    "\n",
    "$\n",
    "J(\\boldsymbol{\\theta}) = \\text{MSE}(\\boldsymbol{\\theta}) + \\alpha \\sum\\limits_{i=1}^{n}\\left| \\theta_i \\right|\n",
    "$\n",
    "\n"
   ]
  },
  {
   "cell_type": "markdown",
   "id": "71d682dc",
   "metadata": {},
   "source": [
    "### 엘라스틱 넷 \n",
    "릿지 회귀 분석과 라쏘 회귀 분석을 합쳐놓은 형태  \n",
    "\n",
    "**Equation : Elastic Net cost function**\n",
    "\n",
    "$\n",
    "J(\\boldsymbol{\\theta}) = \\text{MSE}(\\boldsymbol{\\theta}) + r \\alpha \\sum\\limits_{i=1}^{n}\\left| \\theta_i \\right| + \\dfrac{1 - r}{2} \\alpha \\sum\\limits_{i=1}^{n}{{\\theta_i}^2}\n",
    "$"
   ]
  },
  {
   "cell_type": "code",
   "execution_count": 11,
   "id": "a54d65d6",
   "metadata": {},
   "outputs": [],
   "source": [
    "from sklearn import datasets\n",
    "\n",
    "raw_boston = datasets.load_boston()"
   ]
  },
  {
   "cell_type": "code",
   "execution_count": 12,
   "id": "f921ab6c",
   "metadata": {},
   "outputs": [],
   "source": [
    "# 피쳐 타깃 데이터 지정 \n",
    "\n",
    "X = raw_boston.data\n",
    "y = raw_boston.target"
   ]
  },
  {
   "cell_type": "code",
   "execution_count": 13,
   "id": "3cbbef87",
   "metadata": {},
   "outputs": [],
   "source": [
    "# 트레이닝/테스트 데이터 분할 \n",
    "\n",
    "from sklearn.model_selection import train_test_split\n",
    "\n",
    "X_train, X_test , y_train, y_test = train_test_split(X, y, random_state= 42)"
   ]
  },
  {
   "cell_type": "code",
   "execution_count": 14,
   "id": "93ec9ee0",
   "metadata": {},
   "outputs": [],
   "source": [
    "# 데이터 표준화 \n",
    "\n",
    "from sklearn.preprocessing import StandardScaler\n",
    "\n",
    "std = StandardScaler()\n",
    "std.fit(X_train)\n",
    "\n",
    "X_train_std = std.transform(X_train)\n",
    "X_test_std = std.transform(X_test)"
   ]
  },
  {
   "cell_type": "code",
   "execution_count": 15,
   "id": "700a9d80",
   "metadata": {},
   "outputs": [
    {
     "data": {
      "text/plain": [
       "LinearRegression()"
      ]
     },
     "execution_count": 15,
     "metadata": {},
     "output_type": "execute_result"
    }
   ],
   "source": [
    "# 선형 회귀 분석 \n",
    "\n",
    "from sklearn.linear_model import LinearRegression\n",
    "\n",
    "lr = LinearRegression()\n",
    "lr.fit(X_train_std , y_train)"
   ]
  },
  {
   "cell_type": "code",
   "execution_count": 16,
   "id": "32ba75ff",
   "metadata": {},
   "outputs": [
    {
     "name": "stdout",
     "output_type": "stream",
     "text": [
      "[-1.06546379  0.68154987  0.33928836  0.73726309 -1.93178062  3.14172655\n",
      " -0.25586276 -2.95561026  2.21416067 -1.65127265 -2.08714915  1.15235744\n",
      " -3.69504236]\n"
     ]
    }
   ],
   "source": [
    "# 계수, 상수항 확인 \n",
    "\n",
    "print(lr.coef_)"
   ]
  },
  {
   "cell_type": "code",
   "execution_count": 17,
   "id": "109e6edd",
   "metadata": {},
   "outputs": [
    {
     "name": "stdout",
     "output_type": "stream",
     "text": [
      "22.90791556728235\n"
     ]
    }
   ],
   "source": [
    "print(lr.intercept_)"
   ]
  },
  {
   "cell_type": "code",
   "execution_count": 18,
   "id": "f271f7ff",
   "metadata": {},
   "outputs": [
    {
     "data": {
      "text/plain": [
       "Ridge(alpha=1)"
      ]
     },
     "execution_count": 18,
     "metadata": {},
     "output_type": "execute_result"
    }
   ],
   "source": [
    "# 데이터 학습 릿지\n",
    "\n",
    "from sklearn.linear_model import Ridge\n",
    "\n",
    "rg = Ridge(alpha = 1) # alpha 값은 양수여야 하며 값이 클수록 강한 제약식을 의미 \n",
    "rg.fit(X_train_std, y_train)"
   ]
  },
  {
   "cell_type": "code",
   "execution_count": 19,
   "id": "d2d45592",
   "metadata": {},
   "outputs": [
    {
     "name": "stdout",
     "output_type": "stream",
     "text": [
      "[-1.05413713  0.66437555  0.3128819   0.74118349 -1.89877304  3.14706658\n",
      " -0.25666106 -2.91851804  2.1356466  -1.58202618 -2.07557365  1.14929024\n",
      " -3.68300256]\n"
     ]
    }
   ],
   "source": [
    "# 계수, 상수항 확인 \n",
    "\n",
    "print(rg.coef_)"
   ]
  },
  {
   "cell_type": "code",
   "execution_count": 20,
   "id": "e656e139",
   "metadata": {},
   "outputs": [
    {
     "name": "stdout",
     "output_type": "stream",
     "text": [
      "22.907915567282352\n"
     ]
    }
   ],
   "source": [
    "print(rg.intercept_)"
   ]
  },
  {
   "cell_type": "code",
   "execution_count": 21,
   "id": "7dcc265b",
   "metadata": {},
   "outputs": [
    {
     "data": {
      "text/plain": [
       "Lasso(alpha=0.01)"
      ]
     },
     "execution_count": 21,
     "metadata": {},
     "output_type": "execute_result"
    }
   ],
   "source": [
    "# 데이터 학습 라쏘\n",
    "\n",
    "from sklearn.linear_model import Lasso \n",
    "\n",
    "ls = Lasso(alpha = 0.01) \n",
    "ls.fit(X_train_std ,y_train)"
   ]
  },
  {
   "cell_type": "code",
   "execution_count": 22,
   "id": "c0aad313",
   "metadata": {},
   "outputs": [
    {
     "name": "stdout",
     "output_type": "stream",
     "text": [
      "[-1.03540429  0.63553353  0.25113041  0.73857172 -1.86738302  3.14586145\n",
      " -0.23308042 -2.88652149  2.03886087 -1.48155156 -2.06661178  1.1394998\n",
      " -3.69565145]\n"
     ]
    }
   ],
   "source": [
    "# 계수, 상수항 확인 \n",
    "\n",
    "print(ls.coef_)"
   ]
  },
  {
   "cell_type": "code",
   "execution_count": 23,
   "id": "aa410cf0",
   "metadata": {},
   "outputs": [
    {
     "name": "stdout",
     "output_type": "stream",
     "text": [
      "22.907915567282352\n"
     ]
    }
   ],
   "source": [
    "print(ls.intercept_)"
   ]
  },
  {
   "cell_type": "code",
   "execution_count": 24,
   "id": "7fc19138",
   "metadata": {},
   "outputs": [
    {
     "data": {
      "text/plain": [
       "ElasticNet(alpha=0.01, l1_ratio=0.01)"
      ]
     },
     "execution_count": 24,
     "metadata": {},
     "output_type": "execute_result"
    }
   ],
   "source": [
    "# 데이터 학습 엘라스틱넷 \n",
    "\n",
    "from sklearn.linear_model import ElasticNet\n",
    "\n",
    "# alpha값은 L1제약식의 크기와 L2제약식의 크기의 합, 즉 전체 제약식의 크기 \n",
    "# l1_ratio는 전체 제약의 크기의 alpha값에서 L1제약이 차지하는 비율 , 0과 1사이의 값을 가지며 \n",
    "# 만약 l1_ratio =0 이라면 L1제약이 적용되지 않고 L2제약만 적용 \n",
    "    \n",
    "el = ElasticNet(alpha = 0.01, l1_ratio= 0.01)\n",
    "el.fit(X_train_std, y_train)"
   ]
  },
  {
   "cell_type": "code",
   "execution_count": 25,
   "id": "cc069e9b",
   "metadata": {},
   "outputs": [
    {
     "name": "stdout",
     "output_type": "stream",
     "text": [
      "[-1.03540429  0.63553353  0.25113041  0.73857172 -1.86738302  3.14586145\n",
      " -0.23308042 -2.88652149  2.03886087 -1.48155156 -2.06661178  1.1394998\n",
      " -3.69565145]\n"
     ]
    }
   ],
   "source": [
    "# 계수, 상수항 확인 \n",
    "\n",
    "print(ls.coef_)"
   ]
  },
  {
   "cell_type": "code",
   "execution_count": 26,
   "id": "458594ff",
   "metadata": {},
   "outputs": [
    {
     "name": "stdout",
     "output_type": "stream",
     "text": [
      "22.907915567282352\n"
     ]
    }
   ],
   "source": [
    "print(ls.intercept_)"
   ]
  },
  {
   "cell_type": "code",
   "execution_count": 27,
   "id": "e7e1c074",
   "metadata": {},
   "outputs": [],
   "source": [
    "# 데이터 예측 \n",
    "\n",
    "pred_lr = lr.predict(X_test_std)\n",
    "pred_rg = rg.predict(X_test_std)\n",
    "pred_ls = ls.predict(X_test_std)\n",
    "pred_el = el.predict(X_test_std)"
   ]
  },
  {
   "cell_type": "code",
   "execution_count": 28,
   "id": "acecda8e",
   "metadata": {},
   "outputs": [
    {
     "name": "stdout",
     "output_type": "stream",
     "text": [
      "LinearRegression() : 0.6844267283527132\n",
      "Ridge(alpha=1) : 0.6841670326524792\n",
      "Lasso(alpha=0.01) : 0.6841457146539833\n",
      "ElasticNet(alpha=0.01, l1_ratio=0.01) : 0.683452331563605\n"
     ]
    }
   ],
   "source": [
    "# 모형 평가 R제곱값 \n",
    "\n",
    "from sklearn.metrics import r2_score\n",
    "\n",
    "print(f\"{lr} :\",r2_score(y_test, pred_lr))\n",
    "print(f\"{rg} :\",r2_score(y_test, pred_rg))\n",
    "print(f\"{ls} :\",r2_score(y_test, pred_ls))\n",
    "print(f\"{el} :\",r2_score(y_test, pred_el))"
   ]
  },
  {
   "cell_type": "code",
   "execution_count": 29,
   "id": "3beb4962",
   "metadata": {},
   "outputs": [
    {
     "name": "stdout",
     "output_type": "stream",
     "text": [
      "LinearRegression(): 22.098694827097976\n",
      "Ridge(alpha=1): 22.116880575204664\n",
      "Lasso(alpha=0.01): 22.118373413747758\n",
      "ElasticNet(alpha=0.01, l1_ratio=0.01): 22.166929051025143\n"
     ]
    }
   ],
   "source": [
    "# 모형 평가-MSE\n",
    "from sklearn.metrics import mean_squared_error\n",
    "print(f\"{lr}:\",mean_squared_error(y_test, pred_lr))\n",
    "print(f\"{rg}:\",mean_squared_error(y_test, pred_rg))\n",
    "print(f\"{ls}:\",mean_squared_error(y_test, pred_ls))\n",
    "print(f\"{el}:\",mean_squared_error(y_test, pred_el))"
   ]
  }
 ],
 "metadata": {
  "kernelspec": {
   "display_name": "Python 3",
   "language": "python",
   "name": "python3"
  },
  "language_info": {
   "codemirror_mode": {
    "name": "ipython",
    "version": 3
   },
   "file_extension": ".py",
   "mimetype": "text/x-python",
   "name": "python",
   "nbconvert_exporter": "python",
   "pygments_lexer": "ipython3",
   "version": "3.8.11"
  }
 },
 "nbformat": 4,
 "nbformat_minor": 5
}
