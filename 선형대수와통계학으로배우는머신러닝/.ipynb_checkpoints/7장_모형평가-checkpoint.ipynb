{
 "cells": [
  {
   "cell_type": "markdown",
   "id": "bcf0c908",
   "metadata": {},
   "source": [
    "## 오버피팅과 언더피팅"
   ]
  },
  {
   "cell_type": "markdown",
   "id": "20aa4ea3",
   "metadata": {},
   "source": [
    "#### 오버피팅(overfiting) \n",
    "특정데이터셋에 과도하게 적합된것을 의미한다.  \n",
    "오버피팅이 발생하는 경우, 얼핏 정확도가 높아 보이지만 특정 데이터 셋에만 적합되어 알려지지 않은 데이터에 대한 예측력이 낮아지게 된다."
   ]
  },
  {
   "cell_type": "markdown",
   "id": "197a031b",
   "metadata": {},
   "source": [
    "#### 언더피팅(underfiting)\n",
    "데이터셋에 적합이 잘 되지 않은, 즉 과소 적합된것을 의미한다.\n",
    "트레이닝 데이터를 이용해 적합시킨 모형이 언더피팅된 경우 데이터의 특성을 잘 나타내지 못한다. 이 경우 , 트레이닝 데이터셋과 테스트 데이터셋 모두 큰 오차를 보인다."
   ]
  },
  {
   "cell_type": "markdown",
   "id": "97c7af3f",
   "metadata": {},
   "source": [
    "#### 편향 분산 트레이드오프(bias-variance tradeoff)\n",
    "이상적으로 연구자는 편향과 분산 모두 작은 것을 원한다. 하지만 편향성과 분산은 두 가지 모두를 동시에 충족시키기는 어렵다.  \n",
    "편향 분산 트레이드오프란, 편향이 낮을 수록 분산이 커지고, 반대로 편향이 높을 수록 분산이 작아지는 경향이 있다는 것을 의미한다.  \n",
    "분산이 높은 현상은 주로 복잡한 모형에 나타나는데 이는 오버피팅이 발생할 가능성이 높다는 뜻이다. 즉 복잡한 모형일 수록 오버피팅이 발생할 가능성이 높으며 이는 분산이 커진다는 것을 의미한다.  \n",
    "편향이 큰 현상을 주로 간단한 모형일 때 나타난다. 모형이 간단하다는 말을 언더피팅이 발생할 가능성이 높다는 뜻이다. 간단한 모형일 수록 언더피팅이 발생할 가능성이 높으며, 이에 따라 편향이 커질 수 있다."
   ]
  },
  {
   "cell_type": "markdown",
   "id": "7a5c7ef1",
   "metadata": {},
   "source": [
    "## 교차검증(cross-validation)"
   ]
  },
  {
   "cell_type": "markdown",
   "id": "3a778ea9",
   "metadata": {},
   "source": [
    "과적합과 과소적합을 방지하기 위해 전체 데이터셋을 트레이닝과 테스트 데이터로 분할해서 사용한다. 트레이닝셋은 모델의 훈련, 테스트셋은 모형의 성능을 평가할 때 사용하게 되는데 이 경우에도 문제가 발생한다.  \n",
    "\n",
    "머신러닝 알고리즘을 적용할 때 다양한 하이퍼파라미터에 대해 여러가지 모형 후보군을 생성하고 평가한 후 최종 모형을 선택하게 된다. **파라미터(parameter)** 는 모형내부에서 데이터에 의해 추정 되는 값이고 , **하이퍼파라미터(hyperpameter)** 는 모형 생성에 쓰이는 데이터로부터 나온 값이 아니고, 사용자가 직접 정하는 값이다. 하이퍼파라미터를 결정하는 과정에서 트레이닝 데이터와 테스트 데이터만 존재한다면 , 테스트 데이터에 의해 최종 모형의 하이퍼 파라미터가 결정되게 된다. 즉 모형의 하이퍼파라미터가 테스트 데이터에 의존한다는 의미이다."
   ]
  },
  {
   "cell_type": "markdown",
   "id": "0215f9cf",
   "metadata": {},
   "source": [
    "위 문제를 해결하기 위해 트레이닝 데이터의 일부를 validation 데이터로 사용한다. validation 데이터는 하이퍼파라미터 설정을 위해 사용한다. 즉 트레이닝 데이터는 파라미터를 구하는데 사용하고, validation 데이터는 하이퍼파라미터를 정하는데 사용"
   ]
  },
  {
   "cell_type": "markdown",
   "id": "9f35f0f1",
   "metadata": {},
   "source": [
    "전체 과정을 생각해보면 데이터셋을 트레이닝과 테스트 데이터로 분할 , 테스트셋은 최종모형을 테스트하는 데만 사용한다. 트레이닝 데이터의 일부를 validation셋으로 분할한 후 트레이닝셋을 통해 학습시켜 만든 모형을 validation셋을 이용해 하이퍼파라미터를 결정한다. 끝으로 하이퍼파라미터까지 설정한 모형을 테스트데이터를 이용해 성능을 평가한다. "
   ]
  },
  {
   "cell_type": "markdown",
   "id": "8e545238",
   "metadata": {},
   "source": [
    "### 파이프라인"
   ]
  },
  {
   "cell_type": "code",
   "execution_count": 5,
   "id": "e316dba6",
   "metadata": {},
   "outputs": [],
   "source": [
    "import numpy as np\n",
    "import pandas as pd\n",
    "import seaborn as sns\n",
    "import matplotlib.pyplot as plt\n",
    "import warnings\n",
    "warnings.filterwarnings(action='ignore')"
   ]
  },
  {
   "cell_type": "code",
   "execution_count": 7,
   "id": "59c2fef1",
   "metadata": {},
   "outputs": [
    {
     "name": "stdout",
     "output_type": "stream",
     "text": [
      "mse : 29.5151377901976\n",
      "rmse : 5.4327836134156495\n"
     ]
    }
   ],
   "source": [
    "# 파이프라인 사용전\n",
    "\n",
    "from sklearn import datasets\n",
    "from sklearn.pipeline import Pipeline\n",
    "from sklearn.preprocessing import StandardScaler\n",
    "from sklearn.linear_model import LinearRegression\n",
    "from sklearn.model_selection import train_test_split\n",
    "from sklearn.metrics import mean_squared_error\n",
    "\n",
    "boston = datasets.load_boston()\n",
    "\n",
    "X = boston.data\n",
    "y = boston.target\n",
    "\n",
    "X_train, X_test , y_train, y_test = train_test_split(X , y , random_state= 7)\n",
    "\n",
    "# 표준화 스케일링\n",
    "\n",
    "std = StandardScaler()\n",
    "X_std = std.fit_transform(X_train)\n",
    "X_tr_std = std.transform(X_test)\n",
    "\n",
    "# 학습\n",
    "\n",
    "lr = LinearRegression()\n",
    "lr.fit(X_std , y_train)\n",
    "\n",
    "# 예측\n",
    "\n",
    "y_pred = lr.predict(X_tr_std)\n",
    "\n",
    "# 평가\n",
    "\n",
    "mse = mean_squared_error(y_test , y_pred)\n",
    "rmse = np.sqrt(mse)\n",
    "\n",
    "print(\"mse : {}\".format(mse))\n",
    "print(\"rmse : {}\".format(rmse))"
   ]
  },
  {
   "cell_type": "code",
   "execution_count": 10,
   "id": "bb32ecb9",
   "metadata": {},
   "outputs": [
    {
     "name": "stdout",
     "output_type": "stream",
     "text": [
      "mse : 29.5151377901976\n",
      "rmse : 5.4327836134156495\n"
     ]
    }
   ],
   "source": [
    "# 파이프라인 사용\n",
    "\n",
    "\n",
    "X_train, X_test , y_train, y_test = train_test_split(X , y , random_state= 7)\n",
    "\n",
    "# 파이프라인\n",
    "linear_pipline = Pipeline([\n",
    "    ('scaler',StandardScaler()), \n",
    "    ('linear_regression', LinearRegression()) \n",
    "])\n",
    "\n",
    "# 학습\n",
    "linear_pipline.fit(X_train ,y_train)\n",
    "\n",
    "# 예측\n",
    "pred_linear = linear_pipline.predict(X_test)\n",
    "\n",
    "# 평가\n",
    "mse = mean_squared_error(y_test , pred_linear)\n",
    "rmse = np.sqrt(mse)\n",
    "\n",
    "\n",
    "print(\"mse : {}\".format(mse))\n",
    "print(\"rmse : {}\".format(rmse))"
   ]
  },
  {
   "cell_type": "markdown",
   "id": "9fd73c1f",
   "metadata": {},
   "source": [
    "### 그리드서치 "
   ]
  },
  {
   "cell_type": "markdown",
   "id": "49f0a551",
   "metadata": {},
   "source": [
    "머신러닝 과정에서 관심있는 매개변수들을 대상으로 학습가능하도록 만드는 방식을 의미한다. "
   ]
  },
  {
   "cell_type": "code",
   "execution_count": 11,
   "id": "9ccca869",
   "metadata": {},
   "outputs": [
    {
     "name": "stdout",
     "output_type": "stream",
     "text": [
      "{'k': 3}\n",
      "0.9736842105263158\n"
     ]
    }
   ],
   "source": [
    "# k-최근접 이웃법 \n",
    "\n",
    "from sklearn import datasets\n",
    "from sklearn.preprocessing import StandardScaler\n",
    "from sklearn.neighbors import KNeighborsClassifier\n",
    "from sklearn.model_selection import train_test_split\n",
    "\n",
    "from sklearn.metrics import accuracy_score\n",
    "from sklearn.metrics import confusion_matrix\n",
    "from sklearn.metrics import classification_report\n",
    "\n",
    "# 꽃 데이터 불러오기\n",
    "raw_iris = datasets.load_iris()\n",
    "\n",
    "# 피쳐 / 타겟\n",
    "X = raw_iris.data\n",
    "y = raw_iris.target\n",
    "\n",
    "# 트레이닝 / 테스트 데이터 분할\n",
    "X_train, X_test, y_train, y_test = train_test_split(X,y,random_state=0)\n",
    "\n",
    "# 표준화 스케일\n",
    "std_scale = StandardScaler()\n",
    "std_scale.fit(X_train)\n",
    "X_tn_std = std_scale.transform(X_train)\n",
    "X_te_std  = std_scale.transform(X_test)\n",
    "\n",
    "best_accuracy = 0\n",
    "\n",
    "for k in range(1,11):\n",
    "    clf_knn =  KNeighborsClassifier(n_neighbors=k)\n",
    "    clf_knn.fit(X_tn_std, y_tn)\n",
    "    knn_pred = clf_knn.predict(X_te_std)\n",
    "    accuracy = accuracy_score(y_te, knn_pred)\n",
    "    \n",
    "    if accuracy > best_accuracy:\n",
    "        best_accuracy = accuracy\n",
    "        final_k = {'k': k}\n",
    "    \n",
    "print(final_k)\n",
    "print(accuracy)"
   ]
  },
  {
   "cell_type": "markdown",
   "id": "e9a16215",
   "metadata": {},
   "source": []
  },
  {
   "cell_type": "code",
   "execution_count": null,
   "id": "84149faa",
   "metadata": {},
   "outputs": [],
   "source": []
  },
  {
   "cell_type": "code",
   "execution_count": null,
   "id": "9287a3f6",
   "metadata": {},
   "outputs": [],
   "source": []
  },
  {
   "cell_type": "code",
   "execution_count": null,
   "id": "baab2b94",
   "metadata": {},
   "outputs": [],
   "source": []
  },
  {
   "cell_type": "code",
   "execution_count": null,
   "id": "d9432016",
   "metadata": {},
   "outputs": [],
   "source": []
  },
  {
   "cell_type": "code",
   "execution_count": null,
   "id": "dc237be6",
   "metadata": {},
   "outputs": [],
   "source": []
  },
  {
   "cell_type": "code",
   "execution_count": null,
   "id": "e9245494",
   "metadata": {},
   "outputs": [],
   "source": []
  },
  {
   "cell_type": "code",
   "execution_count": null,
   "id": "b4918664",
   "metadata": {},
   "outputs": [],
   "source": []
  },
  {
   "cell_type": "code",
   "execution_count": null,
   "id": "0ebf956d",
   "metadata": {},
   "outputs": [],
   "source": []
  }
 ],
 "metadata": {
  "kernelspec": {
   "display_name": "Python 3 (ipykernel)",
   "language": "python",
   "name": "python3"
  },
  "language_info": {
   "codemirror_mode": {
    "name": "ipython",
    "version": 3
   },
   "file_extension": ".py",
   "mimetype": "text/x-python",
   "name": "python",
   "nbconvert_exporter": "python",
   "pygments_lexer": "ipython3",
   "version": "3.9.7"
  }
 },
 "nbformat": 4,
 "nbformat_minor": 5
}
