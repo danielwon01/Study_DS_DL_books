{
 "cells": [
  {
   "cell_type": "markdown",
   "id": "cae74707",
   "metadata": {},
   "source": [
    "### 나이브 베이즈 "
   ]
  },
  {
   "cell_type": "markdown",
   "id": "53893197",
   "metadata": {},
   "source": [
    "#### 베이즈 추정  \n",
    "확률분포의 파라미터를 상수로 보는 일반적인 빈도주의와는 달리 베이지안은 파라미터를 확률변수로 보는 방법이다.  \n",
    "베이즈 추정에서는 파라미터 $\\theta$가 확률 변수이므로 확률 $P(\\theta)$을 구할 수 있다.  \n",
    "사건이 발생하기 전 파라미터 $\\theta$의 확률인 $P(\\theta)$를 사전 확률밀도 함수라고 한다.  \n",
    "파라미터 $\\theta$가 주어질때 표본 x가 얻어질 확률을 $P(X|\\theta)$라고 표기 할 수 있다. \n",
    "\n",
    "$P(\\theta,X) = P(X|\\theta)P(\\theta)$ 파라미터 $\\theta$와 표본 x가 동시에 얻어질 확률을 계산하는 식 \n",
    "\n",
    "\n",
    "반대로 표본x가 주어질 때 파라미터 $\\theta$가 얻어질 확률\n",
    "$P(\\theta| X)= \\cfrac {P(\\theta| X)}{P(\\theta)}$    \n",
    "$P(\\theta| X)$를 사후 확률 밀도 함수라고 한다. "
   ]
  },
  {
   "cell_type": "markdown",
   "id": "e67f8044",
   "metadata": {},
   "source": [
    "서로 조건부 독립인 피처를 가정하고 베이즈 이론을 기반으로 하는 머신러닝 알고리즘이다. 확률변수 y가 주어졌을 때 확률변수, x1, x2가 조건부 독립이면 식을 만족한다. \n",
    "    \n",
    " $P(X1,X2 | Y) = P(X1 | Y)P(X2 | Y)$"
   ]
  },
  {
   "cell_type": "markdown",
   "id": "cd8bc790",
   "metadata": {},
   "source": [
    "### 나이즈 베이즈 알고리즘 "
   ]
  },
  {
   "cell_type": "code",
   "execution_count": 1,
   "id": "faf95fe0",
   "metadata": {},
   "outputs": [],
   "source": [
    "import numpy as np\n",
    "import pandas as pd\n",
    "import seaborn as sns\n",
    "import matplotlib.pyplot as plt\n",
    "import warnings\n",
    "warnings.filterwarnings(action='ignore')"
   ]
  },
  {
   "cell_type": "code",
   "execution_count": 2,
   "id": "cab48478",
   "metadata": {},
   "outputs": [],
   "source": [
    "from sklearn import datasets \n",
    "raw_wine = datasets.load_wine()"
   ]
  },
  {
   "cell_type": "code",
   "execution_count": 3,
   "id": "66fb5fe3",
   "metadata": {},
   "outputs": [],
   "source": [
    "# 피처 타깃 데이터 지정 \n",
    "X = raw_wine.data\n",
    "y = raw_wine.target"
   ]
  },
  {
   "cell_type": "code",
   "execution_count": 4,
   "id": "be42f6d5",
   "metadata": {},
   "outputs": [],
   "source": [
    "# 트레이닝/테스트 데이터 분할 \n",
    "\n",
    "from sklearn.model_selection import train_test_split\n",
    "\n",
    "X_train , X_test , y_train, y_test = train_test_split(X, y, random_state= 3)"
   ]
  },
  {
   "cell_type": "code",
   "execution_count": 5,
   "id": "89eedbd5",
   "metadata": {},
   "outputs": [],
   "source": [
    "# 데이터 표준화 \n",
    "\n",
    "from sklearn.preprocessing import StandardScaler\n",
    "\n",
    "std = StandardScaler()\n",
    "std.fit(X_train)\n",
    "\n",
    "X_std_tn = std.transform(X_train)\n",
    "X_std_te = std.transform(X_test)"
   ]
  },
  {
   "cell_type": "code",
   "execution_count": 6,
   "id": "0deb4cd8",
   "metadata": {},
   "outputs": [
    {
     "data": {
      "text/plain": [
       "GaussianNB()"
      ]
     },
     "execution_count": 6,
     "metadata": {},
     "output_type": "execute_result"
    }
   ],
   "source": [
    "# 데이터 학습 \n",
    "\n",
    "from sklearn.naive_bayes import GaussianNB\n",
    "\n",
    "gnb = GaussianNB()\n",
    "gnb.fit(X_std_tn , y_train)"
   ]
  },
  {
   "cell_type": "code",
   "execution_count": 7,
   "id": "663a39b5",
   "metadata": {},
   "outputs": [
    {
     "name": "stdout",
     "output_type": "stream",
     "text": [
      "[0 0 0 1 2 0 0 1 1 0 1 0 1 1 0 0 1 0 2 2 0 2 1 2 1 1 0 0 1 2 1 0 2 1 1 2 0\n",
      " 1 0 2 0 2 1 1 1]\n"
     ]
    }
   ],
   "source": [
    "# 데이터 예측 \n",
    "\n",
    "pred_gnb = gnb.predict(X_std_te)\n",
    "print(pred_gnb)"
   ]
  },
  {
   "cell_type": "code",
   "execution_count": 8,
   "id": "a23b65eb",
   "metadata": {},
   "outputs": [
    {
     "name": "stdout",
     "output_type": "stream",
     "text": [
      "0.9629629629629629\n"
     ]
    }
   ],
   "source": [
    "# recall 평가 \n",
    "\n",
    "from sklearn.metrics import recall_score\n",
    "\n",
    "recall = recall_score(y_test , pred_gnb, average= 'macro')\n",
    "print(recall)"
   ]
  },
  {
   "cell_type": "code",
   "execution_count": 9,
   "id": "b449df4a",
   "metadata": {},
   "outputs": [
    {
     "name": "stdout",
     "output_type": "stream",
     "text": [
      "[[17  1  0]\n",
      " [ 0 17  1]\n",
      " [ 0  0  9]]\n"
     ]
    }
   ],
   "source": [
    "# confusion metrics \n",
    "\n",
    "from sklearn.metrics import confusion_matrix\n",
    "\n",
    "conf = confusion_matrix(y_test , pred_gnb)\n",
    "print(conf)"
   ]
  },
  {
   "cell_type": "code",
   "execution_count": 10,
   "id": "473b5031",
   "metadata": {},
   "outputs": [
    {
     "name": "stdout",
     "output_type": "stream",
     "text": [
      "              precision    recall  f1-score   support\n",
      "\n",
      "           0       1.00      0.94      0.97        18\n",
      "           1       0.94      0.94      0.94        18\n",
      "           2       0.90      1.00      0.95         9\n",
      "\n",
      "    accuracy                           0.96        45\n",
      "   macro avg       0.95      0.96      0.95        45\n",
      "weighted avg       0.96      0.96      0.96        45\n",
      "\n"
     ]
    }
   ],
   "source": [
    "# 분류 리포트 \n",
    "\n",
    "from sklearn.metrics import classification_report\n",
    "\n",
    "class_report = classification_report(y_test , pred_gnb)\n",
    "print(class_report)"
   ]
  },
  {
   "cell_type": "markdown",
   "id": "5cae2db6",
   "metadata": {},
   "source": [
    "### 의사결정나무 "
   ]
  },
  {
   "cell_type": "code",
   "execution_count": 11,
   "id": "e6e1d67a",
   "metadata": {},
   "outputs": [],
   "source": [
    "raw_wine = datasets.load_wine()"
   ]
  },
  {
   "cell_type": "code",
   "execution_count": 12,
   "id": "9e73580c",
   "metadata": {},
   "outputs": [],
   "source": [
    "# 피처 타깃 데이터 지정 \n",
    "X = raw_wine.data\n",
    "y = raw_wine.target"
   ]
  },
  {
   "cell_type": "code",
   "execution_count": 13,
   "id": "528cf967",
   "metadata": {},
   "outputs": [],
   "source": [
    "# 트레이닝/테스트 데이터 분할 \n",
    "\n",
    "from sklearn.model_selection import train_test_split\n",
    "\n",
    "X_train , X_test , y_train, y_test = train_test_split(X, y, random_state= 3)"
   ]
  },
  {
   "cell_type": "code",
   "execution_count": 14,
   "id": "f83c1c2f",
   "metadata": {},
   "outputs": [],
   "source": [
    "# 데이터 표준화 \n",
    "\n",
    "from sklearn.preprocessing import StandardScaler\n",
    "\n",
    "std = StandardScaler()\n",
    "std.fit(X_train)\n",
    "\n",
    "X_std_tn = std.transform(X_train)\n",
    "X_std_te = std.transform(X_test)"
   ]
  },
  {
   "cell_type": "code",
   "execution_count": 15,
   "id": "a40488be",
   "metadata": {},
   "outputs": [
    {
     "data": {
      "text/plain": [
       "DecisionTreeClassifier(random_state=3)"
      ]
     },
     "execution_count": 15,
     "metadata": {},
     "output_type": "execute_result"
    }
   ],
   "source": [
    "# 데이터 학습 \n",
    "\n",
    "from sklearn import tree\n",
    "\n",
    "tree = tree.DecisionTreeClassifier(random_state= 3)\n",
    "tree.fit(X_std_tn , y_train)"
   ]
  },
  {
   "cell_type": "code",
   "execution_count": 16,
   "id": "821844fd",
   "metadata": {},
   "outputs": [
    {
     "name": "stdout",
     "output_type": "stream",
     "text": [
      "[0 0 0 1 2 1 0 1 1 1 1 0 1 1 0 0 1 0 2 2 0 1 1 2 0 1 0 0 1 2 1 0 2 1 1 2 0\n",
      " 1 0 2 0 2 1 1 1]\n"
     ]
    }
   ],
   "source": [
    "# 데이터 예측 \n",
    "\n",
    "pred_tree = tree.predict(X_std_te)\n",
    "print(pred_tree)"
   ]
  },
  {
   "cell_type": "code",
   "execution_count": 17,
   "id": "b9668248",
   "metadata": {},
   "outputs": [
    {
     "name": "stdout",
     "output_type": "stream",
     "text": [
      "0.8711156977410847\n"
     ]
    }
   ],
   "source": [
    "# f1 스코어 평가 \n",
    "\n",
    "from sklearn.metrics import f1_score\n",
    "\n",
    "f1 = f1_score(y_test, pred_tree , average= 'macro')\n",
    "print(f1)"
   ]
  },
  {
   "cell_type": "code",
   "execution_count": 18,
   "id": "375dc37a",
   "metadata": {},
   "outputs": [
    {
     "name": "stdout",
     "output_type": "stream",
     "text": [
      "[[15  3  0]\n",
      " [ 1 16  1]\n",
      " [ 0  1  8]]\n"
     ]
    }
   ],
   "source": [
    "# confusion metrics \n",
    "\n",
    "from sklearn.metrics import confusion_matrix\n",
    "\n",
    "conf = confusion_matrix(y_test , pred_tree)\n",
    "print(conf)"
   ]
  },
  {
   "cell_type": "code",
   "execution_count": 19,
   "id": "af41a919",
   "metadata": {},
   "outputs": [
    {
     "name": "stdout",
     "output_type": "stream",
     "text": [
      "              precision    recall  f1-score   support\n",
      "\n",
      "           0       0.94      0.83      0.88        18\n",
      "           1       0.80      0.89      0.84        18\n",
      "           2       0.89      0.89      0.89         9\n",
      "\n",
      "    accuracy                           0.87        45\n",
      "   macro avg       0.88      0.87      0.87        45\n",
      "weighted avg       0.87      0.87      0.87        45\n",
      "\n"
     ]
    }
   ],
   "source": [
    "# 분류 리포트 \n",
    "\n",
    "from sklearn.metrics import classification_report\n",
    "\n",
    "class_report = classification_report(y_test , pred_tree)\n",
    "print(class_report)"
   ]
  }
 ],
 "metadata": {
  "kernelspec": {
   "display_name": "Python 3",
   "language": "python",
   "name": "python3"
  },
  "language_info": {
   "codemirror_mode": {
    "name": "ipython",
    "version": 3
   },
   "file_extension": ".py",
   "mimetype": "text/x-python",
   "name": "python",
   "nbconvert_exporter": "python",
   "pygments_lexer": "ipython3",
   "version": "3.8.11"
  }
 },
 "nbformat": 4,
 "nbformat_minor": 5
}
