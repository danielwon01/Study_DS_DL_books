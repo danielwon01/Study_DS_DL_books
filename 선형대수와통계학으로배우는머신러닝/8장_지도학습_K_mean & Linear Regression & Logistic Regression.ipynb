{
 "cells": [
  {
   "cell_type": "markdown",
   "id": "9f99f97b",
   "metadata": {},
   "source": [
    "## 지도학습 \n",
    "라벨링이 된 데이터를 학습시키는 것을 의미하며, 라벨링이란 데이터에 정답이 표시된 것을 의미한다. 정답 부분을 타깃데이터라고 한다.  \n",
    "\n",
    "타깃의 형태에 따라 지도학습은 세부적으로 두가지 종류로 나눌 수 있다.  \n",
    "* 타깃이 범주형인 경우 분류 문제라고 하고 ,연속형 숫자인 경우 회귀문제라고 한다. 타깃이 범주형이라는 말은 해당 데이터를 클래스 별로 구분하는 것을 의미한다.\n",
    "* 타깃이 연속형 숫자라는 말은 타깃을 특정 종류로 구분하는 것이 아닌 연속형 숫자로 예측하는 것을 의미한다. 타깃 숫자 자체를 예측하는 회귀문제에 해당 "
   ]
  },
  {
   "cell_type": "markdown",
   "id": "eb24719e",
   "metadata": {},
   "source": [
    "### K-최근접 이웃 알고리즘  \n",
    "\n",
    "비교대상이 되는 데이터 포인트 주변에 가장 가까이 존재하는 K개의 데이터와 비교해 가장 가까운 데이터 종류로 판별.    \n",
    "\n",
    "데이터를 분류하는데 K-최근접 이웃 알고리즘을 사용할 때 k=3이라고 설정한다면 새로운 데이터 포인트에서 가장 가까운 데이터 3개와 비교한 후 테스트 데이터를 판별하게 된다. 즉  K-최근접 이웃 알고리즘의 판별 결과는 k값에 따라 달라진다.  \n",
    "\n",
    "\n",
    "타깃이 연속형 숫자라면 주변 k개의 데이터의 평균값으로 예측하는 방법을 사용함으로써 KNN사용할 수 있다.  \n",
    "\n",
    "\n",
    "K-최근접 이웃 알고리즘은 학습과정에서 게으른 학습 (Lazy Learning)방법을 사용한다. 트레이닝 전체를 메모리상에 보관하면서 테스트 데이터가 새로 들어왔을때 바로 학습하는 것을 의미한다. 게으른 학습은 트레이닝 데이터 전체를 메모리에 보관하므로 추가적인 학습 시간없이, 곧바로 학습결과를 얻을 수 있다는 장점이 있다. 그러나 예측 시 메모리 상에 학습용 데이터를 항상 보관하고 있어야 하므로 메모리 용량보다 데이터가 지나치게 커서 메모리에 보관할 수 없을 경우에는 사용할 수 없다는 단점이 있다."
   ]
  },
  {
   "cell_type": "code",
   "execution_count": 1,
   "id": "6c8d134f",
   "metadata": {},
   "outputs": [],
   "source": [
    "import numpy as np\n",
    "import pandas as pd\n",
    "import seaborn as sns\n",
    "import matplotlib.pyplot as plt\n",
    "import warnings\n",
    "warnings.filterwarnings(action='ignore')"
   ]
  },
  {
   "cell_type": "code",
   "execution_count": 2,
   "id": "8d6186e4",
   "metadata": {},
   "outputs": [],
   "source": [
    "from sklearn import datasets\n",
    "\n",
    "raw_iris = datasets.load_iris()"
   ]
  },
  {
   "cell_type": "code",
   "execution_count": 3,
   "id": "07cf7639",
   "metadata": {},
   "outputs": [],
   "source": [
    "# 피쳐, 타깃 데이터 설정 \n",
    "\n",
    "X = raw_iris.data\n",
    "y = raw_iris.target"
   ]
  },
  {
   "cell_type": "code",
   "execution_count": 4,
   "id": "7d6a3a43",
   "metadata": {},
   "outputs": [],
   "source": [
    "# 트레이닝/테스트 데이터 분할 \n",
    "\n",
    "from sklearn.model_selection import train_test_split\n",
    "\n",
    "X_train, X_test , y_train, y_test = train_test_split(X, y, random_state= 42)"
   ]
  },
  {
   "cell_type": "code",
   "execution_count": 5,
   "id": "e7a66f0c",
   "metadata": {},
   "outputs": [],
   "source": [
    "# 데이터 표준화 \n",
    "\n",
    "from sklearn.preprocessing import StandardScaler\n",
    "\n",
    "std = StandardScaler()\n",
    "std.fit(X_train)\n",
    "\n",
    "X_train_std = std.transform(X_train)\n",
    "X_test_std = std.transform(X_test)"
   ]
  },
  {
   "cell_type": "code",
   "execution_count": 6,
   "id": "17bdfe6b",
   "metadata": {},
   "outputs": [
    {
     "data": {
      "text/plain": [
       "KNeighborsClassifier(n_neighbors=2)"
      ]
     },
     "execution_count": 6,
     "metadata": {},
     "output_type": "execute_result"
    }
   ],
   "source": [
    "# 데이터 학습 \n",
    "\n",
    "from sklearn.neighbors import KNeighborsClassifier\n",
    "\n",
    "knn = KNeighborsClassifier(n_neighbors=2)\n",
    "knn.fit(X_train_std, y_train)"
   ]
  },
  {
   "cell_type": "code",
   "execution_count": 7,
   "id": "fcf8ea59",
   "metadata": {},
   "outputs": [
    {
     "data": {
      "text/plain": [
       "array([1, 0, 2, 1, 1, 0, 1, 2, 1, 1, 2, 0, 0, 0, 0, 1, 2, 1, 1, 2, 0, 2,\n",
       "       0, 2, 2, 2, 1, 2, 0, 0, 0, 0, 1, 0, 0, 2, 1, 0])"
      ]
     },
     "execution_count": 7,
     "metadata": {},
     "output_type": "execute_result"
    }
   ],
   "source": [
    "# 데이터 예측 \n",
    "\n",
    "y_pred = knn.predict(X_test_std)\n",
    "y_pred"
   ]
  },
  {
   "cell_type": "code",
   "execution_count": 8,
   "id": "7c62e79d",
   "metadata": {},
   "outputs": [
    {
     "data": {
      "text/plain": [
       "0.9736842105263158"
      ]
     },
     "execution_count": 8,
     "metadata": {},
     "output_type": "execute_result"
    }
   ],
   "source": [
    "# 정확도 평가 \n",
    "\n",
    "from sklearn.metrics import accuracy_score\n",
    "\n",
    "accuracy = accuracy_score(y_test , y_pred)\n",
    "accuracy"
   ]
  },
  {
   "cell_type": "code",
   "execution_count": 9,
   "id": "385d5764",
   "metadata": {},
   "outputs": [
    {
     "data": {
      "text/plain": [
       "array([[15,  0,  0],\n",
       "       [ 0, 11,  0],\n",
       "       [ 0,  1, 11]])"
      ]
     },
     "execution_count": 9,
     "metadata": {},
     "output_type": "execute_result"
    }
   ],
   "source": [
    "from sklearn.metrics import confusion_matrix\n",
    "\n",
    "conf_matrix = confusion_matrix(y_test, y_pred)\n",
    "conf_matrix"
   ]
  },
  {
   "cell_type": "code",
   "execution_count": 10,
   "id": "2eea35a7",
   "metadata": {},
   "outputs": [
    {
     "name": "stdout",
     "output_type": "stream",
     "text": [
      "              precision    recall  f1-score   support\n",
      "\n",
      "           0       1.00      1.00      1.00        15\n",
      "           1       0.92      1.00      0.96        11\n",
      "           2       1.00      0.92      0.96        12\n",
      "\n",
      "    accuracy                           0.97        38\n",
      "   macro avg       0.97      0.97      0.97        38\n",
      "weighted avg       0.98      0.97      0.97        38\n",
      "\n"
     ]
    }
   ],
   "source": [
    "# 분류 리포트 \n",
    "\n",
    "from sklearn.metrics import classification_report\n",
    "\n",
    "class_report = classification_report(y_test, y_pred)\n",
    "print(class_report)"
   ]
  },
  {
   "cell_type": "markdown",
   "id": "2e819f40",
   "metadata": {},
   "source": [
    "### 선형회귀 분석 \n",
    "\n",
    "피처데이터와 타깃데이터 간의 선형 관계를 파악하는 알고리즘 이다.   \n",
    "선형회귀 모형에서 해야할 일은 피처 데이터 x와 타깃데이터 y를 이용해 가중치 w(or 세타) 를 구하는 것이다. \n",
    "\n",
    "**Equation: Linear Regression model prediction**\n",
    "\n",
    "$\n",
    "\\hat{y} = \\theta_0 + \\theta_1 x_1 + \\theta_2 x_2 + \\dots + \\theta_n x_n\n",
    "$\n",
    "\n",
    "\n",
    "**Equation : Linear Regression model prediction (vectorized form)**\n",
    "\n",
    "$\n",
    "\\hat{y} = h_{\\boldsymbol{\\theta}}(\\mathbf{x}) = \\boldsymbol{\\theta} \\cdot \\mathbf{x}\n",
    "$\n",
    "\n",
    "\n",
    "각 가중치 요소 하나하나가 우리가 구하려는 parameter이며, paremeter 값은 예측값에 영향을 미친다. 즉 parameter 값에 따라 예측값이 달라진다.  \n",
    "가중치는 트레이닝 데이터로부터 최소제곱법을 사용해 구할 수 있다. \n",
    "* 최소제곱법은 오차의 제곱합이 최소되는 추정량을 구하는 방법이다."
   ]
  },
  {
   "cell_type": "markdown",
   "id": "c3a9cda0",
   "metadata": {},
   "source": [
    "### 릿지 회귀분석(L2 제약식) \n",
    "\n",
    "기본적인 회귀 분석에는 제약식이 포함될 수 있다. 제약이 없으면 추정하려는 가중치 w가 폭발적으로 커질 수 있으며, 이로 인해 분산이 커지는 문제가 발생할 수 있다. \n",
    "\n",
    "$\n",
    "\\text{min}\\sum\\limits_{i=1}^{n}{(\\boldsymbol{y{(i)}}- \\mathbf{w}^T\\mathbf{x}^{(i)} })^2\n",
    "$\n",
    "\n",
    "**Equation: Ridge Regression cost function**\n",
    "\n",
    "$\n",
    "J(\\boldsymbol{\\theta}) = \\text{MSE}(\\boldsymbol{\\theta}) + \\alpha \\dfrac{1}{2}\\sum\\limits_{i=1}^{n}{\\theta_i}^2\n",
    "$\n",
    "\n",
    "피쳐데이터 행렬 X는 표준화 되어 평균이 0이고 분산은 1이며 y는 평균을 0으로 조정한 값이라고 가정\n",
    "\n"
   ]
  },
  {
   "cell_type": "markdown",
   "id": "64f1b171",
   "metadata": {},
   "source": [
    "### 라쏘 회귀분석(L1 제약식)\n",
    "\n",
    "**Equation: Lasso Regression cost function**\n",
    "\n",
    "$\n",
    "J(\\boldsymbol{\\theta}) = \\text{MSE}(\\boldsymbol{\\theta}) + \\alpha \\sum\\limits_{i=1}^{n}\\left| \\theta_i \\right|\n",
    "$\n",
    "\n"
   ]
  },
  {
   "cell_type": "markdown",
   "id": "71d682dc",
   "metadata": {},
   "source": [
    "### 엘라스틱 넷 \n",
    "릿지 회귀 분석과 라쏘 회귀 분석을 합쳐놓은 형태  \n",
    "\n",
    "**Equation : Elastic Net cost function**\n",
    "\n",
    "$\n",
    "J(\\boldsymbol{\\theta}) = \\text{MSE}(\\boldsymbol{\\theta}) + r \\alpha \\sum\\limits_{i=1}^{n}\\left| \\theta_i \\right| + \\dfrac{1 - r}{2} \\alpha \\sum\\limits_{i=1}^{n}{{\\theta_i}^2}\n",
    "$"
   ]
  },
  {
   "cell_type": "code",
   "execution_count": 11,
   "id": "a54d65d6",
   "metadata": {},
   "outputs": [],
   "source": [
    "from sklearn import datasets\n",
    "\n",
    "raw_boston = datasets.load_boston()"
   ]
  },
  {
   "cell_type": "code",
   "execution_count": 12,
   "id": "f921ab6c",
   "metadata": {},
   "outputs": [],
   "source": [
    "# 피쳐 타깃 데이터 지정 \n",
    "\n",
    "X = raw_boston.data\n",
    "y = raw_boston.target"
   ]
  },
  {
   "cell_type": "code",
   "execution_count": 13,
   "id": "3cbbef87",
   "metadata": {},
   "outputs": [],
   "source": [
    "# 트레이닝/테스트 데이터 분할 \n",
    "\n",
    "from sklearn.model_selection import train_test_split\n",
    "\n",
    "X_train, X_test , y_train, y_test = train_test_split(X, y, random_state= 42)"
   ]
  },
  {
   "cell_type": "code",
   "execution_count": 14,
   "id": "93ec9ee0",
   "metadata": {},
   "outputs": [],
   "source": [
    "# 데이터 표준화 \n",
    "\n",
    "from sklearn.preprocessing import StandardScaler\n",
    "\n",
    "std = StandardScaler()\n",
    "std.fit(X_train)\n",
    "\n",
    "X_train_std = std.transform(X_train)\n",
    "X_test_std = std.transform(X_test)"
   ]
  },
  {
   "cell_type": "code",
   "execution_count": 15,
   "id": "700a9d80",
   "metadata": {},
   "outputs": [
    {
     "data": {
      "text/plain": [
       "LinearRegression()"
      ]
     },
     "execution_count": 15,
     "metadata": {},
     "output_type": "execute_result"
    }
   ],
   "source": [
    "# 선형 회귀 분석 \n",
    "\n",
    "from sklearn.linear_model import LinearRegression\n",
    "\n",
    "lr = LinearRegression()\n",
    "lr.fit(X_train_std , y_train)"
   ]
  },
  {
   "cell_type": "code",
   "execution_count": 16,
   "id": "32ba75ff",
   "metadata": {},
   "outputs": [
    {
     "name": "stdout",
     "output_type": "stream",
     "text": [
      "[-1.06546379  0.68154987  0.33928836  0.73726309 -1.93178062  3.14172655\n",
      " -0.25586276 -2.95561026  2.21416067 -1.65127265 -2.08714915  1.15235744\n",
      " -3.69504236]\n"
     ]
    }
   ],
   "source": [
    "# 계수, 상수항 확인 \n",
    "\n",
    "print(lr.coef_)"
   ]
  },
  {
   "cell_type": "code",
   "execution_count": 17,
   "id": "109e6edd",
   "metadata": {},
   "outputs": [
    {
     "name": "stdout",
     "output_type": "stream",
     "text": [
      "22.90791556728235\n"
     ]
    }
   ],
   "source": [
    "print(lr.intercept_)"
   ]
  },
  {
   "cell_type": "code",
   "execution_count": 18,
   "id": "f271f7ff",
   "metadata": {},
   "outputs": [
    {
     "data": {
      "text/plain": [
       "Ridge(alpha=1)"
      ]
     },
     "execution_count": 18,
     "metadata": {},
     "output_type": "execute_result"
    }
   ],
   "source": [
    "# 데이터 학습 릿지\n",
    "\n",
    "from sklearn.linear_model import Ridge\n",
    "\n",
    "rg = Ridge(alpha = 1) # alpha 값은 양수여야 하며 값이 클수록 강한 제약식을 의미 \n",
    "rg.fit(X_train_std, y_train)"
   ]
  },
  {
   "cell_type": "code",
   "execution_count": 19,
   "id": "d2d45592",
   "metadata": {},
   "outputs": [
    {
     "name": "stdout",
     "output_type": "stream",
     "text": [
      "[-1.05413713  0.66437555  0.3128819   0.74118349 -1.89877304  3.14706658\n",
      " -0.25666106 -2.91851804  2.1356466  -1.58202618 -2.07557365  1.14929024\n",
      " -3.68300256]\n"
     ]
    }
   ],
   "source": [
    "# 계수, 상수항 확인 \n",
    "\n",
    "print(rg.coef_)"
   ]
  },
  {
   "cell_type": "code",
   "execution_count": 20,
   "id": "e656e139",
   "metadata": {},
   "outputs": [
    {
     "name": "stdout",
     "output_type": "stream",
     "text": [
      "22.907915567282352\n"
     ]
    }
   ],
   "source": [
    "print(rg.intercept_)"
   ]
  },
  {
   "cell_type": "code",
   "execution_count": 21,
   "id": "7dcc265b",
   "metadata": {},
   "outputs": [
    {
     "data": {
      "text/plain": [
       "Lasso(alpha=0.01)"
      ]
     },
     "execution_count": 21,
     "metadata": {},
     "output_type": "execute_result"
    }
   ],
   "source": [
    "# 데이터 학습 라쏘\n",
    "\n",
    "from sklearn.linear_model import Lasso \n",
    "\n",
    "ls = Lasso(alpha = 0.01) \n",
    "ls.fit(X_train_std ,y_train)"
   ]
  },
  {
   "cell_type": "code",
   "execution_count": 22,
   "id": "c0aad313",
   "metadata": {},
   "outputs": [
    {
     "name": "stdout",
     "output_type": "stream",
     "text": [
      "[-1.03540429  0.63553353  0.25113041  0.73857172 -1.86738302  3.14586145\n",
      " -0.23308042 -2.88652149  2.03886087 -1.48155156 -2.06661178  1.1394998\n",
      " -3.69565145]\n"
     ]
    }
   ],
   "source": [
    "# 계수, 상수항 확인 \n",
    "\n",
    "print(ls.coef_)"
   ]
  },
  {
   "cell_type": "code",
   "execution_count": 23,
   "id": "aa410cf0",
   "metadata": {},
   "outputs": [
    {
     "name": "stdout",
     "output_type": "stream",
     "text": [
      "22.907915567282352\n"
     ]
    }
   ],
   "source": [
    "print(ls.intercept_)"
   ]
  },
  {
   "cell_type": "code",
   "execution_count": 24,
   "id": "7fc19138",
   "metadata": {},
   "outputs": [
    {
     "data": {
      "text/plain": [
       "ElasticNet(alpha=0.01, l1_ratio=0.01)"
      ]
     },
     "execution_count": 24,
     "metadata": {},
     "output_type": "execute_result"
    }
   ],
   "source": [
    "# 데이터 학습 엘라스틱넷 \n",
    "\n",
    "from sklearn.linear_model import ElasticNet\n",
    "\n",
    "# alpha값은 L1제약식의 크기와 L2제약식의 크기의 합, 즉 전체 제약식의 크기 \n",
    "# l1_ratio는 전체 제약의 크기의 alpha값에서 L1제약이 차지하는 비율 , 0과 1사이의 값을 가지며 \n",
    "# 만약 l1_ratio =0 이라면 L1제약이 적용되지 않고 L2제약만 적용 \n",
    "    \n",
    "el = ElasticNet(alpha = 0.01, l1_ratio= 0.01)\n",
    "el.fit(X_train_std, y_train)"
   ]
  },
  {
   "cell_type": "code",
   "execution_count": 25,
   "id": "cc069e9b",
   "metadata": {},
   "outputs": [
    {
     "name": "stdout",
     "output_type": "stream",
     "text": [
      "[-1.03540429  0.63553353  0.25113041  0.73857172 -1.86738302  3.14586145\n",
      " -0.23308042 -2.88652149  2.03886087 -1.48155156 -2.06661178  1.1394998\n",
      " -3.69565145]\n"
     ]
    }
   ],
   "source": [
    "# 계수, 상수항 확인 \n",
    "\n",
    "print(ls.coef_)"
   ]
  },
  {
   "cell_type": "code",
   "execution_count": 26,
   "id": "458594ff",
   "metadata": {},
   "outputs": [
    {
     "name": "stdout",
     "output_type": "stream",
     "text": [
      "22.907915567282352\n"
     ]
    }
   ],
   "source": [
    "print(ls.intercept_)"
   ]
  },
  {
   "cell_type": "code",
   "execution_count": 27,
   "id": "e7e1c074",
   "metadata": {},
   "outputs": [],
   "source": [
    "# 데이터 예측 \n",
    "\n",
    "pred_lr = lr.predict(X_test_std)\n",
    "pred_rg = rg.predict(X_test_std)\n",
    "pred_ls = ls.predict(X_test_std)\n",
    "pred_el = el.predict(X_test_std)"
   ]
  },
  {
   "cell_type": "code",
   "execution_count": 28,
   "id": "acecda8e",
   "metadata": {},
   "outputs": [
    {
     "name": "stdout",
     "output_type": "stream",
     "text": [
      "LinearRegression() : 0.684426728352713\n",
      "Ridge(alpha=1) : 0.6841670326524789\n",
      "Lasso(alpha=0.01) : 0.6841457146539833\n",
      "ElasticNet(alpha=0.01, l1_ratio=0.01) : 0.683452331563605\n"
     ]
    }
   ],
   "source": [
    "# 모형 평가 R제곱값 \n",
    "\n",
    "from sklearn.metrics import r2_score\n",
    "\n",
    "print(f\"{lr} :\",r2_score(y_test, pred_lr))\n",
    "print(f\"{rg} :\",r2_score(y_test, pred_rg))\n",
    "print(f\"{ls} :\",r2_score(y_test, pred_ls))\n",
    "print(f\"{el} :\",r2_score(y_test, pred_el))"
   ]
  },
  {
   "cell_type": "code",
   "execution_count": 29,
   "id": "3beb4962",
   "metadata": {},
   "outputs": [
    {
     "name": "stdout",
     "output_type": "stream",
     "text": [
      "LinearRegression(): 22.098694827097994\n",
      "Ridge(alpha=1): 22.116880575204682\n",
      "Lasso(alpha=0.01): 22.118373413747754\n",
      "ElasticNet(alpha=0.01, l1_ratio=0.01): 22.166929051025143\n"
     ]
    }
   ],
   "source": [
    "# 모형 평가-MSE\n",
    "from sklearn.metrics import mean_squared_error\n",
    "print(f\"{lr}:\",mean_squared_error(y_test, pred_lr))\n",
    "print(f\"{rg}:\",mean_squared_error(y_test, pred_rg))\n",
    "print(f\"{ls}:\",mean_squared_error(y_test, pred_ls))\n",
    "print(f\"{el}:\",mean_squared_error(y_test, pred_el))"
   ]
  },
  {
   "cell_type": "markdown",
   "id": "13525fb9",
   "metadata": {},
   "source": [
    "## 로지스틱 회귀 분석 \n",
    "\n",
    "일반적인 선형회귀 분석은 예측 문제를 풀기에는 적합하지만 분류문제를 풀기에는 적합하지 않다. 이유는 타깃데이터의 값의 범위에 제한이 없기 때문이다. \n",
    "제한이 없다는 것은 말 그대로 어떤 값이라도 가질 수 있다는 의미이다. 분류 문제는 예측값이 정해져 있기 때문에 값의 범위에 제한이 없는 경우에는 문제가 될 수 있다. 이를 해결하기 위해 사용하는 방법이 로지스틱 회귀 분석이다."
   ]
  },
  {
   "cell_type": "code",
   "execution_count": 30,
   "id": "00712583",
   "metadata": {},
   "outputs": [],
   "source": [
    "from sklearn import datasets \n",
    "\n",
    "cancer = datasets.load_breast_cancer()"
   ]
  },
  {
   "cell_type": "code",
   "execution_count": 31,
   "id": "2b983537",
   "metadata": {},
   "outputs": [],
   "source": [
    "X = cancer.data\n",
    "y = cancer.target"
   ]
  },
  {
   "cell_type": "code",
   "execution_count": 32,
   "id": "7b4f0fb6",
   "metadata": {},
   "outputs": [],
   "source": [
    "from sklearn.model_selection import train_test_split\n",
    "\n",
    "X_train, X_test , y_train, y_test = train_test_split(X, y, random_state= 42)"
   ]
  },
  {
   "cell_type": "code",
   "execution_count": 33,
   "id": "f49d4055",
   "metadata": {},
   "outputs": [],
   "source": [
    "from sklearn.preprocessing import StandardScaler\n",
    "\n",
    "std = StandardScaler()\n",
    "std.fit(X_train)\n",
    "\n",
    "X_tr_s = std.transform(X_train)\n",
    "X_te_s = std.transform(X_test)"
   ]
  },
  {
   "cell_type": "code",
   "execution_count": 34,
   "id": "94b9721d",
   "metadata": {},
   "outputs": [
    {
     "data": {
      "text/plain": [
       "LogisticRegression()"
      ]
     },
     "execution_count": 34,
     "metadata": {},
     "output_type": "execute_result"
    }
   ],
   "source": [
    "from sklearn.linear_model import LogisticRegression\n",
    "\n",
    "logi = LogisticRegression(penalty= 'l2')\n",
    "logi.fit(X_tr_s, y_train)"
   ]
  },
  {
   "cell_type": "code",
   "execution_count": 35,
   "id": "4b570022",
   "metadata": {},
   "outputs": [
    {
     "name": "stdout",
     "output_type": "stream",
     "text": [
      "[[-0.39751679 -0.41535774 -0.34832129 -0.45142016 -0.20791905  0.62039231\n",
      "  -0.73558933 -1.09376305  0.23601875  0.08357971 -1.28501592  0.22136641\n",
      "  -0.58858571 -0.89527827 -0.19689721  0.63403697 -0.14135554 -0.40058728\n",
      "   0.5262862   0.73327971 -0.84378886 -1.29571675 -0.51790962 -0.82723207\n",
      "  -0.53895662  0.12288567 -1.00748469 -0.76642547 -1.21963558 -0.14580732]]\n"
     ]
    }
   ],
   "source": [
    "print(logi.coef_)"
   ]
  },
  {
   "cell_type": "code",
   "execution_count": 36,
   "id": "a8900c97",
   "metadata": {},
   "outputs": [
    {
     "name": "stdout",
     "output_type": "stream",
     "text": [
      "[0.54105702]\n"
     ]
    }
   ],
   "source": [
    "print(logi.intercept_)"
   ]
  },
  {
   "cell_type": "code",
   "execution_count": 37,
   "id": "2a44b76c",
   "metadata": {},
   "outputs": [
    {
     "name": "stdout",
     "output_type": "stream",
     "text": [
      "[1 0 0 1 1 0 0 0 1 1 1 0 1 0 1 0 1 1 1 0 1 1 0 1 1 1 1 1 1 0 1 1 1 1 1 1 0\n",
      " 1 0 1 1 0 1 1 1 1 1 1 1 1 0 0 1 1 1 1 1 0 0 1 1 0 0 1 1 1 0 0 1 1 0 0 1 0\n",
      " 1 1 1 0 1 1 0 1 0 0 0 0 0 0 1 1 1 1 1 1 1 1 0 0 1 0 0 1 0 0 1 1 1 0 1 1 0\n",
      " 1 0 0 0 0 1 1 1 0 1 1 1 0 1 0 0 1 1 0 0 0 1 1 1 0 1 1 1 0 1 0 1]\n"
     ]
    }
   ],
   "source": [
    "pred = logi.predict(X_te_s)\n",
    "print(pred)"
   ]
  },
  {
   "cell_type": "code",
   "execution_count": 38,
   "id": "3960199b",
   "metadata": {},
   "outputs": [
    {
     "name": "stdout",
     "output_type": "stream",
     "text": [
      "[[1.24238277e-01 8.75761723e-01]\n",
      " [9.99988295e-01 1.17050665e-05]\n",
      " [9.97165822e-01 2.83417758e-03]\n",
      " [5.48565773e-04 9.99451434e-01]\n",
      " [7.34951232e-05 9.99926505e-01]\n",
      " [1.00000000e+00 1.54206144e-10]\n",
      " [9.99999997e-01 2.64735756e-09]\n",
      " [9.61426188e-01 3.85738119e-02]\n",
      " [4.17557323e-01 5.82442677e-01]\n",
      " [6.86082208e-04 9.99313918e-01]\n",
      " [5.39225160e-02 9.46077484e-01]\n",
      " [9.85197101e-01 1.48028994e-02]\n",
      " [6.17506249e-03 9.93824938e-01]\n",
      " [8.54604116e-01 1.45395884e-01]\n",
      " [2.02650620e-03 9.97973494e-01]\n",
      " [9.98272607e-01 1.72739296e-03]\n",
      " [1.98514475e-03 9.98014855e-01]\n",
      " [9.13038048e-06 9.99990870e-01]\n",
      " [7.85302915e-07 9.99999215e-01]\n",
      " [9.99998632e-01 1.36812786e-06]\n",
      " [8.04508406e-02 9.19549159e-01]\n",
      " [1.04800301e-02 9.89519970e-01]\n",
      " [9.99999994e-01 5.95892868e-09]\n",
      " [7.56596416e-05 9.99924340e-01]\n",
      " [1.06942467e-03 9.98930575e-01]\n",
      " [4.61880538e-04 9.99538119e-01]\n",
      " [1.34175578e-03 9.98658244e-01]\n",
      " [7.23689242e-03 9.92763108e-01]\n",
      " [3.28028739e-03 9.96719713e-01]\n",
      " [9.99987519e-01 1.24813854e-05]\n",
      " [7.30789368e-04 9.99269211e-01]\n",
      " [1.66933967e-04 9.99833066e-01]\n",
      " [1.69845715e-03 9.98301543e-01]\n",
      " [6.11508028e-03 9.93884920e-01]\n",
      " [1.46697089e-04 9.99853303e-01]\n",
      " [2.70021916e-03 9.97299781e-01]\n",
      " [9.27492736e-01 7.25072642e-02]\n",
      " [3.17851319e-03 9.96821487e-01]\n",
      " [9.99896780e-01 1.03219704e-04]\n",
      " [4.22831203e-02 9.57716880e-01]\n",
      " [8.68865107e-05 9.99913113e-01]\n",
      " [9.99605305e-01 3.94694938e-04]\n",
      " [3.83259431e-03 9.96167406e-01]\n",
      " [1.09769225e-03 9.98902308e-01]\n",
      " [2.05597786e-02 9.79440221e-01]\n",
      " [7.71525525e-02 9.22847447e-01]\n",
      " [4.85351929e-04 9.99514648e-01]\n",
      " [2.82758938e-04 9.99717241e-01]\n",
      " [3.61496411e-02 9.63850359e-01]\n",
      " [1.11484080e-03 9.98885159e-01]\n",
      " [9.99883262e-01 1.16737546e-04]\n",
      " [9.99999929e-01 7.11932088e-08]\n",
      " [2.95109197e-01 7.04890803e-01]\n",
      " [2.05247778e-02 9.79475222e-01]\n",
      " [2.19614252e-05 9.99978039e-01]\n",
      " [9.40924192e-03 9.90590758e-01]\n",
      " [1.22958004e-04 9.99877042e-01]\n",
      " [1.00000000e+00 1.96865657e-11]\n",
      " [8.61253675e-01 1.38746325e-01]\n",
      " [1.71587797e-04 9.99828412e-01]\n",
      " [5.74609924e-03 9.94253901e-01]\n",
      " [9.99999463e-01 5.36848824e-07]\n",
      " [9.99999998e-01 1.72100407e-09]\n",
      " [2.95414402e-02 9.70458560e-01]\n",
      " [7.21501219e-04 9.99278499e-01]\n",
      " [1.42967227e-01 8.57032773e-01]\n",
      " [9.99986683e-01 1.33172814e-05]\n",
      " [9.99999997e-01 2.91152490e-09]\n",
      " [9.01072735e-04 9.99098927e-01]\n",
      " [2.66602557e-02 9.73339744e-01]\n",
      " [9.98677228e-01 1.32277205e-03]\n",
      " [9.97878817e-01 2.12118255e-03]\n",
      " [2.45949954e-03 9.97540500e-01]\n",
      " [9.95847234e-01 4.15276646e-03]\n",
      " [4.88186940e-05 9.99951181e-01]\n",
      " [1.24031116e-02 9.87596888e-01]\n",
      " [1.64640495e-02 9.83535951e-01]\n",
      " [5.38270892e-01 4.61729108e-01]\n",
      " [2.98273584e-05 9.99970173e-01]\n",
      " [1.90006521e-02 9.80999348e-01]\n",
      " [9.95167527e-01 4.83247313e-03]\n",
      " [5.96015344e-05 9.99940398e-01]\n",
      " [8.12277345e-01 1.87722655e-01]\n",
      " [9.99999993e-01 7.30282622e-09]\n",
      " [9.94741959e-01 5.25804061e-03]\n",
      " [9.98671807e-01 1.32819306e-03]\n",
      " [9.99862577e-01 1.37422563e-04]\n",
      " [9.99775137e-01 2.24862520e-04]\n",
      " [2.04256550e-04 9.99795743e-01]\n",
      " [4.34264636e-03 9.95657354e-01]\n",
      " [6.84076659e-03 9.93159233e-01]\n",
      " [3.71515095e-01 6.28484905e-01]\n",
      " [3.28864989e-02 9.67113501e-01]\n",
      " [1.81727318e-04 9.99818273e-01]\n",
      " [3.05282486e-04 9.99694718e-01]\n",
      " [1.21201032e-04 9.99878799e-01]\n",
      " [9.99999190e-01 8.10032025e-07]\n",
      " [9.99998811e-01 1.18874344e-06]\n",
      " [9.88068082e-05 9.99901193e-01]\n",
      " [9.99627501e-01 3.72499098e-04]\n",
      " [9.96535516e-01 3.46448389e-03]\n",
      " [1.66705589e-06 9.99998333e-01]\n",
      " [9.99973386e-01 2.66135312e-05]\n",
      " [9.99251148e-01 7.48851742e-04]\n",
      " [7.84935085e-03 9.92150649e-01]\n",
      " [3.92209483e-02 9.60779052e-01]\n",
      " [5.04390058e-03 9.94956099e-01]\n",
      " [1.00000000e+00 2.05421993e-10]\n",
      " [1.44138705e-01 8.55861295e-01]\n",
      " [3.60164464e-02 9.63983554e-01]\n",
      " [9.99293124e-01 7.06876052e-04]\n",
      " [1.70213503e-03 9.98297865e-01]\n",
      " [5.13221869e-01 4.86778131e-01]\n",
      " [1.00000000e+00 1.64469390e-12]\n",
      " [8.06178233e-01 1.93821767e-01]\n",
      " [9.99999996e-01 4.01367074e-09]\n",
      " [4.67886082e-06 9.99995321e-01]\n",
      " [4.23306288e-02 9.57669371e-01]\n",
      " [2.44392833e-05 9.99975561e-01]\n",
      " [9.99907112e-01 9.28882226e-05]\n",
      " [1.83182037e-04 9.99816818e-01]\n",
      " [5.28943215e-04 9.99471057e-01]\n",
      " [5.61234592e-03 9.94387654e-01]\n",
      " [9.99897571e-01 1.02429447e-04]\n",
      " [6.88532416e-02 9.31146758e-01]\n",
      " [9.99999743e-01 2.56695426e-07]\n",
      " [9.99439592e-01 5.60408455e-04]\n",
      " [9.90247124e-04 9.99009753e-01]\n",
      " [1.48593675e-03 9.98514063e-01]\n",
      " [9.99998178e-01 1.82197091e-06]\n",
      " [9.99999989e-01 1.07247325e-08]\n",
      " [9.99997952e-01 2.04789106e-06]\n",
      " [7.62938361e-03 9.92370616e-01]\n",
      " [1.65280979e-03 9.98347190e-01]\n",
      " [2.08557397e-02 9.79144260e-01]\n",
      " [9.96047075e-01 3.95292530e-03]\n",
      " [2.68920744e-01 7.31079256e-01]\n",
      " [7.76321890e-03 9.92236781e-01]\n",
      " [2.14447255e-01 7.85552745e-01]\n",
      " [9.99270962e-01 7.29038108e-04]\n",
      " [2.50652677e-03 9.97493473e-01]\n",
      " [9.99999993e-01 6.86526610e-09]\n",
      " [3.38250154e-05 9.99966175e-01]]\n"
     ]
    }
   ],
   "source": [
    "# 클래스 확률로 예측 \n",
    "\n",
    "pred_proba = logi.predict_proba(X_te_s)\n",
    "print(pred_proba)"
   ]
  },
  {
   "cell_type": "code",
   "execution_count": 39,
   "id": "5f830f2b",
   "metadata": {},
   "outputs": [
    {
     "name": "stdout",
     "output_type": "stream",
     "text": [
      "0.9886363636363636\n"
     ]
    }
   ],
   "source": [
    "from sklearn.metrics import precision_score\n",
    "\n",
    "p = precision_score(y_test, pred)\n",
    "print(p)"
   ]
  },
  {
   "cell_type": "code",
   "execution_count": 40,
   "id": "c91c0cdc",
   "metadata": {},
   "outputs": [
    {
     "name": "stdout",
     "output_type": "stream",
     "text": [
      "[[53  1]\n",
      " [ 2 87]]\n"
     ]
    }
   ],
   "source": [
    "from sklearn.metrics import confusion_matrix\n",
    "\n",
    "c_matrix = confusion_matrix(y_test , pred)\n",
    "print(c_matrix)"
   ]
  },
  {
   "cell_type": "code",
   "execution_count": 41,
   "id": "43d0a1a0",
   "metadata": {},
   "outputs": [
    {
     "name": "stdout",
     "output_type": "stream",
     "text": [
      "              precision    recall  f1-score   support\n",
      "\n",
      "           0       0.96      0.98      0.97        54\n",
      "           1       0.99      0.98      0.98        89\n",
      "\n",
      "    accuracy                           0.98       143\n",
      "   macro avg       0.98      0.98      0.98       143\n",
      "weighted avg       0.98      0.98      0.98       143\n",
      "\n"
     ]
    }
   ],
   "source": [
    "from sklearn.metrics import classification_report\n",
    "\n",
    "c_report = classification_report(y_test , pred)\n",
    "print(c_report)"
   ]
  }
 ],
 "metadata": {
  "kernelspec": {
   "display_name": "Python 3 (ipykernel)",
   "language": "python",
   "name": "python3"
  },
  "language_info": {
   "codemirror_mode": {
    "name": "ipython",
    "version": 3
   },
   "file_extension": ".py",
   "mimetype": "text/x-python",
   "name": "python",
   "nbconvert_exporter": "python",
   "pygments_lexer": "ipython3",
   "version": "3.9.7"
  }
 },
 "nbformat": 4,
 "nbformat_minor": 5
}
